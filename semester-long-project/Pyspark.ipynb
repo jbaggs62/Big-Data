{
 "cells": [
  {
   "cell_type": "code",
   "execution_count": 1,
   "id": "ebb1f19e-195a-428f-99d9-34098d854cfc",
   "metadata": {
    "tags": []
   },
   "outputs": [
    {
     "name": "stdout",
     "output_type": "stream",
     "text": [
      "Defaulting to user installation because normal site-packages is not writeable\n",
      "Requirement already satisfied: imbalanced-learn in /home/jb-admin/.local/lib/python3.10/site-packages (0.10.1)\n",
      "Requirement already satisfied: joblib>=1.1.1 in /home/jb-admin/.local/lib/python3.10/site-packages (from imbalanced-learn) (1.2.0)\n",
      "Requirement already satisfied: scipy>=1.3.2 in /home/jb-admin/.local/lib/python3.10/site-packages (from imbalanced-learn) (1.10.1)\n",
      "Requirement already satisfied: numpy>=1.17.3 in /home/jb-admin/.local/lib/python3.10/site-packages (from imbalanced-learn) (1.24.2)\n",
      "Requirement already satisfied: threadpoolctl>=2.0.0 in /home/jb-admin/.local/lib/python3.10/site-packages (from imbalanced-learn) (3.1.0)\n",
      "Requirement already satisfied: scikit-learn>=1.0.2 in /home/jb-admin/.local/lib/python3.10/site-packages (from imbalanced-learn) (1.2.2)\n",
      "Note: you may need to restart the kernel to use updated packages.\n"
     ]
    }
   ],
   "source": [
    "pip install imbalanced-learn"
   ]
  },
  {
   "cell_type": "code",
   "execution_count": 211,
   "id": "eb38e99d-0ae1-42da-91fa-b2a1ec7d0d62",
   "metadata": {
    "tags": []
   },
   "outputs": [],
   "source": [
    "from pyspark.ml.tuning import ParamGridBuilder, CrossValidator\n",
    "from pyspark.ml.evaluation import BinaryClassificationEvaluator\n",
    "from pyspark.ml import Pipeline\n",
    "from pyspark.ml.feature import VectorAssembler, StringIndexer, OneHotEncoder, StandardScaler\n",
    "from pyspark.ml.classification import LogisticRegression\n",
    "from pyspark.sql.types import IntegerType"
   ]
  },
  {
   "cell_type": "code",
   "execution_count": 87,
   "id": "78b69138-d063-4a4c-aa87-3c8c2bbc0aa4",
   "metadata": {
    "tags": []
   },
   "outputs": [],
   "source": [
    "spark = SparkSession.builder \\\n",
    "    .appName(\"Insurance Fraud Detection\") \\\n",
    "    .getOrCreate()\n"
   ]
  },
  {
   "cell_type": "code",
   "execution_count": 125,
   "id": "1ca456d7-8f97-4354-84ec-80c3b69c3a5b",
   "metadata": {},
   "outputs": [],
   "source": [
    "data = spark.read.csv(\"/home/jb-admin/data/insurance_fraud_claims.csv\", header=True, inferSchema=True)"
   ]
  },
  {
   "cell_type": "code",
   "execution_count": 126,
   "id": "5f3aed5e-7503-4886-9bc7-cad91c11a400",
   "metadata": {
    "tags": []
   },
   "outputs": [],
   "source": [
    "data = data.withColumn(\"policy_annual_premium\", col(\"policy_annual_premium\").cast(\"integer\"))\n"
   ]
  },
  {
   "cell_type": "code",
   "execution_count": null,
   "id": "2058bf68-bc63-477a-8de8-cf957dbff0d3",
   "metadata": {},
   "outputs": [],
   "source": [
    "categorical_cols = [\n",
    "    'insured_sex', 'insured_education_level', 'insured_occupation',\n",
    "    'incident_type', 'collision_type', 'incident_severity',\n",
    "    'authorities_contacted', 'property_damage', 'police_report_available'\n",
    "]\n",
    "numerical_cols = ['age', 'policy_deductable',  'umbrella_limit', 'incident_hour_of_the_day', 'number_of_vehicles_involved', 'bodily_injuries', 'witnesses', 'total_claim_amount']"
   ]
  },
  {
   "cell_type": "code",
   "execution_count": 212,
   "id": "9dd1418d-baa2-4ec2-9c20-a437adf3432f",
   "metadata": {
    "tags": []
   },
   "outputs": [],
   "source": [
    "data = data.withColumn(\"fraud_reported\", col(\"fraud_reported\").cast(IntegerType()))"
   ]
  },
  {
   "cell_type": "code",
   "execution_count": 213,
   "id": "9adf3aed-cb9e-4e82-95a2-12655ae5928a",
   "metadata": {
    "tags": []
   },
   "outputs": [],
   "source": [
    "def get_mode(data, column_name):\n",
    "    mode_value = data.groupBy(column_name).count().orderBy(col(\"count\").desc()).first()[0]\n",
    "    return mode_value\n",
    "\n",
    "mode_values = {}\n",
    "for col_name in categorical_cols:\n",
    "    mode_values[col_name] = get_mode(data, col_name)\n",
    "\n",
    "# Fill missing values with the mode\n",
    "data = data.fillna(mode_values)"
   ]
  },
  {
   "cell_type": "code",
   "execution_count": 214,
   "id": "03a32031-7411-4770-b771-1747fde46482",
   "metadata": {
    "tags": []
   },
   "outputs": [],
   "source": [
    "data = data.drop(\n",
    "    'policy_number', 'policy_bind_date', 'policy_state', 'policy_csl', 'policy_annual_premium', 'insured_zip',\n",
    "    'insured_hobbies', 'insured_relationship', 'capital-gains', 'capital-loss', 'incident_date', 'incident_state',\n",
    "    'incident_city', 'incident_location', 'injury_claim', 'property_claim', 'vehicle_claim', 'auto_make', 'auto_model',\n",
    "    'auto_year', '_c39'\n",
    ")\n"
   ]
  },
  {
   "cell_type": "code",
   "execution_count": 215,
   "id": "112b7a86-cb1a-4f44-87b2-2d45f7118777",
   "metadata": {
    "tags": []
   },
   "outputs": [],
   "source": [
    "indexers = [StringIndexer(inputCol=col, outputCol=f\"{col}_index\", handleInvalid='keep') for col in categorical_cols]\n",
    "encoders = [OneHotEncoder(inputCol=f\"{col}_index\", outputCol=f\"{col}_encoded\") for col in categorical_cols]\n",
    "assembler = VectorAssembler(inputCols=[f\"{col}_encoded\" for col in categorical_cols] + numerical_cols, outputCol=\"features\")\n",
    "scaler = StandardScaler(inputCol=\"features\", outputCol=\"scaled_features\", withStd=True, withMean=False)\n"
   ]
  },
  {
   "cell_type": "code",
   "execution_count": 216,
   "id": "501be794-c21b-4b2d-b6b3-e99f80141b70",
   "metadata": {
    "tags": []
   },
   "outputs": [],
   "source": [
    "lr = LogisticRegression(labelCol=\"fraud_reported\", featuresCol=\"scaled_features\", maxIter=10)"
   ]
  },
  {
   "cell_type": "code",
   "execution_count": 217,
   "id": "ccc0442d-a241-489f-8893-5d75a2881c56",
   "metadata": {
    "tags": []
   },
   "outputs": [],
   "source": [
    "pipeline_lr = Pipeline(stages=indexers + encoders + [assembler, scaler, lr])"
   ]
  },
  {
   "cell_type": "code",
   "execution_count": 218,
   "id": "b5a0e216-5276-43b3-af6a-34b358da46db",
   "metadata": {
    "tags": []
   },
   "outputs": [
    {
     "ename": "TypeError",
     "evalue": "key must be float, int, or string, but got <class 'NoneType'>",
     "output_type": "error",
     "traceback": [
      "\u001b[0;31m---------------------------------------------------------------------------\u001b[0m",
      "\u001b[0;31mTypeError\u001b[0m                                 Traceback (most recent call last)",
      "Cell \u001b[0;32mIn[218], line 11\u001b[0m\n\u001b[1;32m      7\u001b[0m     test_data \u001b[38;5;241m=\u001b[39m data\u001b[38;5;241m.\u001b[39msubtract(train_data)\n\u001b[1;32m      9\u001b[0m     \u001b[38;5;28;01mreturn\u001b[39;00m train_data, test_data\n\u001b[0;32m---> 11\u001b[0m train_data, test_data \u001b[38;5;241m=\u001b[39m \u001b[43mstratified_split\u001b[49m\u001b[43m(\u001b[49m\u001b[43mdata\u001b[49m\u001b[43m,\u001b[49m\u001b[43m \u001b[49m\u001b[38;5;124;43m'\u001b[39;49m\u001b[38;5;124;43mfraud_reported\u001b[39;49m\u001b[38;5;124;43m'\u001b[39;49m\u001b[43m,\u001b[49m\u001b[43m \u001b[49m\u001b[43mtest_size\u001b[49m\u001b[38;5;241;43m=\u001b[39;49m\u001b[38;5;241;43m0.3\u001b[39;49m\u001b[43m,\u001b[49m\u001b[43m \u001b[49m\u001b[43mseed\u001b[49m\u001b[38;5;241;43m=\u001b[39;49m\u001b[38;5;241;43m123\u001b[39;49m\u001b[43m)\u001b[49m\n",
      "Cell \u001b[0;32mIn[218], line 6\u001b[0m, in \u001b[0;36mstratified_split\u001b[0;34m(data, label_col, test_size, seed)\u001b[0m\n\u001b[1;32m      3\u001b[0m class_counts \u001b[38;5;241m=\u001b[39m data\u001b[38;5;241m.\u001b[39mgroupBy(label_col)\u001b[38;5;241m.\u001b[39mcount()\u001b[38;5;241m.\u001b[39mcollect()\n\u001b[1;32m      4\u001b[0m fractions \u001b[38;5;241m=\u001b[39m {row[label_col]: (\u001b[38;5;241m1\u001b[39m \u001b[38;5;241m-\u001b[39m test_size) \u001b[38;5;28;01mif\u001b[39;00m row[\u001b[38;5;124m\"\u001b[39m\u001b[38;5;124mcount\u001b[39m\u001b[38;5;124m\"\u001b[39m] \u001b[38;5;241m/\u001b[39m total_count \u001b[38;5;241m>\u001b[39m test_size \u001b[38;5;28;01melse\u001b[39;00m test_size \u001b[38;5;28;01mfor\u001b[39;00m row \u001b[38;5;129;01min\u001b[39;00m class_counts}\n\u001b[0;32m----> 6\u001b[0m train_data \u001b[38;5;241m=\u001b[39m \u001b[43mdata\u001b[49m\u001b[38;5;241;43m.\u001b[39;49m\u001b[43msampleBy\u001b[49m\u001b[43m(\u001b[49m\u001b[43mlabel_col\u001b[49m\u001b[43m,\u001b[49m\u001b[43m \u001b[49m\u001b[43mfractions\u001b[49m\u001b[43m,\u001b[49m\u001b[43m \u001b[49m\u001b[43mseed\u001b[49m\u001b[38;5;241;43m=\u001b[39;49m\u001b[43mseed\u001b[49m\u001b[43m)\u001b[49m\n\u001b[1;32m      7\u001b[0m test_data \u001b[38;5;241m=\u001b[39m data\u001b[38;5;241m.\u001b[39msubtract(train_data)\n\u001b[1;32m      9\u001b[0m \u001b[38;5;28;01mreturn\u001b[39;00m train_data, test_data\n",
      "File \u001b[0;32m~/.local/lib/python3.10/site-packages/pyspark/sql/dataframe.py:1331\u001b[0m, in \u001b[0;36mDataFrame.sampleBy\u001b[0;34m(self, col, fractions, seed)\u001b[0m\n\u001b[1;32m   1329\u001b[0m \u001b[38;5;28;01mfor\u001b[39;00m k, v \u001b[38;5;129;01min\u001b[39;00m fractions\u001b[38;5;241m.\u001b[39mitems():\n\u001b[1;32m   1330\u001b[0m     \u001b[38;5;28;01mif\u001b[39;00m \u001b[38;5;129;01mnot\u001b[39;00m \u001b[38;5;28misinstance\u001b[39m(k, (\u001b[38;5;28mfloat\u001b[39m, \u001b[38;5;28mint\u001b[39m, \u001b[38;5;28mstr\u001b[39m)):\n\u001b[0;32m-> 1331\u001b[0m         \u001b[38;5;28;01mraise\u001b[39;00m \u001b[38;5;167;01mTypeError\u001b[39;00m(\u001b[38;5;124m\"\u001b[39m\u001b[38;5;124mkey must be float, int, or string, but got \u001b[39m\u001b[38;5;132;01m%r\u001b[39;00m\u001b[38;5;124m\"\u001b[39m \u001b[38;5;241m%\u001b[39m \u001b[38;5;28mtype\u001b[39m(k))\n\u001b[1;32m   1332\u001b[0m     fractions[k] \u001b[38;5;241m=\u001b[39m \u001b[38;5;28mfloat\u001b[39m(v)\n\u001b[1;32m   1333\u001b[0m col \u001b[38;5;241m=\u001b[39m col\u001b[38;5;241m.\u001b[39m_jc\n",
      "\u001b[0;31mTypeError\u001b[0m: key must be float, int, or string, but got <class 'NoneType'>"
     ]
    }
   ],
   "source": [
    "\n",
    "def stratified_split(data, label_col, test_size=0.3, seed=None):\n",
    "    total_count = data.count()\n",
    "    class_counts = data.groupBy(label_col).count().collect()\n",
    "    fractions = {row[label_col]: (1 - test_size) if row[\"count\"] / total_count > test_size else test_size for row in class_counts}\n",
    "    \n",
    "    train_data = data.sampleBy(label_col, fractions, seed=seed)\n",
    "    test_data = data.subtract(train_data)\n",
    "    \n",
    "    return train_data, test_data\n",
    "\n",
    "train_data, test_data = stratified_split(data, 'fraud_reported', test_size=0.3, seed=123)\n",
    "\n"
   ]
  },
  {
   "cell_type": "code",
   "execution_count": null,
   "id": "d1d077fd-2067-44a1-a23f-49af0a03da39",
   "metadata": {
    "tags": []
   },
   "outputs": [],
   "source": [
    "# Define the grid search parameters\n",
    "param_grid = ParamGridBuilder() \\\n",
    "    .addGrid(lr.regParam, [0.01, 0.05, 0.1]) \\\n",
    "    .addGrid(lr.elasticNetParam, [0.0, 0.5, 1.0]) \\\n",
    "    .build()\n"
   ]
  },
  {
   "cell_type": "code",
   "execution_count": null,
   "id": "3db8d891-3cb5-414b-a9b9-732872b2cbf9",
   "metadata": {
    "tags": []
   },
   "outputs": [],
   "source": [
    "evaluator = BinaryClassificationEvaluator(rawPredictionCol=\"rawPrediction\", labelCol=\"fraud_reported\")"
   ]
  },
  {
   "cell_type": "code",
   "execution_count": null,
   "id": "f9d503e2-a842-4de7-be8e-ea4a72628d3e",
   "metadata": {
    "tags": []
   },
   "outputs": [],
   "source": [
    "# Fit cross-validated model\n",
    "cv_lr = CrossValidator(estimator=pipeline_lr, estimatorParamMaps=param_grid, evaluator=evaluator, numFolds=3)\n",
    "cv_lr_model = cv_lr.fit(train_data)"
   ]
  },
  {
   "cell_type": "code",
   "execution_count": null,
   "id": "6bc2b957-f061-4018-994b-db74fce390af",
   "metadata": {
    "tags": []
   },
   "outputs": [],
   "source": [
    "# Print out the performance metrics\n",
    "print(\"Logistic Regression\")\n",
    "print(\"Area under ROC curve (train): \", evaluator.evaluate(cv_lr_model.transform(train_data)))\n",
    "print(\"Area under ROC curve (test): \", evaluator.evaluate(cv_lr_model.transform(test_data)))\n",
    "print(\"Best params: \", cv_lr_model.bestModel.stages[-1]._java_obj.parent().getEstimatorParamMaps().values()[cv_lr_model.bestModel.getEstimatorParamMaps().keys().index(cv_lr_model.bestModel.getEstimatorParamMap())])"
   ]
  }
 ],
 "metadata": {
  "kernelspec": {
   "display_name": "Python 3 (ipykernel)",
   "language": "python",
   "name": "python3"
  },
  "language_info": {
   "codemirror_mode": {
    "name": "ipython",
    "version": 3
   },
   "file_extension": ".py",
   "mimetype": "text/x-python",
   "name": "python",
   "nbconvert_exporter": "python",
   "pygments_lexer": "ipython3",
   "version": "3.10.6"
  }
 },
 "nbformat": 4,
 "nbformat_minor": 5
}
