{
 "cells": [
  {
   "cell_type": "code",
   "execution_count": 2,
   "id": "7a180b29-57ac-4d72-908d-cc588903143a",
   "metadata": {
    "tags": []
   },
   "outputs": [
    {
     "name": "stdout",
     "output_type": "stream",
     "text": [
      "Defaulting to user installation because normal site-packages is not writeable\n",
      "Requirement already satisfied: numpy in /home/jb-admin/.local/lib/python3.10/site-packages (1.24.2)\n",
      "Requirement already satisfied: pandas in /home/jb-admin/.local/lib/python3.10/site-packages (2.0.0)\n",
      "Requirement already satisfied: seaborn in /home/jb-admin/.local/lib/python3.10/site-packages (0.12.2)\n",
      "Requirement already satisfied: matplotlib in /home/jb-admin/.local/lib/python3.10/site-packages (3.7.1)\n",
      "Requirement already satisfied: scikit-learn in /home/jb-admin/.local/lib/python3.10/site-packages (1.2.2)\n",
      "Requirement already satisfied: imblearn in /home/jb-admin/.local/lib/python3.10/site-packages (0.0)\n",
      "Requirement already satisfied: xgboost in /home/jb-admin/.local/lib/python3.10/site-packages (1.7.5)\n",
      "Requirement already satisfied: pytz>=2020.1 in /home/jb-admin/.local/lib/python3.10/site-packages (from pandas) (2022.7.1)\n",
      "Requirement already satisfied: tzdata>=2022.1 in /home/jb-admin/.local/lib/python3.10/site-packages (from pandas) (2023.3)\n",
      "Requirement already satisfied: python-dateutil>=2.8.2 in /home/jb-admin/.local/lib/python3.10/site-packages (from pandas) (2.8.2)\n",
      "Requirement already satisfied: pyparsing>=2.3.1 in /usr/lib/python3/dist-packages (from matplotlib) (2.4.7)\n",
      "Requirement already satisfied: packaging>=20.0 in /home/jb-admin/.local/lib/python3.10/site-packages (from matplotlib) (23.0)\n",
      "Requirement already satisfied: contourpy>=1.0.1 in /home/jb-admin/.local/lib/python3.10/site-packages (from matplotlib) (1.0.7)\n",
      "Requirement already satisfied: cycler>=0.10 in /home/jb-admin/.local/lib/python3.10/site-packages (from matplotlib) (0.11.0)\n",
      "Requirement already satisfied: pillow>=6.2.0 in /home/jb-admin/.local/lib/python3.10/site-packages (from matplotlib) (9.5.0)\n",
      "Requirement already satisfied: kiwisolver>=1.0.1 in /home/jb-admin/.local/lib/python3.10/site-packages (from matplotlib) (1.4.4)\n",
      "Requirement already satisfied: fonttools>=4.22.0 in /home/jb-admin/.local/lib/python3.10/site-packages (from matplotlib) (4.39.3)\n",
      "Requirement already satisfied: threadpoolctl>=2.0.0 in /home/jb-admin/.local/lib/python3.10/site-packages (from scikit-learn) (3.1.0)\n",
      "Requirement already satisfied: joblib>=1.1.1 in /home/jb-admin/.local/lib/python3.10/site-packages (from scikit-learn) (1.2.0)\n",
      "Requirement already satisfied: scipy>=1.3.2 in /home/jb-admin/.local/lib/python3.10/site-packages (from scikit-learn) (1.10.1)\n",
      "Requirement already satisfied: imbalanced-learn in /home/jb-admin/.local/lib/python3.10/site-packages (from imblearn) (0.10.1)\n",
      "Requirement already satisfied: six>=1.5 in /usr/lib/python3/dist-packages (from python-dateutil>=2.8.2->pandas) (1.16.0)\n",
      "Note: you may need to restart the kernel to use updated packages.\n"
     ]
    }
   ],
   "source": [
    "pip install numpy pandas seaborn matplotlib scikit-learn imblearn xgboost"
   ]
  },
  {
   "cell_type": "code",
   "execution_count": 3,
   "id": "23f8c1e9-0495-428a-8884-8f64a1430212",
   "metadata": {},
   "outputs": [],
   "source": [
    "import numpy as np\n",
    "import pandas as pd\n",
    "import seaborn as sns\n",
    "import matplotlib.pyplot as plt\n",
    "from sklearn.metrics import RocCurveDisplay,roc_auc_score,roc_curve\n",
    "from sklearn import metrics\n",
    "import pickle\n",
    "%matplotlib inline\n",
    "\n",
    "#Train test Split\n",
    "from sklearn.model_selection import train_test_split\n",
    "\n",
    "#Applying Standardization\n",
    "from sklearn.preprocessing import StandardScaler\n",
    "\n",
    "#OneHotEncoding\n",
    "from sklearn.preprocessing import OneHotEncoder\n",
    "\n",
    "#Dealing with imbalanced dataset SMOTENC\n",
    "from imblearn.over_sampling import SMOTENC\n",
    "\n",
    "#Models\n",
    "from sklearn.linear_model import LogisticRegression\n",
    "from sklearn.svm import SVC\n",
    "from sklearn.neighbors import KNeighborsClassifier\n",
    "from sklearn.tree import DecisionTreeClassifier\n",
    "from sklearn.ensemble import RandomForestClassifier\n",
    "from sklearn.ensemble import AdaBoostClassifier\n",
    "from sklearn.ensemble import GradientBoostingClassifier\n",
    "from xgboost import XGBClassifier\n",
    "\n",
    "#Metrics\n",
    "from sklearn.metrics import accuracy_score, confusion_matrix, classification_report\n",
    "\n",
    "#Hyperparameter Tuning\n",
    "from sklearn.model_selection import GridSearchCV"
   ]
  },
  {
   "cell_type": "code",
   "execution_count": 4,
   "id": "be25b3cc-2304-4c63-b151-995cad5cac9a",
   "metadata": {
    "tags": []
   },
   "outputs": [],
   "source": [
    "df = pd.read_csv(\"~/data/insurance_fraud_claims.csv\")"
   ]
  },
  {
   "cell_type": "code",
   "execution_count": 5,
   "id": "8a983ee3-422f-4ff0-b008-1d9fba243c88",
   "metadata": {
    "tags": []
   },
   "outputs": [
    {
     "name": "stdout",
     "output_type": "stream",
     "text": [
      "<class 'pandas.core.frame.DataFrame'>\n",
      "RangeIndex: 1000 entries, 0 to 999\n",
      "Data columns (total 40 columns):\n",
      " #   Column                       Non-Null Count  Dtype  \n",
      "---  ------                       --------------  -----  \n",
      " 0   months_as_customer           1000 non-null   int64  \n",
      " 1   age                          1000 non-null   int64  \n",
      " 2   policy_number                1000 non-null   int64  \n",
      " 3   policy_bind_date             1000 non-null   object \n",
      " 4   policy_state                 1000 non-null   object \n",
      " 5   policy_csl                   1000 non-null   object \n",
      " 6   policy_deductable            1000 non-null   int64  \n",
      " 7   policy_annual_premium        1000 non-null   float64\n",
      " 8   umbrella_limit               1000 non-null   int64  \n",
      " 9   insured_zip                  1000 non-null   int64  \n",
      " 10  insured_sex                  1000 non-null   object \n",
      " 11  insured_education_level      1000 non-null   object \n",
      " 12  insured_occupation           1000 non-null   object \n",
      " 13  insured_hobbies              1000 non-null   object \n",
      " 14  insured_relationship         1000 non-null   object \n",
      " 15  capital-gains                1000 non-null   int64  \n",
      " 16  capital-loss                 1000 non-null   int64  \n",
      " 17  incident_date                1000 non-null   object \n",
      " 18  incident_type                1000 non-null   object \n",
      " 19  collision_type               1000 non-null   object \n",
      " 20  incident_severity            1000 non-null   object \n",
      " 21  authorities_contacted        909 non-null    object \n",
      " 22  incident_state               1000 non-null   object \n",
      " 23  incident_city                1000 non-null   object \n",
      " 24  incident_location            1000 non-null   object \n",
      " 25  incident_hour_of_the_day     1000 non-null   int64  \n",
      " 26  number_of_vehicles_involved  1000 non-null   int64  \n",
      " 27  property_damage              1000 non-null   object \n",
      " 28  bodily_injuries              1000 non-null   int64  \n",
      " 29  witnesses                    1000 non-null   int64  \n",
      " 30  police_report_available      1000 non-null   object \n",
      " 31  total_claim_amount           1000 non-null   int64  \n",
      " 32  injury_claim                 1000 non-null   int64  \n",
      " 33  property_claim               1000 non-null   int64  \n",
      " 34  vehicle_claim                1000 non-null   int64  \n",
      " 35  auto_make                    1000 non-null   object \n",
      " 36  auto_model                   1000 non-null   object \n",
      " 37  auto_year                    1000 non-null   int64  \n",
      " 38  fraud_reported               1000 non-null   object \n",
      " 39  _c39                         0 non-null      float64\n",
      "dtypes: float64(2), int64(17), object(21)\n",
      "memory usage: 312.6+ KB\n"
     ]
    }
   ],
   "source": [
    "df\n",
    "df.info()"
   ]
  },
  {
   "cell_type": "code",
   "execution_count": 6,
   "id": "b59fc5a3-0c6d-46d0-9903-4c3369c2aa1d",
   "metadata": {
    "tags": []
   },
   "outputs": [
    {
     "data": {
      "text/html": [
       "<div>\n",
       "<style scoped>\n",
       "    .dataframe tbody tr th:only-of-type {\n",
       "        vertical-align: middle;\n",
       "    }\n",
       "\n",
       "    .dataframe tbody tr th {\n",
       "        vertical-align: top;\n",
       "    }\n",
       "\n",
       "    .dataframe thead th {\n",
       "        text-align: right;\n",
       "    }\n",
       "</style>\n",
       "<table border=\"1\" class=\"dataframe\">\n",
       "  <thead>\n",
       "    <tr style=\"text-align: right;\">\n",
       "      <th></th>\n",
       "      <th>months_as_customer</th>\n",
       "      <th>age</th>\n",
       "      <th>policy_number</th>\n",
       "      <th>policy_deductable</th>\n",
       "      <th>policy_annual_premium</th>\n",
       "      <th>umbrella_limit</th>\n",
       "      <th>insured_zip</th>\n",
       "      <th>capital-gains</th>\n",
       "      <th>capital-loss</th>\n",
       "      <th>incident_hour_of_the_day</th>\n",
       "      <th>number_of_vehicles_involved</th>\n",
       "      <th>bodily_injuries</th>\n",
       "      <th>witnesses</th>\n",
       "      <th>total_claim_amount</th>\n",
       "      <th>injury_claim</th>\n",
       "      <th>property_claim</th>\n",
       "      <th>vehicle_claim</th>\n",
       "      <th>auto_year</th>\n",
       "      <th>_c39</th>\n",
       "    </tr>\n",
       "  </thead>\n",
       "  <tbody>\n",
       "    <tr>\n",
       "      <th>count</th>\n",
       "      <td>1000.000000</td>\n",
       "      <td>1000.000000</td>\n",
       "      <td>1000.000000</td>\n",
       "      <td>1000.000000</td>\n",
       "      <td>1000.000000</td>\n",
       "      <td>1.000000e+03</td>\n",
       "      <td>1000.000000</td>\n",
       "      <td>1000.000000</td>\n",
       "      <td>1000.000000</td>\n",
       "      <td>1000.000000</td>\n",
       "      <td>1000.00000</td>\n",
       "      <td>1000.000000</td>\n",
       "      <td>1000.000000</td>\n",
       "      <td>1000.00000</td>\n",
       "      <td>1000.000000</td>\n",
       "      <td>1000.000000</td>\n",
       "      <td>1000.000000</td>\n",
       "      <td>1000.000000</td>\n",
       "      <td>0.0</td>\n",
       "    </tr>\n",
       "    <tr>\n",
       "      <th>mean</th>\n",
       "      <td>203.954000</td>\n",
       "      <td>38.948000</td>\n",
       "      <td>546238.648000</td>\n",
       "      <td>1136.000000</td>\n",
       "      <td>1256.406150</td>\n",
       "      <td>1.101000e+06</td>\n",
       "      <td>501214.488000</td>\n",
       "      <td>25126.100000</td>\n",
       "      <td>-26793.700000</td>\n",
       "      <td>11.644000</td>\n",
       "      <td>1.83900</td>\n",
       "      <td>0.992000</td>\n",
       "      <td>1.487000</td>\n",
       "      <td>52761.94000</td>\n",
       "      <td>7433.420000</td>\n",
       "      <td>7399.570000</td>\n",
       "      <td>37928.950000</td>\n",
       "      <td>2005.103000</td>\n",
       "      <td>NaN</td>\n",
       "    </tr>\n",
       "    <tr>\n",
       "      <th>std</th>\n",
       "      <td>115.113174</td>\n",
       "      <td>9.140287</td>\n",
       "      <td>257063.005276</td>\n",
       "      <td>611.864673</td>\n",
       "      <td>244.167395</td>\n",
       "      <td>2.297407e+06</td>\n",
       "      <td>71701.610941</td>\n",
       "      <td>27872.187708</td>\n",
       "      <td>28104.096686</td>\n",
       "      <td>6.951373</td>\n",
       "      <td>1.01888</td>\n",
       "      <td>0.820127</td>\n",
       "      <td>1.111335</td>\n",
       "      <td>26401.53319</td>\n",
       "      <td>4880.951853</td>\n",
       "      <td>4824.726179</td>\n",
       "      <td>18886.252893</td>\n",
       "      <td>6.015861</td>\n",
       "      <td>NaN</td>\n",
       "    </tr>\n",
       "    <tr>\n",
       "      <th>min</th>\n",
       "      <td>0.000000</td>\n",
       "      <td>19.000000</td>\n",
       "      <td>100804.000000</td>\n",
       "      <td>500.000000</td>\n",
       "      <td>433.330000</td>\n",
       "      <td>-1.000000e+06</td>\n",
       "      <td>430104.000000</td>\n",
       "      <td>0.000000</td>\n",
       "      <td>-111100.000000</td>\n",
       "      <td>0.000000</td>\n",
       "      <td>1.00000</td>\n",
       "      <td>0.000000</td>\n",
       "      <td>0.000000</td>\n",
       "      <td>100.00000</td>\n",
       "      <td>0.000000</td>\n",
       "      <td>0.000000</td>\n",
       "      <td>70.000000</td>\n",
       "      <td>1995.000000</td>\n",
       "      <td>NaN</td>\n",
       "    </tr>\n",
       "    <tr>\n",
       "      <th>25%</th>\n",
       "      <td>115.750000</td>\n",
       "      <td>32.000000</td>\n",
       "      <td>335980.250000</td>\n",
       "      <td>500.000000</td>\n",
       "      <td>1089.607500</td>\n",
       "      <td>0.000000e+00</td>\n",
       "      <td>448404.500000</td>\n",
       "      <td>0.000000</td>\n",
       "      <td>-51500.000000</td>\n",
       "      <td>6.000000</td>\n",
       "      <td>1.00000</td>\n",
       "      <td>0.000000</td>\n",
       "      <td>1.000000</td>\n",
       "      <td>41812.50000</td>\n",
       "      <td>4295.000000</td>\n",
       "      <td>4445.000000</td>\n",
       "      <td>30292.500000</td>\n",
       "      <td>2000.000000</td>\n",
       "      <td>NaN</td>\n",
       "    </tr>\n",
       "    <tr>\n",
       "      <th>50%</th>\n",
       "      <td>199.500000</td>\n",
       "      <td>38.000000</td>\n",
       "      <td>533135.000000</td>\n",
       "      <td>1000.000000</td>\n",
       "      <td>1257.200000</td>\n",
       "      <td>0.000000e+00</td>\n",
       "      <td>466445.500000</td>\n",
       "      <td>0.000000</td>\n",
       "      <td>-23250.000000</td>\n",
       "      <td>12.000000</td>\n",
       "      <td>1.00000</td>\n",
       "      <td>1.000000</td>\n",
       "      <td>1.000000</td>\n",
       "      <td>58055.00000</td>\n",
       "      <td>6775.000000</td>\n",
       "      <td>6750.000000</td>\n",
       "      <td>42100.000000</td>\n",
       "      <td>2005.000000</td>\n",
       "      <td>NaN</td>\n",
       "    </tr>\n",
       "    <tr>\n",
       "      <th>75%</th>\n",
       "      <td>276.250000</td>\n",
       "      <td>44.000000</td>\n",
       "      <td>759099.750000</td>\n",
       "      <td>2000.000000</td>\n",
       "      <td>1415.695000</td>\n",
       "      <td>0.000000e+00</td>\n",
       "      <td>603251.000000</td>\n",
       "      <td>51025.000000</td>\n",
       "      <td>0.000000</td>\n",
       "      <td>17.000000</td>\n",
       "      <td>3.00000</td>\n",
       "      <td>2.000000</td>\n",
       "      <td>2.000000</td>\n",
       "      <td>70592.50000</td>\n",
       "      <td>11305.000000</td>\n",
       "      <td>10885.000000</td>\n",
       "      <td>50822.500000</td>\n",
       "      <td>2010.000000</td>\n",
       "      <td>NaN</td>\n",
       "    </tr>\n",
       "    <tr>\n",
       "      <th>max</th>\n",
       "      <td>479.000000</td>\n",
       "      <td>64.000000</td>\n",
       "      <td>999435.000000</td>\n",
       "      <td>2000.000000</td>\n",
       "      <td>2047.590000</td>\n",
       "      <td>1.000000e+07</td>\n",
       "      <td>620962.000000</td>\n",
       "      <td>100500.000000</td>\n",
       "      <td>0.000000</td>\n",
       "      <td>23.000000</td>\n",
       "      <td>4.00000</td>\n",
       "      <td>2.000000</td>\n",
       "      <td>3.000000</td>\n",
       "      <td>114920.00000</td>\n",
       "      <td>21450.000000</td>\n",
       "      <td>23670.000000</td>\n",
       "      <td>79560.000000</td>\n",
       "      <td>2015.000000</td>\n",
       "      <td>NaN</td>\n",
       "    </tr>\n",
       "  </tbody>\n",
       "</table>\n",
       "</div>"
      ],
      "text/plain": [
       "       months_as_customer          age  policy_number  policy_deductable   \n",
       "count         1000.000000  1000.000000    1000.000000        1000.000000  \\\n",
       "mean           203.954000    38.948000  546238.648000        1136.000000   \n",
       "std            115.113174     9.140287  257063.005276         611.864673   \n",
       "min              0.000000    19.000000  100804.000000         500.000000   \n",
       "25%            115.750000    32.000000  335980.250000         500.000000   \n",
       "50%            199.500000    38.000000  533135.000000        1000.000000   \n",
       "75%            276.250000    44.000000  759099.750000        2000.000000   \n",
       "max            479.000000    64.000000  999435.000000        2000.000000   \n",
       "\n",
       "       policy_annual_premium  umbrella_limit    insured_zip  capital-gains   \n",
       "count            1000.000000    1.000000e+03    1000.000000    1000.000000  \\\n",
       "mean             1256.406150    1.101000e+06  501214.488000   25126.100000   \n",
       "std               244.167395    2.297407e+06   71701.610941   27872.187708   \n",
       "min               433.330000   -1.000000e+06  430104.000000       0.000000   \n",
       "25%              1089.607500    0.000000e+00  448404.500000       0.000000   \n",
       "50%              1257.200000    0.000000e+00  466445.500000       0.000000   \n",
       "75%              1415.695000    0.000000e+00  603251.000000   51025.000000   \n",
       "max              2047.590000    1.000000e+07  620962.000000  100500.000000   \n",
       "\n",
       "        capital-loss  incident_hour_of_the_day  number_of_vehicles_involved   \n",
       "count    1000.000000               1000.000000                   1000.00000  \\\n",
       "mean   -26793.700000                 11.644000                      1.83900   \n",
       "std     28104.096686                  6.951373                      1.01888   \n",
       "min   -111100.000000                  0.000000                      1.00000   \n",
       "25%    -51500.000000                  6.000000                      1.00000   \n",
       "50%    -23250.000000                 12.000000                      1.00000   \n",
       "75%         0.000000                 17.000000                      3.00000   \n",
       "max         0.000000                 23.000000                      4.00000   \n",
       "\n",
       "       bodily_injuries    witnesses  total_claim_amount  injury_claim   \n",
       "count      1000.000000  1000.000000          1000.00000   1000.000000  \\\n",
       "mean          0.992000     1.487000         52761.94000   7433.420000   \n",
       "std           0.820127     1.111335         26401.53319   4880.951853   \n",
       "min           0.000000     0.000000           100.00000      0.000000   \n",
       "25%           0.000000     1.000000         41812.50000   4295.000000   \n",
       "50%           1.000000     1.000000         58055.00000   6775.000000   \n",
       "75%           2.000000     2.000000         70592.50000  11305.000000   \n",
       "max           2.000000     3.000000        114920.00000  21450.000000   \n",
       "\n",
       "       property_claim  vehicle_claim    auto_year  _c39  \n",
       "count     1000.000000    1000.000000  1000.000000   0.0  \n",
       "mean      7399.570000   37928.950000  2005.103000   NaN  \n",
       "std       4824.726179   18886.252893     6.015861   NaN  \n",
       "min          0.000000      70.000000  1995.000000   NaN  \n",
       "25%       4445.000000   30292.500000  2000.000000   NaN  \n",
       "50%       6750.000000   42100.000000  2005.000000   NaN  \n",
       "75%      10885.000000   50822.500000  2010.000000   NaN  \n",
       "max      23670.000000   79560.000000  2015.000000   NaN  "
      ]
     },
     "execution_count": 6,
     "metadata": {},
     "output_type": "execute_result"
    }
   ],
   "source": [
    "df.describe()"
   ]
  },
  {
   "cell_type": "code",
   "execution_count": 7,
   "id": "a05c50eb-38f0-4f84-b648-232693d44dd6",
   "metadata": {
    "tags": []
   },
   "outputs": [],
   "source": [
    "df['policy_annual_premium'] = df['policy_annual_premium'].astype('int64')"
   ]
  },
  {
   "cell_type": "code",
   "execution_count": 8,
   "id": "d7a3ffac-6bf2-46a9-82f3-ddfc09acc2de",
   "metadata": {
    "tags": []
   },
   "outputs": [
    {
     "data": {
      "text/plain": [
       "months_as_customer                0\n",
       "age                               0\n",
       "policy_number                     0\n",
       "policy_bind_date                  0\n",
       "policy_state                      0\n",
       "policy_csl                        0\n",
       "policy_deductable                 0\n",
       "policy_annual_premium             0\n",
       "umbrella_limit                    0\n",
       "insured_zip                       0\n",
       "insured_sex                       0\n",
       "insured_education_level           0\n",
       "insured_occupation                0\n",
       "insured_hobbies                   0\n",
       "insured_relationship              0\n",
       "capital-gains                     0\n",
       "capital-loss                      0\n",
       "incident_date                     0\n",
       "incident_type                     0\n",
       "collision_type                    0\n",
       "incident_severity                 0\n",
       "authorities_contacted            91\n",
       "incident_state                    0\n",
       "incident_city                     0\n",
       "incident_location                 0\n",
       "incident_hour_of_the_day          0\n",
       "number_of_vehicles_involved       0\n",
       "property_damage                   0\n",
       "bodily_injuries                   0\n",
       "witnesses                         0\n",
       "police_report_available           0\n",
       "total_claim_amount                0\n",
       "injury_claim                      0\n",
       "property_claim                    0\n",
       "vehicle_claim                     0\n",
       "auto_make                         0\n",
       "auto_model                        0\n",
       "auto_year                         0\n",
       "fraud_reported                    0\n",
       "_c39                           1000\n",
       "dtype: int64"
      ]
     },
     "execution_count": 8,
     "metadata": {},
     "output_type": "execute_result"
    }
   ],
   "source": [
    "df.isnull().sum()"
   ]
  },
  {
   "cell_type": "code",
   "execution_count": 9,
   "id": "cd107a5f-88ba-44e8-a4eb-a36f526451b2",
   "metadata": {
    "tags": []
   },
   "outputs": [
    {
     "data": {
      "text/plain": [
       "months_as_customer                0\n",
       "age                               0\n",
       "policy_number                     0\n",
       "policy_bind_date                  0\n",
       "policy_state                      0\n",
       "policy_csl                        0\n",
       "policy_deductable                 0\n",
       "policy_annual_premium             0\n",
       "umbrella_limit                    0\n",
       "insured_zip                       0\n",
       "insured_sex                       0\n",
       "insured_education_level           0\n",
       "insured_occupation                0\n",
       "insured_hobbies                   0\n",
       "insured_relationship              0\n",
       "capital-gains                     0\n",
       "capital-loss                      0\n",
       "incident_date                     0\n",
       "incident_type                     0\n",
       "collision_type                    0\n",
       "incident_severity                 0\n",
       "authorities_contacted            91\n",
       "incident_state                    0\n",
       "incident_city                     0\n",
       "incident_location                 0\n",
       "incident_hour_of_the_day          0\n",
       "number_of_vehicles_involved       0\n",
       "property_damage                   0\n",
       "bodily_injuries                   0\n",
       "witnesses                         0\n",
       "police_report_available           0\n",
       "total_claim_amount                0\n",
       "injury_claim                      0\n",
       "property_claim                    0\n",
       "vehicle_claim                     0\n",
       "auto_make                         0\n",
       "auto_model                        0\n",
       "auto_year                         0\n",
       "fraud_reported                    0\n",
       "_c39                           1000\n",
       "dtype: int64"
      ]
     },
     "execution_count": 9,
     "metadata": {},
     "output_type": "execute_result"
    }
   ],
   "source": [
    "df.isna().sum()"
   ]
  },
  {
   "cell_type": "code",
   "execution_count": 10,
   "id": "537422c1-2548-41c1-9a88-4cdfa7d7d05d",
   "metadata": {
    "tags": []
   },
   "outputs": [
    {
     "name": "stdout",
     "output_type": "stream",
     "text": [
      "policy_bind_date : 951\n",
      "policy_state : 3\n",
      "policy_csl : 3\n",
      "insured_sex : 2\n",
      "insured_education_level : 7\n",
      "insured_occupation : 14\n",
      "insured_hobbies : 20\n",
      "insured_relationship : 6\n",
      "incident_date : 60\n",
      "incident_type : 4\n",
      "collision_type : 4\n",
      "incident_severity : 4\n",
      "authorities_contacted : 4\n",
      "incident_state : 7\n",
      "incident_city : 7\n",
      "incident_location : 1000\n",
      "property_damage : 3\n",
      "police_report_available : 3\n",
      "auto_make : 14\n",
      "auto_model : 39\n",
      "fraud_reported : 2\n"
     ]
    }
   ],
   "source": [
    "for i in df.columns:\n",
    "    if df[i].dtype == 'object':\n",
    "        print(i,\":\", df[i].nunique())"
   ]
  },
  {
   "cell_type": "code",
   "execution_count": 11,
   "id": "247e08e4-c4f9-41f4-980b-5c85565363c4",
   "metadata": {
    "tags": []
   },
   "outputs": [
    {
     "data": {
      "text/plain": [
       "Index(['months_as_customer', 'age', 'policy_number', 'policy_bind_date',\n",
       "       'policy_state', 'policy_csl', 'policy_deductable',\n",
       "       'policy_annual_premium', 'umbrella_limit', 'insured_zip', 'insured_sex',\n",
       "       'insured_education_level', 'insured_occupation', 'insured_hobbies',\n",
       "       'insured_relationship', 'capital-gains', 'capital-loss',\n",
       "       'incident_date', 'incident_type', 'collision_type', 'incident_severity',\n",
       "       'authorities_contacted', 'incident_state', 'incident_city',\n",
       "       'incident_location', 'incident_hour_of_the_day',\n",
       "       'number_of_vehicles_involved', 'property_damage', 'bodily_injuries',\n",
       "       'witnesses', 'police_report_available', 'total_claim_amount',\n",
       "       'injury_claim', 'property_claim', 'vehicle_claim', 'auto_make',\n",
       "       'auto_model', 'auto_year', 'fraud_reported', '_c39'],\n",
       "      dtype='object')"
      ]
     },
     "execution_count": 11,
     "metadata": {},
     "output_type": "execute_result"
    }
   ],
   "source": [
    "df.columns"
   ]
  },
  {
   "cell_type": "code",
   "execution_count": 12,
   "id": "63cb8510-70d3-42a6-b1e3-54bd180b7664",
   "metadata": {
    "tags": []
   },
   "outputs": [],
   "source": [
    "df.replace('?',np.nan,inplace=True)"
   ]
  },
  {
   "cell_type": "code",
   "execution_count": 13,
   "id": "7e921e1b-e44d-4c94-b96b-3e78bfabee98",
   "metadata": {
    "tags": []
   },
   "outputs": [],
   "source": [
    "df['collision_type'] =df['collision_type'].fillna(df['collision_type'].mode()[0])\n",
    "df['property_damage'] =df['property_damage'].fillna(df['property_damage'].mode()[0])\n",
    "df['police_report_available'] =df['police_report_available'].fillna(df['police_report_available'].mode()[0])\n",
    "countplot_columns = ['insured_sex','incident_type','collision_type','incident_severity','witnesses','property_damage','authorities_contacted']\n"
   ]
  },
  {
   "cell_type": "code",
   "execution_count": 14,
   "id": "cd2f5f96-7894-4ce3-8b85-05f408e3d0b6",
   "metadata": {
    "tags": []
   },
   "outputs": [
    {
     "data": {
      "text/plain": [
       "[(0, 'insured_sex'),\n",
       " (1, 'incident_type'),\n",
       " (2, 'collision_type'),\n",
       " (3, 'incident_severity'),\n",
       " (4, 'witnesses'),\n",
       " (5, 'property_damage'),\n",
       " (6, 'authorities_contacted')]"
      ]
     },
     "execution_count": 14,
     "metadata": {},
     "output_type": "execute_result"
    }
   ],
   "source": [
    "list(enumerate(countplot_columns))"
   ]
  },
  {
   "cell_type": "code",
   "execution_count": 15,
   "id": "079d3d9e-3415-4777-9e49-47737c8f3c8f",
   "metadata": {
    "tags": []
   },
   "outputs": [
    {
     "data": {
      "image/png": "[encoded data removed]",
      "text/plain": [
       "<Figure size 2000x3000 with 7 Axes>"
      ]
     },
     "metadata": {},
     "output_type": "display_data"
    }
   ],
   "source": [
    "plt.figure(figsize=[20,30])\n",
    "for i in enumerate(countplot_columns):\n",
    "    plt.subplot(5,2,i[0]+1)\n",
    "    sns.countplot(data=df, x =i[1],hue='fraud_reported',palette='bright')"
   ]
  },
  {
   "cell_type": "code",
   "execution_count": null,
   "id": "24ae00e5-6bee-4811-8038-7879bf16c394",
   "metadata": {
    "tags": []
   },
   "outputs": [],
   "source": [
    "histplot_columns = ['policy_deductable','policy_annual_premium', 'umbrella_limit','capital-gains','capital-loss','months_as_customer','age','total_claim_amount']"
   ]
  },
  {
   "cell_type": "code",
   "execution_count": null,
   "id": "de495b63-6c38-42d4-a2c1-451f3026883a",
   "metadata": {
    "tags": []
   },
   "outputs": [],
   "source": [
    "list(enumerate(histplot_columns))"
   ]
  },
  {
   "cell_type": "code",
   "execution_count": null,
   "id": "f9ce2af7-b190-4613-b8b5-93b1e987ad5e",
   "metadata": {
    "tags": []
   },
   "outputs": [],
   "source": [
    "plt.figure(figsize=[20,30])\n",
    "for z in enumerate(histplot_columns):\n",
    "    plt.subplot(3,3,z[0]+1)\n",
    "    sns.histplot(df,x =z[1],hue='fraud_reported',palette='bright')"
   ]
  },
  {
   "cell_type": "code",
   "execution_count": null,
   "id": "6220b456-4047-4e25-bbe3-771c124fd662",
   "metadata": {
    "tags": []
   },
   "outputs": [],
   "source": [
    "sns.set(rc={'figure.figsize':(20,20)})\n",
    "sns.countplot(x='insured_hobbies',data=df,hue='fraud_reported',palette='bright')"
   ]
  },
  {
   "cell_type": "code",
   "execution_count": null,
   "id": "d55ed4d2-6146-4b34-95e2-1aa833242a52",
   "metadata": {
    "tags": []
   },
   "outputs": [],
   "source": [
    "sns.countplot(data=df,x='auto_model',hue='fraud_reported',palette='bright')"
   ]
  },
  {
   "cell_type": "code",
   "execution_count": 16,
   "id": "a2ee14d0-496b-4f87-a308-c4ce6c1c3332",
   "metadata": {
    "tags": []
   },
   "outputs": [],
   "source": [
    "df['fraud_reported'] = pd.get_dummies(df['fraud_reported'],drop_first=True,dtype=np.int64)"
   ]
  },
  {
   "cell_type": "code",
   "execution_count": 17,
   "id": "8a6b8326-aa9e-4620-b7ce-06e15878bf7c",
   "metadata": {
    "tags": []
   },
   "outputs": [
    {
     "data": {
      "text/plain": [
       "fraud_reported\n",
       "0    753\n",
       "1    247\n",
       "Name: count, dtype: int64"
      ]
     },
     "execution_count": 17,
     "metadata": {},
     "output_type": "execute_result"
    }
   ],
   "source": [
    "df['fraud_reported'].value_counts()"
   ]
  },
  {
   "cell_type": "code",
   "execution_count": null,
   "id": "2e74430c-7031-4887-a6af-1e602833d050",
   "metadata": {
    "tags": []
   },
   "outputs": [],
   "source": [
    "sns.set(rc={'figure.figsize':(20,20)})\n",
    "sns.heatmap(df.corr(),annot=True,cbar=True,square=True,cmap='tab20c',annot_kws={'size': 10},fmt='.2f')"
   ]
  },
  {
   "cell_type": "code",
   "execution_count": null,
   "id": "0b8f583a-5143-48c7-8f90-60bd2a8e4b00",
   "metadata": {
    "tags": []
   },
   "outputs": [],
   "source": [
    "sns.heatmap(df.corr()[['fraud_reported']].nlargest(40,'fraud_reported'),annot=True,cmap='tab20c')"
   ]
  },
  {
   "cell_type": "code",
   "execution_count": 18,
   "id": "8ab6d7b1-6077-43a3-a692-9681bcbe2904",
   "metadata": {
    "tags": []
   },
   "outputs": [],
   "source": [
    "col_drop = ['policy_number','policy_bind_date','policy_state','policy_csl','policy_annual_premium','insured_zip','insured_hobbies','insured_relationship','capital-gains','capital-loss','incident_date','incident_state','incident_city','incident_location','injury_claim','property_claim','vehicle_claim','auto_make','auto_model','auto_year','_c39']"
   ]
  },
  {
   "cell_type": "code",
   "execution_count": 19,
   "id": "41fc6295-d750-49c8-aa91-48bcf9b7c0b6",
   "metadata": {
    "tags": []
   },
   "outputs": [],
   "source": [
    "df.drop(col_drop,axis=1,inplace=True)"
   ]
  },
  {
   "cell_type": "code",
   "execution_count": 20,
   "id": "49bdcdce-125d-43b9-98a2-1cb1da9481e1",
   "metadata": {
    "tags": []
   },
   "outputs": [
    {
     "data": {
      "text/plain": [
       "Index(['months_as_customer', 'age', 'policy_deductable', 'umbrella_limit',\n",
       "       'insured_sex', 'insured_education_level', 'insured_occupation',\n",
       "       'incident_type', 'collision_type', 'incident_severity',\n",
       "       'authorities_contacted', 'incident_hour_of_the_day',\n",
       "       'number_of_vehicles_involved', 'property_damage', 'bodily_injuries',\n",
       "       'witnesses', 'police_report_available', 'total_claim_amount',\n",
       "       'fraud_reported'],\n",
       "      dtype='object')"
      ]
     },
     "execution_count": 20,
     "metadata": {},
     "output_type": "execute_result"
    }
   ],
   "source": [
    "df.columns"
   ]
  },
  {
   "cell_type": "code",
   "execution_count": 21,
   "id": "f26f9e01-3bec-4e15-8a75-f0d32e31b141",
   "metadata": {
    "tags": []
   },
   "outputs": [],
   "source": [
    "num_df = df.select_dtypes(include = ['int64']).drop('fraud_reported', axis=1)"
   ]
  },
  {
   "cell_type": "code",
   "execution_count": 22,
   "id": "bf38d5e9-20d1-4b58-8efb-675b9df001dd",
   "metadata": {
    "tags": []
   },
   "outputs": [
    {
     "data": {
      "text/plain": [
       "Index(['months_as_customer', 'age', 'policy_deductable', 'umbrella_limit',\n",
       "       'incident_hour_of_the_day', 'number_of_vehicles_involved',\n",
       "       'bodily_injuries', 'witnesses', 'total_claim_amount'],\n",
       "      dtype='object')"
      ]
     },
     "execution_count": 22,
     "metadata": {},
     "output_type": "execute_result"
    }
   ],
   "source": [
    "num_df.columns"
   ]
  },
  {
   "cell_type": "code",
   "execution_count": 23,
   "id": "429d66ce-a506-46c8-9880-52bf67a1cfc2",
   "metadata": {
    "tags": []
   },
   "outputs": [],
   "source": [
    "num_df_col_names = num_df.columns\n",
    "cat_df = df.select_dtypes(include = ['object'])"
   ]
  },
  {
   "cell_type": "code",
   "execution_count": 24,
   "id": "d06ffb52-ac9e-49c0-915d-292c07fcedad",
   "metadata": {
    "tags": []
   },
   "outputs": [
    {
     "data": {
      "text/plain": [
       "Index(['insured_sex', 'insured_education_level', 'insured_occupation',\n",
       "       'incident_type', 'collision_type', 'incident_severity',\n",
       "       'authorities_contacted', 'property_damage', 'police_report_available'],\n",
       "      dtype='object')"
      ]
     },
     "execution_count": 24,
     "metadata": {},
     "output_type": "execute_result"
    }
   ],
   "source": [
    "cat_df.columns"
   ]
  },
  {
   "cell_type": "code",
   "execution_count": 25,
   "id": "abeaa4db-5757-4228-bd0b-38b3a223acb6",
   "metadata": {
    "tags": []
   },
   "outputs": [
    {
     "data": {
      "text/plain": [
       "array(['insured_sex_MALE', 'insured_education_level_College',\n",
       "       'insured_education_level_High School',\n",
       "       'insured_education_level_JD', 'insured_education_level_MD',\n",
       "       'insured_education_level_Masters', 'insured_education_level_PhD',\n",
       "       'insured_occupation_armed-forces',\n",
       "       'insured_occupation_craft-repair',\n",
       "       'insured_occupation_exec-managerial',\n",
       "       'insured_occupation_farming-fishing',\n",
       "       'insured_occupation_handlers-cleaners',\n",
       "       'insured_occupation_machine-op-inspct',\n",
       "       'insured_occupation_other-service',\n",
       "       'insured_occupation_priv-house-serv',\n",
       "       'insured_occupation_prof-specialty',\n",
       "       'insured_occupation_protective-serv', 'insured_occupation_sales',\n",
       "       'insured_occupation_tech-support',\n",
       "       'insured_occupation_transport-moving', 'incident_type_Parked Car',\n",
       "       'incident_type_Single Vehicle Collision',\n",
       "       'incident_type_Vehicle Theft', 'collision_type_Rear Collision',\n",
       "       'collision_type_Side Collision', 'incident_severity_Minor Damage',\n",
       "       'incident_severity_Total Loss', 'incident_severity_Trivial Damage',\n",
       "       'authorities_contacted_Fire', 'authorities_contacted_Other',\n",
       "       'authorities_contacted_Police', 'authorities_contacted_nan',\n",
       "       'property_damage_YES', 'police_report_available_YES'], dtype=object)"
      ]
     },
     "execution_count": 25,
     "metadata": {},
     "output_type": "execute_result"
    }
   ],
   "source": [
    "enc = OneHotEncoder(handle_unknown='ignore',drop='first')\n",
    "cat_enc_data=pd.DataFrame(enc.fit_transform(df[['insured_sex', 'insured_education_level', 'insured_occupation',\n",
    "       'incident_type', 'collision_type', 'incident_severity',\n",
    "       'authorities_contacted', 'property_damage', 'police_report_available']]).toarray())\n",
    "enc.get_feature_names_out()"
   ]
  },
  {
   "cell_type": "code",
   "execution_count": 26,
   "id": "1e5cbbc7-4e7e-48f1-b4ed-8d06fca1279e",
   "metadata": {
    "tags": []
   },
   "outputs": [
    {
     "data": {
      "text/html": [
       "<div>\n",
       "<style scoped>\n",
       "    .dataframe tbody tr th:only-of-type {\n",
       "        vertical-align: middle;\n",
       "    }\n",
       "\n",
       "    .dataframe tbody tr th {\n",
       "        vertical-align: top;\n",
       "    }\n",
       "\n",
       "    .dataframe thead th {\n",
       "        text-align: right;\n",
       "    }\n",
       "</style>\n",
       "<table border=\"1\" class=\"dataframe\">\n",
       "  <thead>\n",
       "    <tr style=\"text-align: right;\">\n",
       "      <th></th>\n",
       "      <th>insured_sex_MALE</th>\n",
       "      <th>insured_education_level_College</th>\n",
       "      <th>insured_education_level_High School</th>\n",
       "      <th>insured_education_level_JD</th>\n",
       "      <th>insured_education_level_MD</th>\n",
       "      <th>insured_education_level_Masters</th>\n",
       "      <th>insured_education_level_PhD</th>\n",
       "      <th>insured_occupation_armed-forces</th>\n",
       "      <th>insured_occupation_craft-repair</th>\n",
       "      <th>insured_occupation_exec-managerial</th>\n",
       "      <th>...</th>\n",
       "      <th>collision_type_Side Collision</th>\n",
       "      <th>incident_severity_Minor Damage</th>\n",
       "      <th>incident_severity_Total Loss</th>\n",
       "      <th>incident_severity_Trivial Damage</th>\n",
       "      <th>authorities_contacted_Fire</th>\n",
       "      <th>authorities_contacted_Other</th>\n",
       "      <th>authorities_contacted_Police</th>\n",
       "      <th>authorities_contacted_nan</th>\n",
       "      <th>property_damage_YES</th>\n",
       "      <th>police_report_available_YES</th>\n",
       "    </tr>\n",
       "  </thead>\n",
       "  <tbody>\n",
       "    <tr>\n",
       "      <th>0</th>\n",
       "      <td>1.0</td>\n",
       "      <td>0.0</td>\n",
       "      <td>0.0</td>\n",
       "      <td>0.0</td>\n",
       "      <td>1.0</td>\n",
       "      <td>0.0</td>\n",
       "      <td>0.0</td>\n",
       "      <td>0.0</td>\n",
       "      <td>1.0</td>\n",
       "      <td>0.0</td>\n",
       "      <td>...</td>\n",
       "      <td>1.0</td>\n",
       "      <td>0.0</td>\n",
       "      <td>0.0</td>\n",
       "      <td>0.0</td>\n",
       "      <td>0.0</td>\n",
       "      <td>0.0</td>\n",
       "      <td>1.0</td>\n",
       "      <td>0.0</td>\n",
       "      <td>1.0</td>\n",
       "      <td>1.0</td>\n",
       "    </tr>\n",
       "    <tr>\n",
       "      <th>1</th>\n",
       "      <td>1.0</td>\n",
       "      <td>0.0</td>\n",
       "      <td>0.0</td>\n",
       "      <td>0.0</td>\n",
       "      <td>1.0</td>\n",
       "      <td>0.0</td>\n",
       "      <td>0.0</td>\n",
       "      <td>0.0</td>\n",
       "      <td>0.0</td>\n",
       "      <td>0.0</td>\n",
       "      <td>...</td>\n",
       "      <td>0.0</td>\n",
       "      <td>1.0</td>\n",
       "      <td>0.0</td>\n",
       "      <td>0.0</td>\n",
       "      <td>0.0</td>\n",
       "      <td>0.0</td>\n",
       "      <td>1.0</td>\n",
       "      <td>0.0</td>\n",
       "      <td>0.0</td>\n",
       "      <td>0.0</td>\n",
       "    </tr>\n",
       "    <tr>\n",
       "      <th>2</th>\n",
       "      <td>0.0</td>\n",
       "      <td>0.0</td>\n",
       "      <td>0.0</td>\n",
       "      <td>0.0</td>\n",
       "      <td>0.0</td>\n",
       "      <td>0.0</td>\n",
       "      <td>1.0</td>\n",
       "      <td>0.0</td>\n",
       "      <td>0.0</td>\n",
       "      <td>0.0</td>\n",
       "      <td>...</td>\n",
       "      <td>0.0</td>\n",
       "      <td>1.0</td>\n",
       "      <td>0.0</td>\n",
       "      <td>0.0</td>\n",
       "      <td>0.0</td>\n",
       "      <td>0.0</td>\n",
       "      <td>1.0</td>\n",
       "      <td>0.0</td>\n",
       "      <td>0.0</td>\n",
       "      <td>0.0</td>\n",
       "    </tr>\n",
       "    <tr>\n",
       "      <th>3</th>\n",
       "      <td>0.0</td>\n",
       "      <td>0.0</td>\n",
       "      <td>0.0</td>\n",
       "      <td>0.0</td>\n",
       "      <td>0.0</td>\n",
       "      <td>0.0</td>\n",
       "      <td>1.0</td>\n",
       "      <td>1.0</td>\n",
       "      <td>0.0</td>\n",
       "      <td>0.0</td>\n",
       "      <td>...</td>\n",
       "      <td>0.0</td>\n",
       "      <td>0.0</td>\n",
       "      <td>0.0</td>\n",
       "      <td>0.0</td>\n",
       "      <td>0.0</td>\n",
       "      <td>0.0</td>\n",
       "      <td>1.0</td>\n",
       "      <td>0.0</td>\n",
       "      <td>0.0</td>\n",
       "      <td>0.0</td>\n",
       "    </tr>\n",
       "    <tr>\n",
       "      <th>4</th>\n",
       "      <td>1.0</td>\n",
       "      <td>0.0</td>\n",
       "      <td>0.0</td>\n",
       "      <td>0.0</td>\n",
       "      <td>0.0</td>\n",
       "      <td>0.0</td>\n",
       "      <td>0.0</td>\n",
       "      <td>0.0</td>\n",
       "      <td>0.0</td>\n",
       "      <td>0.0</td>\n",
       "      <td>...</td>\n",
       "      <td>0.0</td>\n",
       "      <td>1.0</td>\n",
       "      <td>0.0</td>\n",
       "      <td>0.0</td>\n",
       "      <td>0.0</td>\n",
       "      <td>0.0</td>\n",
       "      <td>0.0</td>\n",
       "      <td>1.0</td>\n",
       "      <td>0.0</td>\n",
       "      <td>0.0</td>\n",
       "    </tr>\n",
       "    <tr>\n",
       "      <th>...</th>\n",
       "      <td>...</td>\n",
       "      <td>...</td>\n",
       "      <td>...</td>\n",
       "      <td>...</td>\n",
       "      <td>...</td>\n",
       "      <td>...</td>\n",
       "      <td>...</td>\n",
       "      <td>...</td>\n",
       "      <td>...</td>\n",
       "      <td>...</td>\n",
       "      <td>...</td>\n",
       "      <td>...</td>\n",
       "      <td>...</td>\n",
       "      <td>...</td>\n",
       "      <td>...</td>\n",
       "      <td>...</td>\n",
       "      <td>...</td>\n",
       "      <td>...</td>\n",
       "      <td>...</td>\n",
       "      <td>...</td>\n",
       "      <td>...</td>\n",
       "    </tr>\n",
       "    <tr>\n",
       "      <th>995</th>\n",
       "      <td>0.0</td>\n",
       "      <td>0.0</td>\n",
       "      <td>0.0</td>\n",
       "      <td>0.0</td>\n",
       "      <td>0.0</td>\n",
       "      <td>1.0</td>\n",
       "      <td>0.0</td>\n",
       "      <td>0.0</td>\n",
       "      <td>1.0</td>\n",
       "      <td>0.0</td>\n",
       "      <td>...</td>\n",
       "      <td>0.0</td>\n",
       "      <td>1.0</td>\n",
       "      <td>0.0</td>\n",
       "      <td>0.0</td>\n",
       "      <td>1.0</td>\n",
       "      <td>0.0</td>\n",
       "      <td>0.0</td>\n",
       "      <td>0.0</td>\n",
       "      <td>1.0</td>\n",
       "      <td>0.0</td>\n",
       "    </tr>\n",
       "    <tr>\n",
       "      <th>996</th>\n",
       "      <td>0.0</td>\n",
       "      <td>0.0</td>\n",
       "      <td>0.0</td>\n",
       "      <td>0.0</td>\n",
       "      <td>0.0</td>\n",
       "      <td>0.0</td>\n",
       "      <td>1.0</td>\n",
       "      <td>0.0</td>\n",
       "      <td>0.0</td>\n",
       "      <td>0.0</td>\n",
       "      <td>...</td>\n",
       "      <td>0.0</td>\n",
       "      <td>0.0</td>\n",
       "      <td>0.0</td>\n",
       "      <td>0.0</td>\n",
       "      <td>1.0</td>\n",
       "      <td>0.0</td>\n",
       "      <td>0.0</td>\n",
       "      <td>0.0</td>\n",
       "      <td>1.0</td>\n",
       "      <td>0.0</td>\n",
       "    </tr>\n",
       "    <tr>\n",
       "      <th>997</th>\n",
       "      <td>0.0</td>\n",
       "      <td>0.0</td>\n",
       "      <td>0.0</td>\n",
       "      <td>0.0</td>\n",
       "      <td>0.0</td>\n",
       "      <td>1.0</td>\n",
       "      <td>0.0</td>\n",
       "      <td>1.0</td>\n",
       "      <td>0.0</td>\n",
       "      <td>0.0</td>\n",
       "      <td>...</td>\n",
       "      <td>1.0</td>\n",
       "      <td>1.0</td>\n",
       "      <td>0.0</td>\n",
       "      <td>0.0</td>\n",
       "      <td>0.0</td>\n",
       "      <td>0.0</td>\n",
       "      <td>1.0</td>\n",
       "      <td>0.0</td>\n",
       "      <td>0.0</td>\n",
       "      <td>1.0</td>\n",
       "    </tr>\n",
       "    <tr>\n",
       "      <th>998</th>\n",
       "      <td>1.0</td>\n",
       "      <td>0.0</td>\n",
       "      <td>0.0</td>\n",
       "      <td>0.0</td>\n",
       "      <td>0.0</td>\n",
       "      <td>0.0</td>\n",
       "      <td>0.0</td>\n",
       "      <td>0.0</td>\n",
       "      <td>0.0</td>\n",
       "      <td>0.0</td>\n",
       "      <td>...</td>\n",
       "      <td>0.0</td>\n",
       "      <td>0.0</td>\n",
       "      <td>0.0</td>\n",
       "      <td>0.0</td>\n",
       "      <td>0.0</td>\n",
       "      <td>1.0</td>\n",
       "      <td>0.0</td>\n",
       "      <td>0.0</td>\n",
       "      <td>0.0</td>\n",
       "      <td>1.0</td>\n",
       "    </tr>\n",
       "    <tr>\n",
       "      <th>999</th>\n",
       "      <td>0.0</td>\n",
       "      <td>0.0</td>\n",
       "      <td>0.0</td>\n",
       "      <td>0.0</td>\n",
       "      <td>0.0</td>\n",
       "      <td>0.0</td>\n",
       "      <td>0.0</td>\n",
       "      <td>0.0</td>\n",
       "      <td>0.0</td>\n",
       "      <td>0.0</td>\n",
       "      <td>...</td>\n",
       "      <td>0.0</td>\n",
       "      <td>1.0</td>\n",
       "      <td>0.0</td>\n",
       "      <td>0.0</td>\n",
       "      <td>0.0</td>\n",
       "      <td>0.0</td>\n",
       "      <td>1.0</td>\n",
       "      <td>0.0</td>\n",
       "      <td>0.0</td>\n",
       "      <td>0.0</td>\n",
       "    </tr>\n",
       "  </tbody>\n",
       "</table>\n",
       "<p>1000 rows × 34 columns</p>\n",
       "</div>"
      ],
      "text/plain": [
       "     insured_sex_MALE  insured_education_level_College   \n",
       "0                 1.0                              0.0  \\\n",
       "1                 1.0                              0.0   \n",
       "2                 0.0                              0.0   \n",
       "3                 0.0                              0.0   \n",
       "4                 1.0                              0.0   \n",
       "..                ...                              ...   \n",
       "995               0.0                              0.0   \n",
       "996               0.0                              0.0   \n",
       "997               0.0                              0.0   \n",
       "998               1.0                              0.0   \n",
       "999               0.0                              0.0   \n",
       "\n",
       "     insured_education_level_High School  insured_education_level_JD   \n",
       "0                                    0.0                         0.0  \\\n",
       "1                                    0.0                         0.0   \n",
       "2                                    0.0                         0.0   \n",
       "3                                    0.0                         0.0   \n",
       "4                                    0.0                         0.0   \n",
       "..                                   ...                         ...   \n",
       "995                                  0.0                         0.0   \n",
       "996                                  0.0                         0.0   \n",
       "997                                  0.0                         0.0   \n",
       "998                                  0.0                         0.0   \n",
       "999                                  0.0                         0.0   \n",
       "\n",
       "     insured_education_level_MD  insured_education_level_Masters   \n",
       "0                           1.0                              0.0  \\\n",
       "1                           1.0                              0.0   \n",
       "2                           0.0                              0.0   \n",
       "3                           0.0                              0.0   \n",
       "4                           0.0                              0.0   \n",
       "..                          ...                              ...   \n",
       "995                         0.0                              1.0   \n",
       "996                         0.0                              0.0   \n",
       "997                         0.0                              1.0   \n",
       "998                         0.0                              0.0   \n",
       "999                         0.0                              0.0   \n",
       "\n",
       "     insured_education_level_PhD  insured_occupation_armed-forces   \n",
       "0                            0.0                              0.0  \\\n",
       "1                            0.0                              0.0   \n",
       "2                            1.0                              0.0   \n",
       "3                            1.0                              1.0   \n",
       "4                            0.0                              0.0   \n",
       "..                           ...                              ...   \n",
       "995                          0.0                              0.0   \n",
       "996                          1.0                              0.0   \n",
       "997                          0.0                              1.0   \n",
       "998                          0.0                              0.0   \n",
       "999                          0.0                              0.0   \n",
       "\n",
       "     insured_occupation_craft-repair  insured_occupation_exec-managerial  ...   \n",
       "0                                1.0                                 0.0  ...  \\\n",
       "1                                0.0                                 0.0  ...   \n",
       "2                                0.0                                 0.0  ...   \n",
       "3                                0.0                                 0.0  ...   \n",
       "4                                0.0                                 0.0  ...   \n",
       "..                               ...                                 ...  ...   \n",
       "995                              1.0                                 0.0  ...   \n",
       "996                              0.0                                 0.0  ...   \n",
       "997                              0.0                                 0.0  ...   \n",
       "998                              0.0                                 0.0  ...   \n",
       "999                              0.0                                 0.0  ...   \n",
       "\n",
       "     collision_type_Side Collision  incident_severity_Minor Damage   \n",
       "0                              1.0                             0.0  \\\n",
       "1                              0.0                             1.0   \n",
       "2                              0.0                             1.0   \n",
       "3                              0.0                             0.0   \n",
       "4                              0.0                             1.0   \n",
       "..                             ...                             ...   \n",
       "995                            0.0                             1.0   \n",
       "996                            0.0                             0.0   \n",
       "997                            1.0                             1.0   \n",
       "998                            0.0                             0.0   \n",
       "999                            0.0                             1.0   \n",
       "\n",
       "     incident_severity_Total Loss  incident_severity_Trivial Damage   \n",
       "0                             0.0                               0.0  \\\n",
       "1                             0.0                               0.0   \n",
       "2                             0.0                               0.0   \n",
       "3                             0.0                               0.0   \n",
       "4                             0.0                               0.0   \n",
       "..                            ...                               ...   \n",
       "995                           0.0                               0.0   \n",
       "996                           0.0                               0.0   \n",
       "997                           0.0                               0.0   \n",
       "998                           0.0                               0.0   \n",
       "999                           0.0                               0.0   \n",
       "\n",
       "     authorities_contacted_Fire  authorities_contacted_Other   \n",
       "0                           0.0                          0.0  \\\n",
       "1                           0.0                          0.0   \n",
       "2                           0.0                          0.0   \n",
       "3                           0.0                          0.0   \n",
       "4                           0.0                          0.0   \n",
       "..                          ...                          ...   \n",
       "995                         1.0                          0.0   \n",
       "996                         1.0                          0.0   \n",
       "997                         0.0                          0.0   \n",
       "998                         0.0                          1.0   \n",
       "999                         0.0                          0.0   \n",
       "\n",
       "     authorities_contacted_Police  authorities_contacted_nan   \n",
       "0                             1.0                        0.0  \\\n",
       "1                             1.0                        0.0   \n",
       "2                             1.0                        0.0   \n",
       "3                             1.0                        0.0   \n",
       "4                             0.0                        1.0   \n",
       "..                            ...                        ...   \n",
       "995                           0.0                        0.0   \n",
       "996                           0.0                        0.0   \n",
       "997                           1.0                        0.0   \n",
       "998                           0.0                        0.0   \n",
       "999                           1.0                        0.0   \n",
       "\n",
       "     property_damage_YES  police_report_available_YES  \n",
       "0                    1.0                          1.0  \n",
       "1                    0.0                          0.0  \n",
       "2                    0.0                          0.0  \n",
       "3                    0.0                          0.0  \n",
       "4                    0.0                          0.0  \n",
       "..                   ...                          ...  \n",
       "995                  1.0                          0.0  \n",
       "996                  1.0                          0.0  \n",
       "997                  0.0                          1.0  \n",
       "998                  0.0                          1.0  \n",
       "999                  0.0                          0.0  \n",
       "\n",
       "[1000 rows x 34 columns]"
      ]
     },
     "execution_count": 26,
     "metadata": {},
     "output_type": "execute_result"
    }
   ],
   "source": [
    "cat_enc_data.columns = enc.get_feature_names_out()\n",
    "cat_enc_data"
   ]
  },
  {
   "cell_type": "code",
   "execution_count": 27,
   "id": "64dc7599-c25f-463b-a7c8-58401050dc98",
   "metadata": {
    "tags": []
   },
   "outputs": [],
   "source": [
    "X = pd.concat([num_df, cat_enc_data], axis = 1)\n",
    "y = df['fraud_reported']"
   ]
  },
  {
   "cell_type": "markdown",
   "id": "49961400-0f81-4ddf-9cfb-936843669b55",
   "metadata": {},
   "source": [
    "Split into Train and Test"
   ]
  },
  {
   "cell_type": "code",
   "execution_count": 28,
   "id": "d9c1052b-3acc-4d4f-a76f-498769f77818",
   "metadata": {
    "tags": []
   },
   "outputs": [],
   "source": [
    "X_train, X_test, y_train, y_test = train_test_split(X, y, test_size=0.3, random_state=123,stratify=y)"
   ]
  },
  {
   "cell_type": "code",
   "execution_count": 29,
   "id": "4fd9d3d2-f338-48ca-be26-21b21378bcd3",
   "metadata": {
    "tags": []
   },
   "outputs": [],
   "source": [
    "scaler = StandardScaler()\n",
    "X_train_num_scaled = pd.DataFrame(scaler.fit_transform(X_train[num_df_col_names]),\n",
    "columns=num_df_col_names, index= X_train.index)\n",
    "for col in num_df:\n",
    "        X_train[col] = X_train_num_scaled[col]"
   ]
  },
  {
   "cell_type": "code",
   "execution_count": 30,
   "id": "f132e0ac-0158-468b-8001-efa1876df025",
   "metadata": {
    "tags": []
   },
   "outputs": [
    {
     "data": {
      "text/plain": [
       "[9,\n",
       " 10,\n",
       " 11,\n",
       " 12,\n",
       " 13,\n",
       " 14,\n",
       " 15,\n",
       " 16,\n",
       " 17,\n",
       " 18,\n",
       " 19,\n",
       " 20,\n",
       " 21,\n",
       " 22,\n",
       " 23,\n",
       " 24,\n",
       " 25,\n",
       " 26,\n",
       " 27,\n",
       " 28,\n",
       " 29,\n",
       " 30,\n",
       " 31,\n",
       " 32,\n",
       " 33,\n",
       " 34,\n",
       " 35,\n",
       " 36,\n",
       " 37,\n",
       " 38,\n",
       " 39,\n",
       " 40,\n",
       " 41,\n",
       " 42]"
      ]
     },
     "execution_count": 30,
     "metadata": {},
     "output_type": "execute_result"
    }
   ],
   "source": [
    "X_test_num_scaled = pd.DataFrame(scaler.fit_transform(X_test[num_df_col_names]),\n",
    "columns=num_df_col_names, index= X_test.index)\n",
    "for col in num_df:\n",
    "        X_test[col] = X_test_num_scaled[col]\n",
    "list(range(len(num_df_col_names),43))"
   ]
  },
  {
   "cell_type": "code",
   "execution_count": 31,
   "id": "eacc9c3f-5a0a-4445-a57f-bb9fac87772f",
   "metadata": {
    "tags": []
   },
   "outputs": [],
   "source": [
    "cat_col_index = list(range(len(num_df_col_names),43))"
   ]
  },
  {
   "cell_type": "markdown",
   "id": "5aab8cae-e542-4c49-b0dd-43c30818d68f",
   "metadata": {},
   "source": [
    "### Apply SMOTENC to the imbalanced dataset"
   ]
  },
  {
   "cell_type": "code",
   "execution_count": 32,
   "id": "681127b4-dc17-479d-b0a5-de9c29d0df89",
   "metadata": {
    "tags": []
   },
   "outputs": [],
   "source": [
    "sm = SMOTENC(categorical_features=cat_col_index, random_state=123, sampling_strategy=.6)"
   ]
  },
  {
   "cell_type": "code",
   "execution_count": 33,
   "id": "7f726590-e7ee-4bff-8fb2-50d1e5312f26",
   "metadata": {
    "tags": []
   },
   "outputs": [],
   "source": [
    "X_train, y_train = sm.fit_resample(X_train, y_train)"
   ]
  },
  {
   "cell_type": "code",
   "execution_count": 45,
   "id": "a75d903a-9807-4b3b-b7a2-02ed3cf91227",
   "metadata": {
    "tags": []
   },
   "outputs": [],
   "source": [
    "df = pd.DataFrame(X_train)\n",
    "df['y_train'] = y_train\n",
    "df_train = pd.DataFrame(X_train)\n",
    "df_train['y_train'] = y_train\n",
    "\n",
    "df_test = pd.DataFrame(X_test)\n",
    "df_test['y_test'] = y_test\n",
    "# Get the column names of X_train and y_train\n",
    "column_names = list(X_train.columns) + ['y_train']\n",
    "df_test.head()\n",
    "\n",
    "csv_train =df_train.to_csv(\"df_train\", index=False)\n",
    "csv_test = df_test.to_csv(\"df_test\", index=False)"
   ]
  },
  {
   "cell_type": "code",
   "execution_count": 37,
   "id": "8cb9a3c9-f797-4f86-a607-5db0c01647fe",
   "metadata": {
    "tags": []
   },
   "outputs": [
    {
     "data": {
      "text/plain": [
       "months_as_customer  age        policy_deductable  umbrella_limit  incident_hour_of_the_day  number_of_vehicles_involved  bodily_injuries  witnesses  total_claim_amount  insured_sex_MALE  insured_education_level_College  insured_education_level_High School  insured_education_level_JD  insured_education_level_MD  insured_education_level_Masters  insured_education_level_PhD  insured_occupation_armed-forces  insured_occupation_craft-repair  insured_occupation_exec-managerial  insured_occupation_farming-fishing  insured_occupation_handlers-cleaners  insured_occupation_machine-op-inspct  insured_occupation_other-service  insured_occupation_priv-house-serv  insured_occupation_prof-specialty  insured_occupation_protective-serv  insured_occupation_sales  insured_occupation_tech-support  insured_occupation_transport-moving  incident_type_Parked Car  incident_type_Single Vehicle Collision  incident_type_Vehicle Theft  collision_type_Rear Collision  collision_type_Side Collision  incident_severity_Minor Damage  incident_severity_Total Loss  incident_severity_Trivial Damage  authorities_contacted_Fire  authorities_contacted_Other  authorities_contacted_Police  authorities_contacted_nan  property_damage_YES  police_report_available_YES\n",
       "-1.763175           -1.092863  -1.037859          -0.468981        0.445089                 -0.798551                     1.213139         1.337343   1.291834           0.0               0.0                              0.0                                  1.0                         0.0                         0.0                              0.0                          0.0                              1.0                              0.0                                 0.0                                 0.0                                   0.0                                   0.0                               0.0                                 0.0                                0.0                                 0.0                       0.0                              0.0                                  0.0                       1.0                                     0.0                          0.0                            1.0                            1.0                             0.0                           0.0                               0.0                         0.0                          1.0                           0.0                        0.0                  1.0                            1\n",
       " 0.466636            0.136867  -1.037859           1.716684        1.602773                 -0.798551                     1.213139         0.439797   0.011957           1.0               1.0                              0.0                                  0.0                         0.0                         0.0                              0.0                          1.0                              0.0                              0.0                                 0.0                                 0.0                                   0.0                                   0.0                               0.0                                 0.0                                0.0                                 0.0                       0.0                              0.0                                  0.0                       1.0                                     0.0                          0.0                            0.0                            1.0                             0.0                           0.0                               0.0                         1.0                          0.0                           0.0                        0.0                  0.0                            1\n",
       " 0.378501            0.136867   1.408273           1.716684       -0.278465                 -0.798551                     1.213139        -0.457748  -1.787475           0.0               0.0                              0.0                                  0.0                         0.0                         1.0                              0.0                          0.0                              0.0                              1.0                                 0.0                                 0.0                                   0.0                                   0.0                               0.0                                 0.0                                0.0                                 0.0                       0.0                              0.0                                  0.0                       0.0                                     1.0                          1.0                            0.0                            0.0                             0.0                           1.0                               0.0                         0.0                          0.0                           1.0                        0.0                  0.0                            1\n",
       "                                                   2.590950       -1.002018                  1.162803                     0.001731        -0.457748   0.320310           1.0               0.0                              0.0                                  0.0                         0.0                         1.0                              0.0                          1.0                              0.0                              0.0                                 0.0                                 0.0                                   0.0                                   0.0                               0.0                                 0.0                                0.0                                 0.0                       0.0                              0.0                                  0.0                       0.0                                     0.0                          0.0                            1.0                            1.0                             0.0                           0.0                               0.0                         0.0                          1.0                           0.0                        0.0                  0.0                            1\n",
       " 0.385017            0.151824   0.701984           2.343142       -1.315393                 -0.798551                     0.001731         0.828530   0.573273           0.0               0.0                              0.0                                  0.0                         0.0                         0.0                              0.0                          0.0                              0.0                              0.0                                 0.0                                 0.0                                   0.0                                   0.0                               0.0                                 0.0                                0.0                                 0.0                       0.0                              0.0                                  0.0                       1.0                                     0.0                          1.0                            0.0                            0.0                             0.0                           0.0                               0.0                         0.0                          1.0                           0.0                        0.0                  0.0                            1\n",
       "                                                                                                                                                                                                                                                                                                                                                                                                                                                                                                                                                                                                                                                                                                                                                                                                                                                                                                                                                                                                                                                                                                                                                                                                                                                                                            ..\n",
       "-0.538101           -0.757482  -0.222482           1.716684        0.155667                 -0.798551                     1.213139         1.337343   1.114425           0.0               1.0                              0.0                                  0.0                         0.0                         0.0                              0.0                          0.0                              0.0                              0.0                                 0.0                                 0.0                                   0.0                                   0.0                               0.0                                 0.0                                1.0                                 0.0                       0.0                              0.0                                  0.0                       1.0                                     0.0                          0.0                            1.0                            0.0                             0.0                           0.0                               1.0                         0.0                          0.0                           0.0                        0.0                  0.0                            1\n",
       "                    -0.310307   1.408273          -0.468981       -1.436150                  2.143480                    -1.209678         0.439797   0.754616           0.0               0.0                              0.0                                  1.0                         0.0                         0.0                              0.0                          0.0                              0.0                              0.0                                 0.0                                 0.0                                   0.0                                   0.0                               0.0                                 0.0                                0.0                                 0.0                       0.0                              1.0                                  0.0                       0.0                                     0.0                          0.0                            0.0                            0.0                             0.0                           0.0                               1.0                         0.0                          0.0                           0.0                        1.0                  1.0                            1\n",
       "-0.529287           -0.981069  -0.222482          -0.468981       -0.857307                 -0.798551                     0.001731         0.439797  -1.792083           1.0               0.0                              1.0                                  0.0                         0.0                         0.0                              0.0                          0.0                              0.0                              0.0                                 0.0                                 0.0                                   0.0                                   0.0                               0.0                                 0.0                                0.0                                 1.0                       0.0                              0.0                                  1.0                       0.0                                     0.0                          1.0                            0.0                            1.0                             0.0                           0.0                               0.0                         0.0                          0.0                           1.0                        0.0                  1.0                            1\n",
       "-0.520474           -1.092863   1.408273          -0.468981       -0.278465                 -0.798551                     0.001731         0.439797   0.046517           0.0               0.0                              0.0                                  0.0                         1.0                         0.0                              0.0                          0.0                              1.0                              0.0                                 0.0                                 0.0                                   0.0                                   0.0                               0.0                                 0.0                                0.0                                 0.0                       0.0                              0.0                                  0.0                       1.0                                     0.0                          1.0                            0.0                            0.0                             0.0                           0.0                               0.0                         0.0                          1.0                           0.0                        1.0                  0.0                            1\n",
       " 2.449669            2.372740   1.408273          -0.468981        0.879220                 -0.798551                    -1.209678        -1.355294   0.286134           0.0               1.0                              0.0                                  0.0                         0.0                         0.0                              0.0                          0.0                              0.0                              0.0                                 0.0                                 0.0                                   0.0                                   1.0                               0.0                                 0.0                                0.0                                 0.0                       0.0                              0.0                                  0.0                       1.0                                     0.0                          1.0                            0.0                            0.0                             1.0                           0.0                               0.0                         0.0                          0.0                           0.0                        0.0                  0.0                            1\n",
       "Name: count, Length: 843, dtype: int64"
      ]
     },
     "execution_count": 37,
     "metadata": {},
     "output_type": "execute_result"
    }
   ],
   "source": [
    "X_train.value_counts()"
   ]
  },
  {
   "cell_type": "code",
   "execution_count": 38,
   "id": "7507f8b0-ff0d-451e-a268-6dd870508aad",
   "metadata": {
    "tags": []
   },
   "outputs": [
    {
     "data": {
      "text/plain": [
       "fraud_reported\n",
       "0    527\n",
       "1    316\n",
       "Name: count, dtype: int64"
      ]
     },
     "execution_count": 38,
     "metadata": {},
     "output_type": "execute_result"
    }
   ],
   "source": [
    "y_train.value_counts()"
   ]
  },
  {
   "cell_type": "markdown",
   "id": "bdfe76d9-c5fd-47a4-810b-a995484d891b",
   "metadata": {
    "tags": []
   },
   "source": [
    "## Logistic Regression"
   ]
  },
  {
   "cell_type": "code",
   "execution_count": 46,
   "id": "ca59deb5-cef8-4d60-9008-7bd108583c10",
   "metadata": {
    "tags": []
   },
   "outputs": [
    {
     "data": {
      "text/html": [
       "<style>#sk-container-id-1 {color: black;background-color: white;}#sk-container-id-1 pre{padding: 0;}#sk-container-id-1 div.sk-toggleable {background-color: white;}#sk-container-id-1 label.sk-toggleable__label {cursor: pointer;display: block;width: 100%;margin-bottom: 0;padding: 0.3em;box-sizing: border-box;text-align: center;}#sk-container-id-1 label.sk-toggleable__label-arrow:before {content: \"▸\";float: left;margin-right: 0.25em;color: #696969;}#sk-container-id-1 label.sk-toggleable__label-arrow:hover:before {color: black;}#sk-container-id-1 div.sk-estimator:hover label.sk-toggleable__label-arrow:before {color: black;}#sk-container-id-1 div.sk-toggleable__content {max-height: 0;max-width: 0;overflow: hidden;text-align: left;background-color: #f0f8ff;}#sk-container-id-1 div.sk-toggleable__content pre {margin: 0.2em;color: black;border-radius: 0.25em;background-color: #f0f8ff;}#sk-container-id-1 input.sk-toggleable__control:checked~div.sk-toggleable__content {max-height: 200px;max-width: 100%;overflow: auto;}#sk-container-id-1 input.sk-toggleable__control:checked~label.sk-toggleable__label-arrow:before {content: \"▾\";}#sk-container-id-1 div.sk-estimator input.sk-toggleable__control:checked~label.sk-toggleable__label {background-color: #d4ebff;}#sk-container-id-1 div.sk-label input.sk-toggleable__control:checked~label.sk-toggleable__label {background-color: #d4ebff;}#sk-container-id-1 input.sk-hidden--visually {border: 0;clip: rect(1px 1px 1px 1px);clip: rect(1px, 1px, 1px, 1px);height: 1px;margin: -1px;overflow: hidden;padding: 0;position: absolute;width: 1px;}#sk-container-id-1 div.sk-estimator {font-family: monospace;background-color: #f0f8ff;border: 1px dotted black;border-radius: 0.25em;box-sizing: border-box;margin-bottom: 0.5em;}#sk-container-id-1 div.sk-estimator:hover {background-color: #d4ebff;}#sk-container-id-1 div.sk-parallel-item::after {content: \"\";width: 100%;border-bottom: 1px solid gray;flex-grow: 1;}#sk-container-id-1 div.sk-label:hover label.sk-toggleable__label {background-color: #d4ebff;}#sk-container-id-1 div.sk-serial::before {content: \"\";position: absolute;border-left: 1px solid gray;box-sizing: border-box;top: 0;bottom: 0;left: 50%;z-index: 0;}#sk-container-id-1 div.sk-serial {display: flex;flex-direction: column;align-items: center;background-color: white;padding-right: 0.2em;padding-left: 0.2em;position: relative;}#sk-container-id-1 div.sk-item {position: relative;z-index: 1;}#sk-container-id-1 div.sk-parallel {display: flex;align-items: stretch;justify-content: center;background-color: white;position: relative;}#sk-container-id-1 div.sk-item::before, #sk-container-id-1 div.sk-parallel-item::before {content: \"\";position: absolute;border-left: 1px solid gray;box-sizing: border-box;top: 0;bottom: 0;left: 50%;z-index: -1;}#sk-container-id-1 div.sk-parallel-item {display: flex;flex-direction: column;z-index: 1;position: relative;background-color: white;}#sk-container-id-1 div.sk-parallel-item:first-child::after {align-self: flex-end;width: 50%;}#sk-container-id-1 div.sk-parallel-item:last-child::after {align-self: flex-start;width: 50%;}#sk-container-id-1 div.sk-parallel-item:only-child::after {width: 0;}#sk-container-id-1 div.sk-dashed-wrapped {border: 1px dashed gray;margin: 0 0.4em 0.5em 0.4em;box-sizing: border-box;padding-bottom: 0.4em;background-color: white;}#sk-container-id-1 div.sk-label label {font-family: monospace;font-weight: bold;display: inline-block;line-height: 1.2em;}#sk-container-id-1 div.sk-label-container {text-align: center;}#sk-container-id-1 div.sk-container {/* jupyter's `normalize.less` sets `[hidden] { display: none; }` but bootstrap.min.css set `[hidden] { display: none !important; }` so we also need the `!important` here to be able to override the default hidden behavior on the sphinx rendered scikit-learn.org. See: https://github.com/scikit-learn/scikit-learn/issues/21755 */display: inline-block !important;position: relative;}#sk-container-id-1 div.sk-text-repr-fallback {display: none;}</style><div id=\"sk-container-id-1\" class=\"sk-top-container\"><div class=\"sk-text-repr-fallback\"><pre>LogisticRegression()</pre><b>In a Jupyter environment, please rerun this cell to show the HTML representation or trust the notebook. <br />On GitHub, the HTML representation is unable to render, please try loading this page with nbviewer.org.</b></div><div class=\"sk-container\" hidden><div class=\"sk-item\"><div class=\"sk-estimator sk-toggleable\"><input class=\"sk-toggleable__control sk-hidden--visually\" id=\"sk-estimator-id-1\" type=\"checkbox\" checked><label for=\"sk-estimator-id-1\" class=\"sk-toggleable__label sk-toggleable__label-arrow\">LogisticRegression</label><div class=\"sk-toggleable__content\"><pre>LogisticRegression()</pre></div></div></div></div></div>"
      ],
      "text/plain": [
       "LogisticRegression()"
      ]
     },
     "execution_count": 46,
     "metadata": {},
     "output_type": "execute_result"
    }
   ],
   "source": [
    "log_reg = LogisticRegression()\n",
    "log_reg.fit(X_train,y_train)"
   ]
  },
  {
   "cell_type": "code",
   "execution_count": null,
   "id": "2412be15-5d58-43bc-8e95-d3f49c185935",
   "metadata": {},
   "outputs": [],
   "source": []
  },
  {
   "cell_type": "code",
   "execution_count": 47,
   "id": "2affbd67-a3c1-4b44-91e2-9795695f663a",
   "metadata": {
    "tags": []
   },
   "outputs": [
    {
     "name": "stdout",
     "output_type": "stream",
     "text": [
      "Accuracy of Logistic regression for training data is : 86.36%\n",
      "Accuracy of Logistic regression for testing data is : 77.67%\n"
     ]
    }
   ],
   "source": [
    "\n",
    "\n",
    "#Training dataset\n",
    "log_reg_pred_train = log_reg.predict(X_train)\n",
    "log_reg_acc_train = accuracy_score(y_train,log_reg_pred_train)\n",
    "print(\"Accuracy of Logistic regression for training data is :\",\"{:.2f}%\".format(100*log_reg_acc_train))\n",
    "\n",
    "#Testing dataset\n",
    "log_reg_pred_test = log_reg.predict(X_test)\n",
    "log_reg_acc_test = accuracy_score(y_test,log_reg_pred_test)\n",
    "print(\"Accuracy of Logistic regression for testing data is :\",\"{:.2f}%\".format(100*log_reg_acc_test ))\n",
    "\n"
   ]
  },
  {
   "cell_type": "markdown",
   "id": "fc257f8f-179e-4d9d-a5aa-0515b7f5b692",
   "metadata": {},
   "source": [
    "KNN \n"
   ]
  },
  {
   "cell_type": "code",
   "execution_count": null,
   "id": "953d5484-3e56-4562-af5a-f46104d64a30",
   "metadata": {
    "tags": []
   },
   "outputs": [],
   "source": [
    "knn = KNeighborsClassifier(n_neighbors=30)\n",
    "knn.fit(X_train,y_train)\n",
    "y_pred = knn.predict(X_test)\n",
    "\n",
    "\n",
    "#Training dataset\n",
    "knn_train_acc = accuracy_score(y_train,knn.predict(X_train))\n",
    "print(\"Training score of KNN is :\",\"{:.2f}%\".format (100 *knn_train_acc))\n",
    "\n",
    "#Testing dataset\n",
    "knn_test_acc = accuracy_score(y_test,y_pred)\n",
    "print(\"Testing score of KNN is : \",\"{:.2f}%\".format (100 *knn_test_acc))\n",
    "      \n",
    "print(confusion_matrix(y_test, y_pred))\n",
    "print(classification_report(y_test, y_pred))\n",
    "\n"
   ]
  },
  {
   "cell_type": "code",
   "execution_count": null,
   "id": "0c196f58-23bf-491f-a286-92b9c5706cfe",
   "metadata": {
    "tags": []
   },
   "outputs": [],
   "source": [
    "\n",
    "\n",
    "#Hyperparameter Tuning\n",
    "params = {\n",
    "    'n_neighbors':[5,7,9,11,13,15,17,19,21,23,25,27,29],\n",
    "    'weights': ['uniform','distance'],\n",
    "    'metric': ['minkowski','euclidean','manhattan']\n",
    "}\n",
    "\n",
    "grid_search_knn = GridSearchCV(knn,params,cv=10,n_jobs=-1,verbose=1)\n",
    "grid_search_knn.fit(X_train, y_train)\n",
    "\n"
   ]
  },
  {
   "cell_type": "code",
   "execution_count": null,
   "id": "0c22c013-b4b2-460a-93ad-0c6a32b1da05",
   "metadata": {
    "tags": []
   },
   "outputs": [],
   "source": [
    "print(grid_search_knn.best_params_)"
   ]
  },
  {
   "cell_type": "code",
   "execution_count": null,
   "id": "2d3ca05e-d3e3-4d96-9d9e-6887b5001784",
   "metadata": {
    "tags": []
   },
   "outputs": [],
   "source": [
    "knn = grid_search_knn.best_estimator_\n",
    "y_pred = knn.predict(X_test)"
   ]
  },
  {
   "cell_type": "code",
   "execution_count": null,
   "id": "24485ae6-54e7-401a-abc4-b11719f6e502",
   "metadata": {
    "tags": []
   },
   "outputs": [],
   "source": [
    "\n",
    "\n",
    "#Training dataset\n",
    "knn_train_acc = accuracy_score(y_train, knn.predict(X_train))\n",
    "print(\"Training accuracy of SVM Tree is:\",\"{:.2f}%\".format (100 * knn_train_acc))\n",
    "\n",
    "#Testing dataset\n",
    "knn_test_acc = accuracy_score(y_test, y_pred)\n",
    "print(\"Testing accuracy of SVM Tree is:\",\"{:.2f}%\".format (100 * knn_test_acc))\n",
    "\n",
    "print(confusion_matrix(y_test, y_pred))\n",
    "print(classification_report(y_test, y_pred))\n",
    "\n"
   ]
  },
  {
   "cell_type": "markdown",
   "id": "03d812d7-8e36-44a4-befb-466b4f2e1cd5",
   "metadata": {},
   "source": [
    "### Decision Tree"
   ]
  },
  {
   "cell_type": "code",
   "execution_count": 48,
   "id": "320dd1c7-a51a-4506-9fb0-2e77a8995763",
   "metadata": {
    "tags": []
   },
   "outputs": [],
   "source": [
    "dtc = DecisionTreeClassifier()\n",
    "dtc.fit(X_train,y_train)\n",
    "\n",
    "y_pred = dtc.predict(X_test)"
   ]
  },
  {
   "cell_type": "code",
   "execution_count": 49,
   "id": "29e96979-b644-45fd-a410-e4586a5ae5ac",
   "metadata": {
    "tags": []
   },
   "outputs": [
    {
     "name": "stdout",
     "output_type": "stream",
     "text": [
      "Training accuracy of Decision Tree is: 100.00%\n",
      "Testing accuracy of Decision Tree is: 69.00%\n",
      "[[182  44]\n",
      " [ 49  25]]\n",
      "              precision    recall  f1-score   support\n",
      "\n",
      "           0       0.79      0.81      0.80       226\n",
      "           1       0.36      0.34      0.35        74\n",
      "\n",
      "    accuracy                           0.69       300\n",
      "   macro avg       0.58      0.57      0.57       300\n",
      "weighted avg       0.68      0.69      0.69       300\n",
      "\n"
     ]
    }
   ],
   "source": [
    "\n",
    "\n",
    "#Training dataset\n",
    "dtc_train_acc = accuracy_score(y_train, dtc.predict(X_train))\n",
    "print(\"Training accuracy of Decision Tree is:\",\"{:.2f}%\".format (100 * dtc_train_acc))\n",
    "\n",
    "#Testing dataset\n",
    "dtc_test_acc = accuracy_score(y_test,y_pred)\n",
    "print(\"Testing accuracy of Decision Tree is:\",\"{:.2f}%\".format (100 * dtc_test_acc))\n",
    "\n",
    "print(confusion_matrix(y_test,y_pred))\n",
    "print(classification_report(y_test,y_pred))\n",
    "\n"
   ]
  },
  {
   "cell_type": "code",
   "execution_count": null,
   "id": "8e1d4db3-f34c-4e4a-b688-0a1233af372c",
   "metadata": {
    "tags": []
   },
   "outputs": [],
   "source": [
    "\n",
    "\n",
    "#Hyperparameter Tuning\n",
    "\n",
    "params = {\n",
    "    'criterion':['gini','entropy'],\n",
    "    'max_depth': [3,5,7,10],\n",
    "    'min_samples_split': range (2,10,1),\n",
    "    'min_samples_leaf': range (2,10,1)    \n",
    "}\n",
    "\n",
    "grid_search_dtc = GridSearchCV(dtc,params,cv=5,n_jobs=-1,verbose=1)\n",
    "grid_search_dtc.fit(X_train, y_train)\n",
    "\n"
   ]
  },
  {
   "cell_type": "code",
   "execution_count": null,
   "id": "6259a054-14c4-46e6-9b1e-b5eff5baa0a9",
   "metadata": {
    "tags": []
   },
   "outputs": [],
   "source": [
    "print(grid_search_dtc.best_params_)"
   ]
  },
  {
   "cell_type": "code",
   "execution_count": null,
   "id": "989cbe00-fdc6-4422-a968-273f348f8fba",
   "metadata": {
    "tags": []
   },
   "outputs": [],
   "source": [
    "grid_search_dtc.best_estimator_.get_params()"
   ]
  },
  {
   "cell_type": "code",
   "execution_count": null,
   "id": "12ae30c0-2edb-4064-a1ab-5be2e3e28f49",
   "metadata": {
    "tags": []
   },
   "outputs": [],
   "source": [
    "dtc = grid_search_dtc.best_estimator_"
   ]
  },
  {
   "cell_type": "code",
   "execution_count": null,
   "id": "86130b7e-8908-4279-b15c-e7bddb5156e0",
   "metadata": {
    "tags": []
   },
   "outputs": [],
   "source": [
    "y_pred = dtc.predict(X_test)"
   ]
  },
  {
   "cell_type": "code",
   "execution_count": null,
   "id": "e35ad893-0cc6-405b-b728-273448f3a718",
   "metadata": {
    "tags": []
   },
   "outputs": [],
   "source": [
    "\n",
    "\n",
    "#Training dataset\n",
    "dtc_train_acc = accuracy_score(y_train, dtc.predict(X_train))\n",
    "print(\"Training accuracy of Decision Tree is:\",\"{:.2f}%\".format (100 * dtc_train_acc))\n",
    "\n",
    "#Testing dataset\n",
    "dtc_test_acc = accuracy_score(y_test, y_pred)\n",
    "print(\"Testing accuracy of Decision Tree is:\",\"{:.2f}%\".format (100 * dtc_test_acc))\n",
    "\n",
    "print(confusion_matrix(y_test, y_pred))\n",
    "print(classification_report(y_test, y_pred))\n",
    "\n"
   ]
  },
  {
   "cell_type": "markdown",
   "id": "e428384a-99ff-4bb7-821a-69a0fc2b4920",
   "metadata": {},
   "source": [
    "Random Forest Classifier"
   ]
  },
  {
   "cell_type": "code",
   "execution_count": 50,
   "id": "0a21b324-7c83-4236-88d2-b3847d7d5f56",
   "metadata": {
    "tags": []
   },
   "outputs": [],
   "source": [
    "rand_clf = RandomForestClassifier(criterion='entropy',max_depth=10,max_features='sqrt',min_samples_leaf=1,min_samples_split=3,n_estimators=140)"
   ]
  },
  {
   "cell_type": "code",
   "execution_count": 51,
   "id": "1a3d3fae-a440-4145-8c98-27e21abe3bb1",
   "metadata": {
    "tags": []
   },
   "outputs": [],
   "source": [
    "rand_clf.fit(X_train,y_train)\n",
    "y_pred = rand_clf.predict(X_test)"
   ]
  },
  {
   "cell_type": "code",
   "execution_count": 52,
   "id": "e1a99b1d-f52d-4a6f-b014-ddb04e65383c",
   "metadata": {
    "tags": []
   },
   "outputs": [
    {
     "name": "stdout",
     "output_type": "stream",
     "text": [
      "Training accuracy of Random forest classifier is: 95.49%\n",
      "Testing accuracy of Random forest classifier is: 77.33%\n",
      "[[200  26]\n",
      " [ 42  32]]\n",
      "              precision    recall  f1-score   support\n",
      "\n",
      "           0       0.83      0.88      0.85       226\n",
      "           1       0.55      0.43      0.48        74\n",
      "\n",
      "    accuracy                           0.77       300\n",
      "   macro avg       0.69      0.66      0.67       300\n",
      "weighted avg       0.76      0.77      0.76       300\n",
      "\n"
     ]
    }
   ],
   "source": [
    "#Training dataset\n",
    "rand_clf_train_acc = accuracy_score(y_train,rand_clf.predict(X_train))\n",
    "print(\"Training accuracy of Random forest classifier is:\",\"{:.2f}%\".format(100*rand_clf_train_acc))\n",
    "\n",
    "#Testing dataset\n",
    "rand_clf_test_acc = accuracy_score(y_test,y_pred)\n",
    "print(\"Testing accuracy of Random forest classifier is:\",\"{:.2f}%\".format(100*rand_clf_test_acc))\n",
    "\n",
    "print(confusion_matrix(y_test,y_pred))\n",
    "print(classification_report(y_test,y_pred))"
   ]
  },
  {
   "cell_type": "code",
   "execution_count": 53,
   "id": "76fedb0a-8ca2-451d-9922-7c78593e6149",
   "metadata": {
    "tags": []
   },
   "outputs": [
    {
     "name": "stdout",
     "output_type": "stream",
     "text": [
      "Fitting 5 folds for each of 12 candidates, totalling 60 fits\n"
     ]
    },
    {
     "data": {
      "text/html": [
       "<style>#sk-container-id-2 {color: black;background-color: white;}#sk-container-id-2 pre{padding: 0;}#sk-container-id-2 div.sk-toggleable {background-color: white;}#sk-container-id-2 label.sk-toggleable__label {cursor: pointer;display: block;width: 100%;margin-bottom: 0;padding: 0.3em;box-sizing: border-box;text-align: center;}#sk-container-id-2 label.sk-toggleable__label-arrow:before {content: \"▸\";float: left;margin-right: 0.25em;color: #696969;}#sk-container-id-2 label.sk-toggleable__label-arrow:hover:before {color: black;}#sk-container-id-2 div.sk-estimator:hover label.sk-toggleable__label-arrow:before {color: black;}#sk-container-id-2 div.sk-toggleable__content {max-height: 0;max-width: 0;overflow: hidden;text-align: left;background-color: #f0f8ff;}#sk-container-id-2 div.sk-toggleable__content pre {margin: 0.2em;color: black;border-radius: 0.25em;background-color: #f0f8ff;}#sk-container-id-2 input.sk-toggleable__control:checked~div.sk-toggleable__content {max-height: 200px;max-width: 100%;overflow: auto;}#sk-container-id-2 input.sk-toggleable__control:checked~label.sk-toggleable__label-arrow:before {content: \"▾\";}#sk-container-id-2 div.sk-estimator input.sk-toggleable__control:checked~label.sk-toggleable__label {background-color: #d4ebff;}#sk-container-id-2 div.sk-label input.sk-toggleable__control:checked~label.sk-toggleable__label {background-color: #d4ebff;}#sk-container-id-2 input.sk-hidden--visually {border: 0;clip: rect(1px 1px 1px 1px);clip: rect(1px, 1px, 1px, 1px);height: 1px;margin: -1px;overflow: hidden;padding: 0;position: absolute;width: 1px;}#sk-container-id-2 div.sk-estimator {font-family: monospace;background-color: #f0f8ff;border: 1px dotted black;border-radius: 0.25em;box-sizing: border-box;margin-bottom: 0.5em;}#sk-container-id-2 div.sk-estimator:hover {background-color: #d4ebff;}#sk-container-id-2 div.sk-parallel-item::after {content: \"\";width: 100%;border-bottom: 1px solid gray;flex-grow: 1;}#sk-container-id-2 div.sk-label:hover label.sk-toggleable__label {background-color: #d4ebff;}#sk-container-id-2 div.sk-serial::before {content: \"\";position: absolute;border-left: 1px solid gray;box-sizing: border-box;top: 0;bottom: 0;left: 50%;z-index: 0;}#sk-container-id-2 div.sk-serial {display: flex;flex-direction: column;align-items: center;background-color: white;padding-right: 0.2em;padding-left: 0.2em;position: relative;}#sk-container-id-2 div.sk-item {position: relative;z-index: 1;}#sk-container-id-2 div.sk-parallel {display: flex;align-items: stretch;justify-content: center;background-color: white;position: relative;}#sk-container-id-2 div.sk-item::before, #sk-container-id-2 div.sk-parallel-item::before {content: \"\";position: absolute;border-left: 1px solid gray;box-sizing: border-box;top: 0;bottom: 0;left: 50%;z-index: -1;}#sk-container-id-2 div.sk-parallel-item {display: flex;flex-direction: column;z-index: 1;position: relative;background-color: white;}#sk-container-id-2 div.sk-parallel-item:first-child::after {align-self: flex-end;width: 50%;}#sk-container-id-2 div.sk-parallel-item:last-child::after {align-self: flex-start;width: 50%;}#sk-container-id-2 div.sk-parallel-item:only-child::after {width: 0;}#sk-container-id-2 div.sk-dashed-wrapped {border: 1px dashed gray;margin: 0 0.4em 0.5em 0.4em;box-sizing: border-box;padding-bottom: 0.4em;background-color: white;}#sk-container-id-2 div.sk-label label {font-family: monospace;font-weight: bold;display: inline-block;line-height: 1.2em;}#sk-container-id-2 div.sk-label-container {text-align: center;}#sk-container-id-2 div.sk-container {/* jupyter's `normalize.less` sets `[hidden] { display: none; }` but bootstrap.min.css set `[hidden] { display: none !important; }` so we also need the `!important` here to be able to override the default hidden behavior on the sphinx rendered scikit-learn.org. See: https://github.com/scikit-learn/scikit-learn/issues/21755 */display: inline-block !important;position: relative;}#sk-container-id-2 div.sk-text-repr-fallback {display: none;}</style><div id=\"sk-container-id-2\" class=\"sk-top-container\"><div class=\"sk-text-repr-fallback\"><pre>GridSearchCV(cv=5,\n",
       "             estimator=RandomForestClassifier(criterion=&#x27;entropy&#x27;, max_depth=10,\n",
       "                                              min_samples_split=3,\n",
       "                                              n_estimators=140),\n",
       "             n_jobs=-1,\n",
       "             param_grid={&#x27;max_features&#x27;: [&#x27;sqrt&#x27;, &#x27;log2&#x27;],\n",
       "                         &#x27;n_estimators&#x27;: [50, 70, 90, 120, 180, 200]},\n",
       "             verbose=1)</pre><b>In a Jupyter environment, please rerun this cell to show the HTML representation or trust the notebook. <br />On GitHub, the HTML representation is unable to render, please try loading this page with nbviewer.org.</b></div><div class=\"sk-container\" hidden><div class=\"sk-item sk-dashed-wrapped\"><div class=\"sk-label-container\"><div class=\"sk-label sk-toggleable\"><input class=\"sk-toggleable__control sk-hidden--visually\" id=\"sk-estimator-id-2\" type=\"checkbox\" ><label for=\"sk-estimator-id-2\" class=\"sk-toggleable__label sk-toggleable__label-arrow\">GridSearchCV</label><div class=\"sk-toggleable__content\"><pre>GridSearchCV(cv=5,\n",
       "             estimator=RandomForestClassifier(criterion=&#x27;entropy&#x27;, max_depth=10,\n",
       "                                              min_samples_split=3,\n",
       "                                              n_estimators=140),\n",
       "             n_jobs=-1,\n",
       "             param_grid={&#x27;max_features&#x27;: [&#x27;sqrt&#x27;, &#x27;log2&#x27;],\n",
       "                         &#x27;n_estimators&#x27;: [50, 70, 90, 120, 180, 200]},\n",
       "             verbose=1)</pre></div></div></div><div class=\"sk-parallel\"><div class=\"sk-parallel-item\"><div class=\"sk-item\"><div class=\"sk-label-container\"><div class=\"sk-label sk-toggleable\"><input class=\"sk-toggleable__control sk-hidden--visually\" id=\"sk-estimator-id-3\" type=\"checkbox\" ><label for=\"sk-estimator-id-3\" class=\"sk-toggleable__label sk-toggleable__label-arrow\">estimator: RandomForestClassifier</label><div class=\"sk-toggleable__content\"><pre>RandomForestClassifier(criterion=&#x27;entropy&#x27;, max_depth=10, min_samples_split=3,\n",
       "                       n_estimators=140)</pre></div></div></div><div class=\"sk-serial\"><div class=\"sk-item\"><div class=\"sk-estimator sk-toggleable\"><input class=\"sk-toggleable__control sk-hidden--visually\" id=\"sk-estimator-id-4\" type=\"checkbox\" ><label for=\"sk-estimator-id-4\" class=\"sk-toggleable__label sk-toggleable__label-arrow\">RandomForestClassifier</label><div class=\"sk-toggleable__content\"><pre>RandomForestClassifier(criterion=&#x27;entropy&#x27;, max_depth=10, min_samples_split=3,\n",
       "                       n_estimators=140)</pre></div></div></div></div></div></div></div></div></div></div>"
      ],
      "text/plain": [
       "GridSearchCV(cv=5,\n",
       "             estimator=RandomForestClassifier(criterion='entropy', max_depth=10,\n",
       "                                              min_samples_split=3,\n",
       "                                              n_estimators=140),\n",
       "             n_jobs=-1,\n",
       "             param_grid={'max_features': ['sqrt', 'log2'],\n",
       "                         'n_estimators': [50, 70, 90, 120, 180, 200]},\n",
       "             verbose=1)"
      ]
     },
     "execution_count": 53,
     "metadata": {},
     "output_type": "execute_result"
    }
   ],
   "source": [
    "\n",
    "\n",
    "## Hyperparameter tuning\n",
    "parameters = {\n",
    "    'n_estimators': [50,70,90,120,180,200],\n",
    "    'max_features': ['sqrt', 'log2'],\n",
    "}\n",
    "\n",
    "grid_search_rand_clf = GridSearchCV(rand_clf,parameters,n_jobs=-1,cv=5,verbose=1)\n",
    "grid_search_rand_clf.fit(X_train,y_train)\n",
    "\n"
   ]
  },
  {
   "cell_type": "code",
   "execution_count": 54,
   "id": "c7e66204-8a6b-4b45-b4a1-6cf256d18feb",
   "metadata": {
    "tags": []
   },
   "outputs": [
    {
     "name": "stdout",
     "output_type": "stream",
     "text": [
      "{'max_features': 'sqrt', 'n_estimators': 50}\n"
     ]
    }
   ],
   "source": [
    "print(grid_search_rand_clf.best_params_)"
   ]
  },
  {
   "cell_type": "code",
   "execution_count": 55,
   "id": "07fa36eb-6192-4628-be83-23e063435166",
   "metadata": {
    "tags": []
   },
   "outputs": [],
   "source": [
    "rand_clf = grid_search_rand_clf.best_estimator_"
   ]
  },
  {
   "cell_type": "code",
   "execution_count": 56,
   "id": "2d25bcb3-bc08-418b-8ef4-3ddd257183d4",
   "metadata": {
    "tags": []
   },
   "outputs": [],
   "source": [
    "y_pred = rand_clf.predict(X_test)"
   ]
  },
  {
   "cell_type": "code",
   "execution_count": 57,
   "id": "c6383755-626c-43d7-b8e9-12f6ef513227",
   "metadata": {
    "tags": []
   },
   "outputs": [
    {
     "name": "stdout",
     "output_type": "stream",
     "text": [
      "Training accuracy of Random forest classifie is: 95.26%\n",
      "Testing accuracy of Random forest classifie is: 78.33%\n",
      "[[200  26]\n",
      " [ 39  35]]\n",
      "              precision    recall  f1-score   support\n",
      "\n",
      "           0       0.84      0.88      0.86       226\n",
      "           1       0.57      0.47      0.52        74\n",
      "\n",
      "    accuracy                           0.78       300\n",
      "   macro avg       0.71      0.68      0.69       300\n",
      "weighted avg       0.77      0.78      0.78       300\n",
      "\n"
     ]
    }
   ],
   "source": [
    "#Training dataset\n",
    "rand_clf_train_acc = accuracy_score(y_train,rand_clf.predict(X_train))\n",
    "print(\"Training accuracy of Random forest classifie is:\",\"{:.2f}%\".format(100*rand_clf_train_acc))\n",
    "\n",
    "#Testing dataset\n",
    "rand_clf_test_acc = accuracy_score(y_test,y_pred)\n",
    "print(\"Testing accuracy of Random forest classifie is:\",\"{:.2f}%\".format(100*rand_clf_test_acc))\n",
    "\n",
    "print(confusion_matrix(y_test,y_pred))\n",
    "print(classification_report(y_test,y_pred)) "
   ]
  },
  {
   "cell_type": "markdown",
   "id": "5bdf0480-942f-4adb-94ae-1999f9abc3e1",
   "metadata": {},
   "source": [
    "XGBOOST"
   ]
  },
  {
   "cell_type": "code",
   "execution_count": null,
   "id": "acd06931-6db0-47d7-9de3-cfeecff90503",
   "metadata": {
    "tags": []
   },
   "outputs": [],
   "source": [
    "\n",
    "\n",
    "xgb = XGBClassifier()\n",
    "xgb.fit(X_train, y_train)\n",
    "\n",
    "y_pred = xgb.predict(X_test)\n",
    "\n"
   ]
  },
  {
   "cell_type": "code",
   "execution_count": null,
   "id": "75133d76-5b12-4c6c-bd17-7b15417131a8",
   "metadata": {
    "tags": []
   },
   "outputs": [],
   "source": [
    "\n",
    "\n",
    "#Training dataset\n",
    "xgb_train_acc = accuracy_score(y_train, xgb.predict(X_train))\n",
    "print(f\"Training accuracy of XgBoost is :\",\"{:.2f}%\".format(100* xgb_train_acc))\n",
    "\n",
    "#Testing dataset\n",
    "xgb_test_acc = accuracy_score(y_test, y_pred)\n",
    "print(f\"Test accuracy of XgBoost is :\",\"{:.2f}%\".format(100* xgb_test_acc))\n",
    "\n",
    "print(confusion_matrix(y_test, y_pred))\n",
    "print(classification_report(y_test, y_pred))\n",
    "\n"
   ]
  },
  {
   "cell_type": "code",
   "execution_count": null,
   "id": "10dbdee4-70d4-4d83-b35a-89b8fcf273ee",
   "metadata": {
    "tags": []
   },
   "outputs": [],
   "source": [
    "\n",
    "\n",
    "# Hyperparamter Tuning\n",
    "param_grid = {\"n_estimators\": [10, 50, 100, 130], \n",
    "              \"criterion\": ['gini', 'entropy'],\n",
    "              \"max_depth\": range(2, 10, 1)}\n",
    "\n",
    "grid_search_xgb = GridSearchCV(estimator=xgb, param_grid=param_grid, cv=5,  verbose=3,n_jobs=-1)\n",
    "grid_search_xgb.fit(X_train, y_train)\n",
    "\n"
   ]
  },
  {
   "cell_type": "code",
   "execution_count": null,
   "id": "23fcb824-768d-49ed-a921-3a97a4d22f9c",
   "metadata": {
    "tags": []
   },
   "outputs": [],
   "source": [
    "grid_search_xgb.best_estimator_"
   ]
  },
  {
   "cell_type": "code",
   "execution_count": null,
   "id": "42c66301-9d73-48df-8684-e31f23ec716b",
   "metadata": {
    "tags": []
   },
   "outputs": [],
   "source": [
    "xgb = grid_search_xgb.best_estimator_"
   ]
  },
  {
   "cell_type": "code",
   "execution_count": null,
   "id": "3b2cfbc5-f6e0-48b3-9381-1425c41770c4",
   "metadata": {
    "tags": []
   },
   "outputs": [],
   "source": [
    "y_pred = xgb.predict(X_test)"
   ]
  },
  {
   "cell_type": "code",
   "execution_count": null,
   "id": "d12b553e-30d7-4814-9136-12046f9ccf93",
   "metadata": {
    "tags": []
   },
   "outputs": [],
   "source": [
    "\n",
    "\n",
    "#Training dataset\n",
    "xgb_train_acc = accuracy_score(y_train, xgb.predict(X_train))\n",
    "print(\"Training accuracy of XgBoost is :\",\"{:.2f}%\".format(100*xgb_train_acc))\n",
    "\n",
    "#Testing dataset\n",
    "xgb_test_acc = accuracy_score(y_test, y_pred)\n",
    "print(\"Test accuracy of XgBoost is :\",\"{:.2f}%\".format(100*xgb_test_acc))\n",
    "\n",
    "print(confusion_matrix(y_test, y_pred))\n",
    "print(classification_report(y_test, y_pred))\n",
    "\n"
   ]
  },
  {
   "cell_type": "code",
   "execution_count": null,
   "id": "f6e5bc01-79a3-4759-94c0-043bd81ba6c5",
   "metadata": {
    "tags": []
   },
   "outputs": [],
   "source": [
    "\n",
    "\n",
    "models = pd.DataFrame({\n",
    "    'Model' : ['LogisticRegression', 'KNN', 'Decision Tree', 'Random Forest', 'XGBoost'],\n",
    "    'Score' : [log_reg_acc_test, knn_test_acc, dtc_test_acc, rand_clf_test_acc, xgb_test_acc]\n",
    "})\n",
    "\n",
    "models.sort_values(by = 'Score', ascending = False)\n",
    "\n"
   ]
  },
  {
   "cell_type": "code",
   "execution_count": null,
   "id": "60bf2fff-6fb0-4947-bd3a-8249ea6a16b1",
   "metadata": {
    "tags": []
   },
   "outputs": [],
   "source": [
    "fig,ax = plt.subplots(figsize=(10,10))\n",
    "barplot =sns.barplot(data=models,x='Score', y='Model',palette='bright',order=models.sort_values('Score',ascending=False).Model,ax=ax)\n",
    "ax.set(xlim=(0,1))\n",
    "for p in ax.patches:\n",
    "    ax.annotate(\"%.2f\" % p.get_width(), xy=(p.get_width(), p.get_y()+p.get_height()/2),\n",
    "            xytext=(5, 0), textcoords='offset points', ha=\"left\", va=\"center\")"
   ]
  },
  {
   "cell_type": "code",
   "execution_count": null,
   "id": "4dd6a2f8-e183-4fe1-adf5-58884fefe719",
   "metadata": {},
   "outputs": [],
   "source": []
  }
 ],
 "metadata": {
  "kernelspec": {
   "display_name": "Python 3 (ipykernel)",
   "language": "python",
   "name": "python3"
  },
  "language_info": {
   "codemirror_mode": {
    "name": "ipython",
    "version": 3
   },
   "file_extension": ".py",
   "mimetype": "text/x-python",
   "name": "python",
   "nbconvert_exporter": "python",
   "pygments_lexer": "ipython3",
   "version": "3.10.6"
  }
 },
 "nbformat": 4,
 "nbformat_minor": 5
}
