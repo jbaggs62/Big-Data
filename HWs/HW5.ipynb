{
 "cells": [
  {
   "cell_type": "code",
   "execution_count": 2,
   "id": "2458075e-52e6-445b-92fa-a34065485a78",
   "metadata": {
    "tags": []
   },
   "outputs": [
    {
     "data": {
      "text/plain": [
       "\u001b[32mimport \u001b[39m\u001b[36m$ivy.$                                  \n",
       "\u001b[39m\n",
       "\u001b[32mimport \u001b[39m\u001b[36m$ivy.$                                   \n",
       "\u001b[39m\n",
       "\u001b[32mimport \u001b[39m\u001b[36m$ivy.$                                    \n",
       "\u001b[39m\n",
       "\u001b[32mimport \u001b[39m\u001b[36m$ivy.$                        \n",
       "\u001b[39m"
      ]
     },
     "execution_count": 2,
     "metadata": {},
     "output_type": "execute_result"
    }
   ],
   "source": [
    "import $ivy.`org.apache.spark::spark-sql:3.2.2`\n",
    "import $ivy.`org.apache.spark::spark-core:3.2.2`\n",
    "import $ivy.`org.apache.spark::spark-mllib:3.2.2`\n",
    "import $ivy.`org.tallison:jmatio:1.3`\n"
   ]
  },
  {
   "cell_type": "code",
   "execution_count": 30,
   "id": "1e3a88da-ec2a-4b26-b693-a1d8a40e6a71",
   "metadata": {
    "tags": []
   },
   "outputs": [
    {
     "name": "stdout",
     "output_type": "stream",
     "text": [
      "Creating SparkSession\n"
     ]
    },
    {
     "data": {
      "text/html": [
       "<a target=\"_blank\" href=\"http://172.23.40.194:4040\">Spark UI</a>"
      ]
     },
     "metadata": {},
     "output_type": "display_data"
    },
    {
     "data": {
      "text/plain": [
       "\u001b[32mimport \u001b[39m\u001b[36morg.apache.log4j.{Level, Logger}\n",
       "\u001b[39m\n",
       "\u001b[32mimport \u001b[39m\u001b[36morg.apache.log4j.{Level, Logger}\n",
       "\u001b[39m\n",
       "\u001b[32mimport \u001b[39m\u001b[36morg.apache.spark.sql._\n",
       "\u001b[39m\n",
       "\u001b[32mimport \u001b[39m\u001b[36morg.apache.spark.mllib.linalg._\n",
       "\u001b[39m\n",
       "\u001b[32mimport \u001b[39m\u001b[36morg.apache.spark.mllib.regression._\n",
       "\u001b[39m\n",
       "\u001b[32mimport \u001b[39m\u001b[36morg.apache.spark.mllib.classification.{SVMModel,\n",
       "SVMWithSGD}\n",
       "\u001b[39m\n",
       "\u001b[32mimport \u001b[39m\u001b[36morg.apache.spark.mllib.evaluation.BinaryClassificationMetrics\n",
       "\u001b[39m\n",
       "\u001b[32mimport \u001b[39m\u001b[36morg.apache.spark.mllib.util.MLUtils\n",
       "\u001b[39m\n",
       "\u001b[32mimport \u001b[39m\u001b[36morg.apache.spark.ml.feature.LabeledPoint\n",
       "\u001b[39m\n",
       "\u001b[32mimport \u001b[39m\u001b[36morg.apache.spark.ml.linalg.Vectors\n",
       "\u001b[39m\n",
       "\u001b[32mimport \u001b[39m\u001b[36mcom.jmatio._\n",
       "\u001b[39m\n",
       "\u001b[32mimport \u001b[39m\u001b[36mcom.jmatio.types._\n",
       "\u001b[39m\n",
       "\u001b[32mimport \u001b[39m\u001b[36morg.apache.spark.ml.feature.PCA\n",
       "\u001b[39m\n",
       "\u001b[32mimport \u001b[39m\u001b[36morg.apache.spark.ml.linalg.Matrix\n",
       "\u001b[39m\n",
       "\u001b[32mimport \u001b[39m\u001b[36morg.apache.spark.mllib.linalg.distributed\n",
       "\u001b[39m\n",
       "\u001b[32mimport \u001b[39m\u001b[36morg.apache.spark.mllib.linalg.distributed.RowMatrix\n",
       "\u001b[39m\n",
       "\u001b[36mspark\u001b[39m: \u001b[32mSparkSession\u001b[39m = org.apache.spark.sql.SparkSession@3f43b89e\n",
       "defined \u001b[32mfunction\u001b[39m \u001b[36msc\u001b[39m"
      ]
     },
     "execution_count": 30,
     "metadata": {},
     "output_type": "execute_result"
    }
   ],
   "source": [
    "import org.apache.log4j.{Level, Logger}\n",
    "import org.apache.log4j.{Level, Logger}\n",
    "import org.apache.spark.sql._\n",
    "import org.apache.spark.mllib.linalg._\n",
    "import org.apache.spark.mllib.regression._\n",
    "import org.apache.spark.mllib.classification.{SVMModel,\n",
    "SVMWithSGD}\n",
    "import org.apache.spark.mllib.evaluation.BinaryClassificationMetrics\n",
    "import org.apache.spark.mllib.util.MLUtils\n",
    "import org.apache.spark.ml.feature.LabeledPoint\n",
    "import org.apache.spark.ml.linalg.Vectors\n",
    "import com.jmatio._\n",
    "import com.jmatio.types._\n",
    "import org.apache.spark.ml.feature.PCA\n",
    "import org.apache.spark.ml.linalg.Matrix\n",
    "import org.apache.spark.mllib.linalg.distributed\n",
    "import org.apache.spark.mllib.linalg.distributed.RowMatrix\n",
    "val spark = {\n",
    "  NotebookSparkSession.builder()\n",
    "    .master(\"local[*]\")\n",
    "    .getOrCreate()\n",
    "}\n",
    "def sc = spark.sparkContext"
   ]
  },
  {
   "cell_type": "code",
   "execution_count": 7,
   "id": "779a8b83-5bca-4dca-8860-81d44aba709f",
   "metadata": {
    "tags": []
   },
   "outputs": [
    {
     "data": {
      "text/plain": [
       "\u001b[36mdf\u001b[39m: \u001b[32mio\u001b[39m.\u001b[32mMatFileReader\u001b[39m = com.jmatio.io.MatFileReader@4415979a"
      ]
     },
     "execution_count": 7,
     "metadata": {},
     "output_type": "execute_result"
    }
   ],
   "source": [
    "val df = new com.jmatio.io.MatFileReader(\"/home/jb-admin/data/exPCA.mat\")"
   ]
  },
  {
   "cell_type": "code",
   "execution_count": 8,
   "id": "98338652-6444-495a-ac51-3733168ff9a7",
   "metadata": {
    "tags": []
   },
   "outputs": [
    {
     "data": {
      "text/plain": [
       "\u001b[36mcontent\u001b[39m: \u001b[32mjava\u001b[39m.\u001b[32mutil\u001b[39m.\u001b[32mMap\u001b[39m[\u001b[32mString\u001b[39m, \u001b[32mcom\u001b[39m.\u001b[32mjmatio\u001b[39m.\u001b[32mtypes\u001b[39m.\u001b[32mMLArray\u001b[39m] = {X=[50x2  double array]}"
      ]
     },
     "execution_count": 8,
     "metadata": {},
     "output_type": "execute_result"
    }
   ],
   "source": [
    "val content = df.getContent"
   ]
  },
  {
   "cell_type": "code",
   "execution_count": 10,
   "id": "967e28a8-95e9-4250-8d6b-302f0c2b8339",
   "metadata": {
    "tags": []
   },
   "outputs": [
    {
     "data": {
      "text/plain": [
       "\u001b[36mdata\u001b[39m: \u001b[32mArray\u001b[39m[\u001b[32mArray\u001b[39m[\u001b[32mDouble\u001b[39m]] = \u001b[33mArray\u001b[39m(\n",
       "  \u001b[33mArray\u001b[39m(\u001b[32m3.38156266663556\u001b[39m, \u001b[32m3.389112684892071\u001b[39m),\n",
       "  \u001b[33mArray\u001b[39m(\u001b[32m4.5278753804032075\u001b[39m, \u001b[32m5.854178101169413\u001b[39m),\n",
       "  \u001b[33mArray\u001b[39m(\u001b[32m2.655681868739463\u001b[39m, \u001b[32m4.411994717484785\u001b[39m),\n",
       "  \u001b[33mArray\u001b[39m(\u001b[32m2.7652346742250753\u001b[39m, \u001b[32m3.715413649743292\u001b[39m),\n",
       "  \u001b[33mArray\u001b[39m(\u001b[32m2.8465601062210943\u001b[39m, \u001b[32m4.175506449514385\u001b[39m),\n",
       "  \u001b[33mArray\u001b[39m(\u001b[32m3.8906719563092116\u001b[39m, \u001b[32m6.488380871886209\u001b[39m),\n",
       "  \u001b[33mArray\u001b[39m(\u001b[32m3.4758052414407934\u001b[39m, \u001b[32m3.632848762047064\u001b[39m),\n",
       "  \u001b[33mArray\u001b[39m(\u001b[32m5.911298445495829\u001b[39m, \u001b[32m6.6807685267677925\u001b[39m),\n",
       "  \u001b[33mArray\u001b[39m(\u001b[32m3.928893967969269\u001b[39m, \u001b[32m5.0984466081478255\u001b[39m),\n",
       "  \u001b[33mArray\u001b[39m(\u001b[32m4.561835366089421\u001b[39m, \u001b[32m5.623299290382872\u001b[39m),\n",
       "  \u001b[33mArray\u001b[39m(\u001b[32m4.574071705525158\u001b[39m, \u001b[32m5.3976506891499545\u001b[39m),\n",
       "  \u001b[33mArray\u001b[39m(\u001b[32m4.371733557330694\u001b[39m, \u001b[32m5.461165489180036\u001b[39m),\n",
       "  \u001b[33mArray\u001b[39m(\u001b[32m4.191693876250999\u001b[39m, \u001b[32m4.954693590451864\u001b[39m),\n",
       "  \u001b[33mArray\u001b[39m(\u001b[32m5.244085176866642\u001b[39m, \u001b[32m4.661487668490745\u001b[39m),\n",
       "  \u001b[33mArray\u001b[39m(\u001b[32m2.8358402028078746\u001b[39m, \u001b[32m3.76801716326883\u001b[39m),\n",
       "  \u001b[33mArray\u001b[39m(\u001b[32m5.635269692588768\u001b[39m, \u001b[32m6.3121143831055955\u001b[39m),\n",
       "  \u001b[33mArray\u001b[39m(\u001b[32m4.686329679649661\u001b[39m, \u001b[32m5.6652411030489915\u001b[39m),\n",
       "  \u001b[33mArray\u001b[39m(\u001b[32m2.8505133748624067\u001b[39m, \u001b[32m4.626456272707626\u001b[39m),\n",
       "  \u001b[33mArray\u001b[39m(\u001b[32m5.110157300375674\u001b[39m, \u001b[32m7.3631966235366235\u001b[39m),\n",
       "  \u001b[33mArray\u001b[39m(\u001b[32m5.182563768446949\u001b[39m, \u001b[32m4.646509087781815\u001b[39m),\n",
       "  \u001b[33mArray\u001b[39m(\u001b[32m5.707328091354587\u001b[39m, \u001b[32m6.681039949775041\u001b[39m),\n",
       "  \u001b[33mArray\u001b[39m(\u001b[32m3.5796845825157533\u001b[39m, \u001b[32m4.802780735462661\u001b[39m),\n",
       "  \u001b[33mArray\u001b[39m(\u001b[32m5.639377731233365\u001b[39m, \u001b[32m6.120435944864187\u001b[39m),\n",
       "  \u001b[33mArray\u001b[39m(\u001b[32m4.263468511601602\u001b[39m, \u001b[32m4.6894289649837795\u001b[39m),\n",
       "  \u001b[33mArray\u001b[39m(\u001b[32m2.5365169312575038\u001b[39m, \u001b[32m3.884490775756531\u001b[39m),\n",
       "  \u001b[33mArray\u001b[39m(\u001b[32m3.223829017502572\u001b[39m, \u001b[32m4.942555853672868\u001b[39m),\n",
       "  \u001b[33mArray\u001b[39m(\u001b[32m4.929488010558061\u001b[39m, \u001b[32m5.955019711224024\u001b[39m),\n",
       "  \u001b[33mArray\u001b[39m(\u001b[32m5.792957739764722\u001b[39m, \u001b[32m5.1083930545351075\u001b[39m),\n",
       "  \u001b[33mArray\u001b[39m(\u001b[32m2.8168482384368123\u001b[39m, \u001b[32m4.818957689597816\u001b[39m),\n",
       "  \u001b[33mArray\u001b[39m(\u001b[32m3.8888241390548512\u001b[39m, \u001b[32m5.1003656368497445\u001b[39m),\n",
       "  \u001b[33mArray\u001b[39m(\u001b[32m3.343234192145688\u001b[39m, \u001b[32m5.893013454825506\u001b[39m),\n",
       "  \u001b[33mArray\u001b[39m(\u001b[32m5.879734139316208\u001b[39m, \u001b[32m5.521416638719705\u001b[39m),\n",
       "  \u001b[33mArray\u001b[39m(\u001b[32m3.103919123097218\u001b[39m, \u001b[32m3.8571024215467204\u001b[39m),\n",
       "  \u001b[33mArray\u001b[39m(\u001b[32m5.33150572016357\u001b[39m, \u001b[32m4.6807423465894455\u001b[39m),\n",
       "  \u001b[33mArray\u001b[39m(\u001b[32m3.375426869025476\u001b[39m, \u001b[32m4.56537851617577\u001b[39m),\n",
       "  \u001b[33mArray\u001b[39m(\u001b[32m4.776678881934137\u001b[39m, \u001b[32m6.254350389739319\u001b[39m),\n",
       "  \u001b[33mArray\u001b[39m(\u001b[32m2.675746301932368\u001b[39m, \u001b[32m3.730969875401757\u001b[39m),\n",
       "  \u001b[33mArray\u001b[39m(\u001b[32m5.5002766519611095\u001b[39m, \u001b[32m5.67948113445839\u001b[39m),\n",
       "..."
      ]
     },
     "execution_count": 10,
     "metadata": {},
     "output_type": "execute_result"
    }
   ],
   "source": [
    "val data = content.get(\"X\").asInstanceOf[MLDouble].getArray"
   ]
  },
  {
   "cell_type": "code",
   "execution_count": 25,
   "id": "dc5c44d8-646c-44b0-af39-8bc8841d7b71",
   "metadata": {
    "tags": []
   },
   "outputs": [
    {
     "name": "stdout",
     "output_type": "stream",
     "text": [
      "Original data:\n",
      "3.38156266663556, 3.389112684892071\n",
      "4.5278753804032075, 5.854178101169413\n",
      "2.655681868739463, 4.411994717484785\n",
      "2.7652346742250753, 3.715413649743292\n",
      "2.8465601062210943, 4.175506449514385\n",
      "3.8906719563092116, 6.488380871886209\n",
      "3.4758052414407934, 3.632848762047064\n",
      "5.911298445495829, 6.6807685267677925\n",
      "3.928893967969269, 5.0984466081478255\n",
      "4.561835366089421, 5.623299290382872\n",
      "4.574071705525158, 5.3976506891499545\n",
      "4.371733557330694, 5.461165489180036\n",
      "4.191693876250999, 4.954693590451864\n",
      "5.244085176866642, 4.661487668490745\n",
      "2.8358402028078746, 3.76801716326883\n",
      "5.635269692588768, 6.3121143831055955\n",
      "4.686329679649661, 5.6652411030489915\n",
      "2.8505133748624067, 4.626456272707626\n",
      "5.110157300375674, 7.3631966235366235\n",
      "5.182563768446949, 4.646509087781815\n",
      "5.707328091354587, 6.681039949775041\n",
      "3.5796845825157533, 4.802780735462661\n",
      "5.639377731233365, 6.120435944864187\n",
      "4.263468511601602, 4.6894289649837795\n",
      "2.5365169312575038, 3.884490775756531\n",
      "3.223829017502572, 4.942555853672868\n",
      "4.929488010558061, 5.955019711224024\n",
      "5.792957739764722, 5.1083930545351075\n",
      "2.8168482384368123, 4.818957689597816\n",
      "3.8888241390548512, 5.1003656368497445\n",
      "3.343234192145688, 5.893013454825506\n",
      "5.879734139316208, 5.521416638719705\n",
      "3.103919123097218, 3.8571024215467204\n",
      "5.33150572016357, 4.6807423465894455\n",
      "3.375426869025476, 4.56537851617577\n",
      "4.776678881934137, 6.254350389739319\n",
      "2.675746301932368, 3.730969875401757\n",
      "5.5002766519611095, 5.67948113445839\n",
      "1.7970971410861902, 3.247538853485823\n",
      "4.322514702673135, 5.111104721864512\n",
      "4.421004447982506, 6.025639777121858\n",
      "3.1792988626619025, 4.436860316191584\n",
      "3.0335412466426357, 3.9787927822309674\n",
      "4.609348200703289, 5.879792002615348\n",
      "2.9637885926076093, 3.300248348607117\n",
      "3.971762481816083, 5.4077373541784866\n",
      "1.1802332057516467, 2.8786940939138503\n",
      "1.9189504504618657, 5.071078475070958\n",
      "3.955246871474852, 4.505327096742528\n",
      "5.117954994264606, 6.085073863923961\n",
      "\n",
      "Means:\n",
      "3.9892652815843155, 5.002805850257663\n",
      "\n",
      "Centered data:\n",
      "-0.6077026149487557, -1.613693165365592\n",
      "0.538610098818892, 0.8513722509117505\n",
      "-1.3335834128448525, -0.5908111327728776\n",
      "-1.2240306073592402, -1.287392200514371\n",
      "-1.1427051753632211, -0.8272994007432777\n",
      "-0.0985933252751039, 1.485575021628546\n",
      "-0.5134600401435221, -1.3699570882105987\n",
      "1.9220331639115136, 1.6779626765101296\n",
      "-0.06037131361504633, 0.09564075789016258\n",
      "0.5725700845051058, 0.6204934401252089\n",
      "0.5848064239408428, 0.3948448388922916\n",
      "0.38246827574637887, 0.4583596389223734\n",
      "0.20242859466668328, -0.04811225980579881\n",
      "1.2548198952823268, -0.3413181817669182\n",
      "-1.1534250787764408, -1.234788686988833\n",
      "1.6460044110044523, 1.3093085328479326\n",
      "0.6970643980653453, 0.6624352527913286\n",
      "-1.1387519067219087, -0.3763495775500365\n",
      "1.1208920187913582, 2.3603907732789606\n",
      "1.1932984868626333, -0.3562967624758482\n",
      "1.718062809770272, 1.6782340995173781\n",
      "-0.4095806990685622, -0.20002511479500207\n",
      "1.6501124496490496, 1.1176300946065245\n",
      "0.2742032300172861, -0.3133768852738834\n",
      "-1.4527483503268117, -1.1183150745011319\n",
      "-0.7654362640817434, -0.06024999658479491\n",
      "0.9402227289737457, 0.9522138609663608\n",
      "1.8036924581804064, 0.10558720427744461\n",
      "-1.1724170431475032, -0.18384816065984655\n",
      "-0.10044114252946423, 0.09755978659208164\n",
      "-0.6460310894386274, 0.8902076045678431\n",
      "1.8904688577318929, 0.5186107884620421\n",
      "-0.8853461584870974, -1.1457034287109424\n",
      "1.3422404385792541, -0.32206350366821734\n",
      "-0.6138384125588394, -0.43742733408189327\n",
      "0.7874136003498213, 1.2515445394816558\n",
      "-1.3135189796519473, -1.271835974855906\n",
      "1.511011370376794, 0.6766752842007273\n",
      "-2.1921681404981253, -1.75526699677184\n",
      "0.3332494210888193, 0.10829887160684937\n",
      "0.43173916639819065, 1.0228339268641955\n",
      "-0.809966418922413, -0.5659455340660786\n",
      "-0.9557240349416798, -1.0240130680266954\n",
      "0.6200829191189738, 0.8769861523576852\n",
      "-1.0254766889767062, -1.702557501650546\n",
      "-0.017502799768232435, 0.40493150392082367\n",
      "-2.809032075832669, -2.1241117563438126\n",
      "-2.0703148311224497, 0.06827262481329477\n",
      "-0.03401841010946338, -0.4974787535151348\n",
      "1.1286897126802904, 1.0822680136662983\n"
     ]
    },
    {
     "data": {
      "text/plain": [
       "\u001b[36mnumFeatures\u001b[39m: \u001b[32mInt\u001b[39m = \u001b[32m2\u001b[39m\n",
       "\u001b[36mmean1\u001b[39m: \u001b[32mDouble\u001b[39m = \u001b[32m3.9892652815843155\u001b[39m\n",
       "\u001b[36mmean2\u001b[39m: \u001b[32mDouble\u001b[39m = \u001b[32m5.002805850257663\u001b[39m\n",
       "\u001b[36mcenteredData\u001b[39m: \u001b[32mArray\u001b[39m[\u001b[32mArray\u001b[39m[\u001b[32mDouble\u001b[39m]] = \u001b[33mArray\u001b[39m(\n",
       "  \u001b[33mArray\u001b[39m(\u001b[32m-0.6077026149487557\u001b[39m, \u001b[32m-1.613693165365592\u001b[39m),\n",
       "  \u001b[33mArray\u001b[39m(\u001b[32m0.538610098818892\u001b[39m, \u001b[32m0.8513722509117505\u001b[39m),\n",
       "  \u001b[33mArray\u001b[39m(\u001b[32m-1.3335834128448525\u001b[39m, \u001b[32m-0.5908111327728776\u001b[39m),\n",
       "  \u001b[33mArray\u001b[39m(\u001b[32m-1.2240306073592402\u001b[39m, \u001b[32m-1.287392200514371\u001b[39m),\n",
       "  \u001b[33mArray\u001b[39m(\u001b[32m-1.1427051753632211\u001b[39m, \u001b[32m-0.8272994007432777\u001b[39m),\n",
       "  \u001b[33mArray\u001b[39m(\u001b[32m-0.0985933252751039\u001b[39m, \u001b[32m1.485575021628546\u001b[39m),\n",
       "  \u001b[33mArray\u001b[39m(\u001b[32m-0.5134600401435221\u001b[39m, \u001b[32m-1.3699570882105987\u001b[39m),\n",
       "  \u001b[33mArray\u001b[39m(\u001b[32m1.9220331639115136\u001b[39m, \u001b[32m1.6779626765101296\u001b[39m),\n",
       "  \u001b[33mArray\u001b[39m(\u001b[32m-0.06037131361504633\u001b[39m, \u001b[32m0.09564075789016258\u001b[39m),\n",
       "  \u001b[33mArray\u001b[39m(\u001b[32m0.5725700845051058\u001b[39m, \u001b[32m0.6204934401252089\u001b[39m),\n",
       "  \u001b[33mArray\u001b[39m(\u001b[32m0.5848064239408428\u001b[39m, \u001b[32m0.3948448388922916\u001b[39m),\n",
       "  \u001b[33mArray\u001b[39m(\u001b[32m0.38246827574637887\u001b[39m, \u001b[32m0.4583596389223734\u001b[39m),\n",
       "  \u001b[33mArray\u001b[39m(\u001b[32m0.20242859466668328\u001b[39m, \u001b[32m-0.04811225980579881\u001b[39m),\n",
       "  \u001b[33mArray\u001b[39m(\u001b[32m1.2548198952823268\u001b[39m, \u001b[32m-0.3413181817669182\u001b[39m),\n",
       "  \u001b[33mArray\u001b[39m(\u001b[32m-1.1534250787764408\u001b[39m, \u001b[32m-1.234788686988833\u001b[39m),\n",
       "  \u001b[33mArray\u001b[39m(\u001b[32m1.6460044110044523\u001b[39m, \u001b[32m1.3093085328479326\u001b[39m),\n",
       "  \u001b[33mArray\u001b[39m(\u001b[32m0.6970643980653453\u001b[39m, \u001b[32m0.6624352527913286\u001b[39m),\n",
       "  \u001b[33mArray\u001b[39m(\u001b[32m-1.1387519067219087\u001b[39m, \u001b[32m-0.3763495775500365\u001b[39m),\n",
       "  \u001b[33mArray\u001b[39m(\u001b[32m1.1208920187913582\u001b[39m, \u001b[32m2.3603907732789606\u001b[39m),\n",
       "  \u001b[33mArray\u001b[39m(\u001b[32m1.1932984868626333\u001b[39m, \u001b[32m-0.3562967624758482\u001b[39m),\n",
       "  \u001b[33mArray\u001b[39m(\u001b[32m1.718062809770272\u001b[39m, \u001b[32m1.6782340995173781\u001b[39m),\n",
       "  \u001b[33mArray\u001b[39m(\u001b[32m-0.4095806990685622\u001b[39m, \u001b[32m-0.20002511479500207\u001b[39m),\n",
       "  \u001b[33mArray\u001b[39m(\u001b[32m1.6501124496490496\u001b[39m, \u001b[32m1.1176300946065245\u001b[39m),\n",
       "  \u001b[33mArray\u001b[39m(\u001b[32m0.2742032300172861\u001b[39m, \u001b[32m-0.3133768852738834\u001b[39m),\n",
       "  \u001b[33mArray\u001b[39m(\u001b[32m-1.4527483503268117\u001b[39m, \u001b[32m-1.1183150745011319\u001b[39m),\n",
       "  \u001b[33mArray\u001b[39m(\u001b[32m-0.7654362640817434\u001b[39m, \u001b[32m-0.06024999658479491\u001b[39m),\n",
       "  \u001b[33mArray\u001b[39m(\u001b[32m0.9402227289737457\u001b[39m, \u001b[32m0.9522138609663608\u001b[39m),\n",
       "  \u001b[33mArray\u001b[39m(\u001b[32m1.8036924581804064\u001b[39m, \u001b[32m0.10558720427744461\u001b[39m),\n",
       "  \u001b[33mArray\u001b[39m(\u001b[32m-1.1724170431475032\u001b[39m, \u001b[32m-0.18384816065984655\u001b[39m),\n",
       "  \u001b[33mArray\u001b[39m(\u001b[32m-0.10044114252946423\u001b[39m, \u001b[32m0.09755978659208164\u001b[39m),\n",
       "  \u001b[33mArray\u001b[39m(\u001b[32m-0.6460310894386274\u001b[39m, \u001b[32m0.8902076045678431\u001b[39m),\n",
       "  \u001b[33mArray\u001b[39m(\u001b[32m1.8904688577318929\u001b[39m, \u001b[32m0.5186107884620421\u001b[39m),\n",
       "  \u001b[33mArray\u001b[39m(\u001b[32m-0.8853461584870974\u001b[39m, \u001b[32m-1.1457034287109424\u001b[39m),\n",
       "  \u001b[33mArray\u001b[39m(\u001b[32m1.3422404385792541\u001b[39m, \u001b[32m-0.32206350366821734\u001b[39m),\n",
       "  \u001b[33mArray\u001b[39m(\u001b[32m-0.6138384125588394\u001b[39m, \u001b[32m-0.43742733408189327\u001b[39m),\n",
       "  \u001b[33mArray\u001b[39m(\u001b[32m0.7874136003498213\u001b[39m, \u001b[32m1.2515445394816558\u001b[39m),\n",
       "  \u001b[33mArray\u001b[39m(\u001b[32m-1.3135189796519473\u001b[39m, \u001b[32m-1.271835974855906\u001b[39m),\n",
       "  \u001b[33mArray\u001b[39m(\u001b[32m1.511011370376794\u001b[39m, \u001b[32m0.6766752842007273\u001b[39m),\n",
       "..."
      ]
     },
     "execution_count": 25,
     "metadata": {},
     "output_type": "execute_result"
    }
   ],
   "source": [
    "val numFeatures = data(0).length\n",
    "\n",
    "// Calculate means for each feature\n",
    "// Calculate means for each feature separately\n",
    "val mean1: Double = data.map(_(0)).sum / data.length.toDouble\n",
    "val mean2: Double = data.map(_(1)).sum / data.length.toDouble\n",
    "\n",
    "// Subtract means from each value and create new array\n",
    "val centeredData: Array[Array[Double]] = data.map { row =>\n",
    "  Array(row(0) - mean1, row(1) - mean2)\n",
    "}\n",
    "\n",
    "// Print results\n",
    "println(\"Original data:\")\n",
    "data.foreach(row => println(row.mkString(\", \")))\n",
    "println()\n",
    "println(\"Means:\")\n",
    "println(means.mkString(\", \"))\n",
    "println()\n",
    "println(\"Centered data:\")\n",
    "centeredData.foreach(row => println(row.mkString(\", \")))"
   ]
  },
  {
   "cell_type": "code",
   "execution_count": 28,
   "id": "f991f2c7-1806-45ea-9e7d-ef5125395f49",
   "metadata": {
    "tags": []
   },
   "outputs": [
    {
     "name": "stdout",
     "output_type": "stream",
     "text": [
      "[-0.6077026149487557,-1.613693165365592]\n",
      "[0.538610098818892,0.8513722509117505]\n",
      "[-1.3335834128448525,-0.5908111327728776]\n",
      "[-1.2240306073592402,-1.287392200514371]\n",
      "[-1.1427051753632211,-0.8272994007432777]\n",
      "[-0.0985933252751039,1.485575021628546]\n",
      "[-0.5134600401435221,-1.3699570882105987]\n",
      "[1.9220331639115136,1.6779626765101296]\n",
      "[-0.06037131361504633,0.09564075789016258]\n",
      "[0.5725700845051058,0.6204934401252089]\n",
      "[0.5848064239408428,0.3948448388922916]\n",
      "[0.38246827574637887,0.4583596389223734]\n",
      "[0.20242859466668328,-0.04811225980579881]\n",
      "[1.2548198952823268,-0.3413181817669182]\n",
      "[-1.1534250787764408,-1.234788686988833]\n",
      "[1.6460044110044523,1.3093085328479326]\n",
      "[0.6970643980653453,0.6624352527913286]\n",
      "[-1.1387519067219087,-0.3763495775500365]\n",
      "[1.1208920187913582,2.3603907732789606]\n",
      "[1.1932984868626333,-0.3562967624758482]\n",
      "[1.718062809770272,1.6782340995173781]\n",
      "[-0.4095806990685622,-0.20002511479500207]\n",
      "[1.6501124496490496,1.1176300946065245]\n",
      "[0.2742032300172861,-0.3133768852738834]\n",
      "[-1.4527483503268117,-1.1183150745011319]\n",
      "[-0.7654362640817434,-0.06024999658479491]\n",
      "[0.9402227289737457,0.9522138609663608]\n",
      "[1.8036924581804064,0.10558720427744461]\n",
      "[-1.1724170431475032,-0.18384816065984655]\n",
      "[-0.10044114252946423,0.09755978659208164]\n",
      "[-0.6460310894386274,0.8902076045678431]\n",
      "[1.8904688577318929,0.5186107884620421]\n",
      "[-0.8853461584870974,-1.1457034287109424]\n",
      "[1.3422404385792541,-0.32206350366821734]\n",
      "[-0.6138384125588394,-0.43742733408189327]\n",
      "[0.7874136003498213,1.2515445394816558]\n",
      "[-1.3135189796519473,-1.271835974855906]\n",
      "[1.511011370376794,0.6766752842007273]\n",
      "[-2.1921681404981253,-1.75526699677184]\n",
      "[0.3332494210888193,0.10829887160684937]\n",
      "[0.43173916639819065,1.0228339268641955]\n",
      "[-0.809966418922413,-0.5659455340660786]\n",
      "[-0.9557240349416798,-1.0240130680266954]\n",
      "[0.6200829191189738,0.8769861523576852]\n",
      "[-1.0254766889767062,-1.702557501650546]\n",
      "[-0.017502799768232435,0.40493150392082367]\n",
      "[-2.809032075832669,-2.1241117563438126]\n",
      "[-2.0703148311224497,0.06827262481329477]\n",
      "[-0.03401841010946338,-0.4974787535151348]\n",
      "[1.1286897126802904,1.0822680136662983]\n"
     ]
    },
    {
     "data": {
      "text/plain": [
       "\u001b[36mvectors\u001b[39m: \u001b[32mArray\u001b[39m[\u001b[32mVector\u001b[39m] = \u001b[33mArray\u001b[39m(\n",
       "  [-0.6077026149487557,-1.613693165365592],\n",
       "  [0.538610098818892,0.8513722509117505],\n",
       "  [-1.3335834128448525,-0.5908111327728776],\n",
       "  [-1.2240306073592402,-1.287392200514371],\n",
       "  [-1.1427051753632211,-0.8272994007432777],\n",
       "  [-0.0985933252751039,1.485575021628546],\n",
       "  [-0.5134600401435221,-1.3699570882105987],\n",
       "  [1.9220331639115136,1.6779626765101296],\n",
       "  [-0.06037131361504633,0.09564075789016258],\n",
       "  [0.5725700845051058,0.6204934401252089],\n",
       "  [0.5848064239408428,0.3948448388922916],\n",
       "  [0.38246827574637887,0.4583596389223734],\n",
       "  [0.20242859466668328,-0.04811225980579881],\n",
       "  [1.2548198952823268,-0.3413181817669182],\n",
       "  [-1.1534250787764408,-1.234788686988833],\n",
       "  [1.6460044110044523,1.3093085328479326],\n",
       "  [0.6970643980653453,0.6624352527913286],\n",
       "  [-1.1387519067219087,-0.3763495775500365],\n",
       "  [1.1208920187913582,2.3603907732789606],\n",
       "  [1.1932984868626333,-0.3562967624758482],\n",
       "  [1.718062809770272,1.6782340995173781],\n",
       "  [-0.4095806990685622,-0.20002511479500207],\n",
       "  [1.6501124496490496,1.1176300946065245],\n",
       "  [0.2742032300172861,-0.3133768852738834],\n",
       "  [-1.4527483503268117,-1.1183150745011319],\n",
       "  [-0.7654362640817434,-0.06024999658479491],\n",
       "  [0.9402227289737457,0.9522138609663608],\n",
       "  [1.8036924581804064,0.10558720427744461],\n",
       "  [-1.1724170431475032,-0.18384816065984655],\n",
       "  [-0.10044114252946423,0.09755978659208164],\n",
       "  [-0.6460310894386274,0.8902076045678431],\n",
       "  [1.8904688577318929,0.5186107884620421],\n",
       "  [-0.8853461584870974,-1.1457034287109424],\n",
       "  [1.3422404385792541,-0.32206350366821734],\n",
       "  [-0.6138384125588394,-0.43742733408189327],\n",
       "  [0.7874136003498213,1.2515445394816558],\n",
       "  [-1.3135189796519473,-1.271835974855906],\n",
       "  [1.511011370376794,0.6766752842007273],\n",
       "..."
      ]
     },
     "execution_count": 28,
     "metadata": {},
     "output_type": "execute_result"
    }
   ],
   "source": [
    "val vectors = centeredData.map(row => Vectors.dense(row))\n",
    "// print the resulting vectors\n",
    "vectors.foreach(println)"
   ]
  },
  {
   "cell_type": "code",
   "execution_count": 29,
   "id": "19bd075d-9c43-4e57-b7c1-3a7a51c0b3a6",
   "metadata": {
    "tags": []
   },
   "outputs": [
    {
     "data": {
      "text/plain": [
       "\u001b[36mrows\u001b[39m: \u001b[32morg\u001b[39m.\u001b[32mapache\u001b[39m.\u001b[32mspark\u001b[39m.\u001b[32mrdd\u001b[39m.\u001b[32mRDD\u001b[39m[\u001b[32mVector\u001b[39m] = ParallelCollectionRDD[1] at parallelize at cmd28.sc:1"
      ]
     },
     "execution_count": 29,
     "metadata": {},
     "output_type": "execute_result"
    }
   ],
   "source": [
    "val rows = sc.parallelize(vectors)"
   ]
  },
  {
   "cell_type": "code",
   "execution_count": 31,
   "id": "075140b2-edfe-4e79-aaf3-8cbf24d148c2",
   "metadata": {
    "tags": []
   },
   "outputs": [
    {
     "data": {
      "text/plain": [
       "\u001b[36mmat\u001b[39m: \u001b[32mRowMatrix\u001b[39m = org.apache.spark.mllib.linalg.distributed.RowMatrix@c7b065"
      ]
     },
     "execution_count": 31,
     "metadata": {},
     "output_type": "execute_result"
    }
   ],
   "source": [
    "val mat: RowMatrix = new RowMatrix(rows)"
   ]
  },
  {
   "cell_type": "code",
   "execution_count": 34,
   "id": "b4965ba8-b466-4557-b453-5d16b7d80cfc",
   "metadata": {
    "tags": []
   },
   "outputs": [
    {
     "data": {
      "text/html": [
       "<div>\n",
       "  <span style=\"float: left;\">treeAggregate at Statistics.scala:58</span>\n",
       "</div>\n"
      ]
     },
     "metadata": {},
     "output_type": "display_data"
    },
    {
     "data": {
      "text/html": [
       "<div class=\"progress\">\n",
       "  <div class=\"progress-bar\" role=\"progressbar\" style=\"background-color: blue; width: 100%; word-wrap: normal; white-space: nowrap; text-align: center; color: white\" aria-valuenow=\"100\" aria-valuemin=\"0\" aria-valuemax=\"100\">\n",
       "    12 / 12\n",
       "  </div>\n",
       "  <div class=\"progress-bar\" role=\"progressbar\" style=\"background-color: red; width: 0%\" aria-valuenow=\"0\" aria-valuemin=\"0\" aria-valuemax=\"100\"></div>\n",
       "</div>\n"
      ]
     },
     "metadata": {},
     "output_type": "display_data"
    },
    {
     "data": {
      "text/html": [
       "<div>\n",
       "  <span style=\"float: left;\">treeAggregate at Statistics.scala:58</span>\n",
       "</div>\n"
      ]
     },
     "metadata": {},
     "output_type": "display_data"
    },
    {
     "data": {
      "text/html": [
       "<div class=\"progress\">\n",
       "  <div class=\"progress-bar\" role=\"progressbar\" style=\"background-color: blue; width: 100%; word-wrap: normal; white-space: nowrap; text-align: center; color: white\" aria-valuenow=\"100\" aria-valuemin=\"0\" aria-valuemax=\"100\">\n",
       "    12 / 12\n",
       "  </div>\n",
       "  <div class=\"progress-bar\" role=\"progressbar\" style=\"background-color: red; width: 0%\" aria-valuenow=\"0\" aria-valuemin=\"0\" aria-valuemax=\"100\"></div>\n",
       "</div>\n"
      ]
     },
     "metadata": {},
     "output_type": "display_data"
    },
    {
     "data": {
      "text/html": [
       "<div>\n",
       "  <span style=\"float: left;\">treeAggregate at Statistics.scala:58</span>\n",
       "</div>\n"
      ]
     },
     "metadata": {},
     "output_type": "display_data"
    },
    {
     "data": {
      "text/html": [
       "<div class=\"progress\">\n",
       "  <div class=\"progress-bar\" role=\"progressbar\" style=\"background-color: blue; width: 100%; word-wrap: normal; white-space: nowrap; text-align: center; color: white\" aria-valuenow=\"100\" aria-valuemin=\"0\" aria-valuemax=\"100\">\n",
       "    12 / 12\n",
       "  </div>\n",
       "  <div class=\"progress-bar\" role=\"progressbar\" style=\"background-color: red; width: 0%\" aria-valuenow=\"0\" aria-valuemin=\"0\" aria-valuemax=\"100\"></div>\n",
       "</div>\n"
      ]
     },
     "metadata": {},
     "output_type": "display_data"
    },
    {
     "data": {
      "text/html": [
       "<div>\n",
       "  <span style=\"float: left;\">treeAggregate at Statistics.scala:58</span>\n",
       "</div>\n"
      ]
     },
     "metadata": {},
     "output_type": "display_data"
    },
    {
     "data": {
      "text/html": [
       "<div class=\"progress\">\n",
       "  <div class=\"progress-bar\" role=\"progressbar\" style=\"background-color: blue; width: 100%; word-wrap: normal; white-space: nowrap; text-align: center; color: white\" aria-valuenow=\"100\" aria-valuemin=\"0\" aria-valuemax=\"100\">\n",
       "    12 / 12\n",
       "  </div>\n",
       "  <div class=\"progress-bar\" role=\"progressbar\" style=\"background-color: red; width: 0%\" aria-valuenow=\"0\" aria-valuemin=\"0\" aria-valuemax=\"100\"></div>\n",
       "</div>\n"
      ]
     },
     "metadata": {},
     "output_type": "display_data"
    },
    {
     "data": {
      "text/html": [
       "<div>\n",
       "  <span style=\"float: left;\">treeAggregate at Statistics.scala:58</span>\n",
       "</div>\n"
      ]
     },
     "metadata": {},
     "output_type": "display_data"
    },
    {
     "data": {
      "text/html": [
       "<div class=\"progress\">\n",
       "  <div class=\"progress-bar\" role=\"progressbar\" style=\"background-color: blue; width: 100%; word-wrap: normal; white-space: nowrap; text-align: center; color: white\" aria-valuenow=\"100\" aria-valuemin=\"0\" aria-valuemax=\"100\">\n",
       "    12 / 12\n",
       "  </div>\n",
       "  <div class=\"progress-bar\" role=\"progressbar\" style=\"background-color: red; width: 0%\" aria-valuenow=\"0\" aria-valuemin=\"0\" aria-valuemax=\"100\"></div>\n",
       "</div>\n"
      ]
     },
     "metadata": {},
     "output_type": "display_data"
    },
    {
     "data": {
      "text/html": [
       "<div>\n",
       "  <span style=\"float: left;\">treeAggregate at Statistics.scala:58</span>\n",
       "</div>\n"
      ]
     },
     "metadata": {},
     "output_type": "display_data"
    },
    {
     "data": {
      "text/html": [
       "<div class=\"progress\">\n",
       "  <div class=\"progress-bar\" role=\"progressbar\" style=\"background-color: blue; width: 100%; word-wrap: normal; white-space: nowrap; text-align: center; color: white\" aria-valuenow=\"100\" aria-valuemin=\"0\" aria-valuemax=\"100\">\n",
       "    12 / 12\n",
       "  </div>\n",
       "  <div class=\"progress-bar\" role=\"progressbar\" style=\"background-color: red; width: 0%\" aria-valuenow=\"0\" aria-valuemin=\"0\" aria-valuemax=\"100\"></div>\n",
       "</div>\n"
      ]
     },
     "metadata": {},
     "output_type": "display_data"
    },
    {
     "data": {
      "text/html": [
       "<div>\n",
       "  <span style=\"float: left;\">treeAggregate at Statistics.scala:58</span>\n",
       "</div>\n"
      ]
     },
     "metadata": {},
     "output_type": "display_data"
    },
    {
     "data": {
      "text/html": [
       "<div class=\"progress\">\n",
       "  <div class=\"progress-bar\" role=\"progressbar\" style=\"background-color: blue; width: 100%; word-wrap: normal; white-space: nowrap; text-align: center; color: white\" aria-valuenow=\"100\" aria-valuemin=\"0\" aria-valuemax=\"100\">\n",
       "    12 / 12\n",
       "  </div>\n",
       "  <div class=\"progress-bar\" role=\"progressbar\" style=\"background-color: red; width: 0%\" aria-valuenow=\"0\" aria-valuemin=\"0\" aria-valuemax=\"100\"></div>\n",
       "</div>\n"
      ]
     },
     "metadata": {},
     "output_type": "display_data"
    },
    {
     "data": {
      "text/html": [
       "<div>\n",
       "  <span style=\"float: left;\">treeAggregate at Statistics.scala:58</span>\n",
       "</div>\n"
      ]
     },
     "metadata": {},
     "output_type": "display_data"
    },
    {
     "data": {
      "text/html": [
       "<div class=\"progress\">\n",
       "  <div class=\"progress-bar\" role=\"progressbar\" style=\"background-color: blue; width: 100%; word-wrap: normal; white-space: nowrap; text-align: center; color: white\" aria-valuenow=\"100\" aria-valuemin=\"0\" aria-valuemax=\"100\">\n",
       "    12 / 12\n",
       "  </div>\n",
       "  <div class=\"progress-bar\" role=\"progressbar\" style=\"background-color: red; width: 0%\" aria-valuenow=\"0\" aria-valuemin=\"0\" aria-valuemax=\"100\"></div>\n",
       "</div>\n"
      ]
     },
     "metadata": {},
     "output_type": "display_data"
    },
    {
     "data": {
      "text/html": [
       "<div>\n",
       "  <span style=\"float: left;\">treeAggregate at Statistics.scala:58</span>\n",
       "</div>\n"
      ]
     },
     "metadata": {},
     "output_type": "display_data"
    },
    {
     "data": {
      "text/html": [
       "<div class=\"progress\">\n",
       "  <div class=\"progress-bar\" role=\"progressbar\" style=\"background-color: blue; width: 100%; word-wrap: normal; white-space: nowrap; text-align: center; color: white\" aria-valuenow=\"100\" aria-valuemin=\"0\" aria-valuemax=\"100\">\n",
       "    3 / 3\n",
       "  </div>\n",
       "  <div class=\"progress-bar\" role=\"progressbar\" style=\"background-color: red; width: 0%\" aria-valuenow=\"0\" aria-valuemin=\"0\" aria-valuemax=\"100\"></div>\n",
       "</div>\n"
      ]
     },
     "metadata": {},
     "output_type": "display_data"
    },
    {
     "data": {
      "text/html": [
       "<div>\n",
       "  <span style=\"float: left;\">treeAggregate at Statistics.scala:58</span>\n",
       "</div>\n"
      ]
     },
     "metadata": {},
     "output_type": "display_data"
    },
    {
     "data": {
      "text/html": [
       "<div class=\"progress\">\n",
       "  <div class=\"progress-bar\" role=\"progressbar\" style=\"background-color: blue; width: 100%; word-wrap: normal; white-space: nowrap; text-align: center; color: white\" aria-valuenow=\"100\" aria-valuemin=\"0\" aria-valuemax=\"100\">\n",
       "    3 / 3\n",
       "  </div>\n",
       "  <div class=\"progress-bar\" role=\"progressbar\" style=\"background-color: red; width: 0%\" aria-valuenow=\"0\" aria-valuemin=\"0\" aria-valuemax=\"100\"></div>\n",
       "</div>\n"
      ]
     },
     "metadata": {},
     "output_type": "display_data"
    },
    {
     "data": {
      "text/html": [
       "<div>\n",
       "  <span style=\"float: left;\">treeAggregate at Statistics.scala:58</span>\n",
       "</div>\n"
      ]
     },
     "metadata": {},
     "output_type": "display_data"
    },
    {
     "data": {
      "text/html": [
       "<div class=\"progress\">\n",
       "  <div class=\"progress-bar\" role=\"progressbar\" style=\"background-color: blue; width: 100%; word-wrap: normal; white-space: nowrap; text-align: center; color: white\" aria-valuenow=\"100\" aria-valuemin=\"0\" aria-valuemax=\"100\">\n",
       "    3 / 3\n",
       "  </div>\n",
       "  <div class=\"progress-bar\" role=\"progressbar\" style=\"background-color: red; width: 0%\" aria-valuenow=\"0\" aria-valuemin=\"0\" aria-valuemax=\"100\"></div>\n",
       "</div>\n"
      ]
     },
     "metadata": {},
     "output_type": "display_data"
    },
    {
     "data": {
      "text/html": [
       "<div>\n",
       "  <span style=\"float: left;\">treeAggregate at Statistics.scala:58</span>\n",
       "</div>\n"
      ]
     },
     "metadata": {},
     "output_type": "display_data"
    },
    {
     "data": {
      "text/html": [
       "<div class=\"progress\">\n",
       "  <div class=\"progress-bar\" role=\"progressbar\" style=\"background-color: blue; width: 100%; word-wrap: normal; white-space: nowrap; text-align: center; color: white\" aria-valuenow=\"100\" aria-valuemin=\"0\" aria-valuemax=\"100\">\n",
       "    3 / 3\n",
       "  </div>\n",
       "  <div class=\"progress-bar\" role=\"progressbar\" style=\"background-color: red; width: 0%\" aria-valuenow=\"0\" aria-valuemin=\"0\" aria-valuemax=\"100\"></div>\n",
       "</div>\n"
      ]
     },
     "metadata": {},
     "output_type": "display_data"
    },
    {
     "data": {
      "text/html": [
       "<div>\n",
       "  <span style=\"float: left;\">treeAggregate at Statistics.scala:58</span>\n",
       "</div>\n"
      ]
     },
     "metadata": {},
     "output_type": "display_data"
    },
    {
     "data": {
      "text/html": [
       "<div class=\"progress\">\n",
       "  <div class=\"progress-bar\" role=\"progressbar\" style=\"background-color: blue; width: 100%; word-wrap: normal; white-space: nowrap; text-align: center; color: white\" aria-valuenow=\"100\" aria-valuemin=\"0\" aria-valuemax=\"100\">\n",
       "    3 / 3\n",
       "  </div>\n",
       "  <div class=\"progress-bar\" role=\"progressbar\" style=\"background-color: red; width: 0%\" aria-valuenow=\"0\" aria-valuemin=\"0\" aria-valuemax=\"100\"></div>\n",
       "</div>\n"
      ]
     },
     "metadata": {},
     "output_type": "display_data"
    },
    {
     "data": {
      "text/html": [
       "<div>\n",
       "  <span style=\"float: left;\">treeAggregate at Statistics.scala:58</span>\n",
       "</div>\n"
      ]
     },
     "metadata": {},
     "output_type": "display_data"
    },
    {
     "data": {
      "text/html": [
       "<div class=\"progress\">\n",
       "  <div class=\"progress-bar\" role=\"progressbar\" style=\"background-color: blue; width: 100%; word-wrap: normal; white-space: nowrap; text-align: center; color: white\" aria-valuenow=\"100\" aria-valuemin=\"0\" aria-valuemax=\"100\">\n",
       "    3 / 3\n",
       "  </div>\n",
       "  <div class=\"progress-bar\" role=\"progressbar\" style=\"background-color: red; width: 0%\" aria-valuenow=\"0\" aria-valuemin=\"0\" aria-valuemax=\"100\"></div>\n",
       "</div>\n"
      ]
     },
     "metadata": {},
     "output_type": "display_data"
    },
    {
     "data": {
      "text/html": [
       "<div>\n",
       "  <span style=\"float: left;\">treeAggregate at Statistics.scala:58</span>\n",
       "</div>\n"
      ]
     },
     "metadata": {},
     "output_type": "display_data"
    },
    {
     "data": {
      "text/html": [
       "<div class=\"progress\">\n",
       "  <div class=\"progress-bar\" role=\"progressbar\" style=\"background-color: blue; width: 100%; word-wrap: normal; white-space: nowrap; text-align: center; color: white\" aria-valuenow=\"100\" aria-valuemin=\"0\" aria-valuemax=\"100\">\n",
       "    3 / 3\n",
       "  </div>\n",
       "  <div class=\"progress-bar\" role=\"progressbar\" style=\"background-color: red; width: 0%\" aria-valuenow=\"0\" aria-valuemin=\"0\" aria-valuemax=\"100\"></div>\n",
       "</div>\n"
      ]
     },
     "metadata": {},
     "output_type": "display_data"
    },
    {
     "data": {
      "text/html": [
       "<div>\n",
       "  <span style=\"float: left;\">treeAggregate at Statistics.scala:58</span>\n",
       "</div>\n"
      ]
     },
     "metadata": {},
     "output_type": "display_data"
    },
    {
     "data": {
      "text/html": [
       "<div class=\"progress\">\n",
       "  <div class=\"progress-bar\" role=\"progressbar\" style=\"background-color: blue; width: 100%; word-wrap: normal; white-space: nowrap; text-align: center; color: white\" aria-valuenow=\"100\" aria-valuemin=\"0\" aria-valuemax=\"100\">\n",
       "    3 / 3\n",
       "  </div>\n",
       "  <div class=\"progress-bar\" role=\"progressbar\" style=\"background-color: red; width: 0%\" aria-valuenow=\"0\" aria-valuemin=\"0\" aria-valuemax=\"100\"></div>\n",
       "</div>\n"
      ]
     },
     "metadata": {},
     "output_type": "display_data"
    },
    {
     "data": {
      "text/html": [
       "<div>\n",
       "  <span style=\"float: left;\">isEmpty at RowMatrix.scala:426</span>\n",
       "</div>\n"
      ]
     },
     "metadata": {},
     "output_type": "display_data"
    },
    {
     "data": {
      "text/html": [
       "<div class=\"progress\">\n",
       "  <div class=\"progress-bar\" role=\"progressbar\" style=\"background-color: blue; width: 100%; word-wrap: normal; white-space: nowrap; text-align: center; color: white\" aria-valuenow=\"100\" aria-valuemin=\"0\" aria-valuemax=\"100\">\n",
       "    1 / 1\n",
       "  </div>\n",
       "  <div class=\"progress-bar\" role=\"progressbar\" style=\"background-color: red; width: 0%\" aria-valuenow=\"0\" aria-valuemin=\"0\" aria-valuemax=\"100\"></div>\n",
       "</div>\n"
      ]
     },
     "metadata": {},
     "output_type": "display_data"
    },
    {
     "data": {
      "text/html": [
       "<div>\n",
       "  <span style=\"float: left;\">isEmpty at RowMatrix.scala:426</span>\n",
       "</div>\n"
      ]
     },
     "metadata": {},
     "output_type": "display_data"
    },
    {
     "data": {
      "text/html": [
       "<div class=\"progress\">\n",
       "  <div class=\"progress-bar\" role=\"progressbar\" style=\"background-color: blue; width: 100%; word-wrap: normal; white-space: nowrap; text-align: center; color: white\" aria-valuenow=\"100\" aria-valuemin=\"0\" aria-valuemax=\"100\">\n",
       "    1 / 1\n",
       "  </div>\n",
       "  <div class=\"progress-bar\" role=\"progressbar\" style=\"background-color: red; width: 0%\" aria-valuenow=\"0\" aria-valuemin=\"0\" aria-valuemax=\"100\"></div>\n",
       "</div>\n"
      ]
     },
     "metadata": {},
     "output_type": "display_data"
    },
    {
     "data": {
      "text/html": [
       "<div>\n",
       "  <span style=\"float: left;\">isEmpty at RowMatrix.scala:426</span>\n",
       "</div>\n"
      ]
     },
     "metadata": {},
     "output_type": "display_data"
    },
    {
     "data": {
      "text/html": [
       "<div class=\"progress\">\n",
       "  <div class=\"progress-bar\" role=\"progressbar\" style=\"background-color: blue; width: 100%; word-wrap: normal; white-space: nowrap; text-align: center; color: white\" aria-valuenow=\"100\" aria-valuemin=\"0\" aria-valuemax=\"100\">\n",
       "    1 / 1\n",
       "  </div>\n",
       "  <div class=\"progress-bar\" role=\"progressbar\" style=\"background-color: red; width: 0%\" aria-valuenow=\"0\" aria-valuemin=\"0\" aria-valuemax=\"100\"></div>\n",
       "</div>\n"
      ]
     },
     "metadata": {},
     "output_type": "display_data"
    },
    {
     "data": {
      "text/html": [
       "<div>\n",
       "  <span style=\"float: left;\">isEmpty at RowMatrix.scala:426</span>\n",
       "</div>\n"
      ]
     },
     "metadata": {},
     "output_type": "display_data"
    },
    {
     "data": {
      "text/html": [
       "<div class=\"progress\">\n",
       "  <div class=\"progress-bar\" role=\"progressbar\" style=\"background-color: blue; width: 100%; word-wrap: normal; white-space: nowrap; text-align: center; color: white\" aria-valuenow=\"100\" aria-valuemin=\"0\" aria-valuemax=\"100\">\n",
       "    1 / 1\n",
       "  </div>\n",
       "  <div class=\"progress-bar\" role=\"progressbar\" style=\"background-color: red; width: 0%\" aria-valuenow=\"0\" aria-valuemin=\"0\" aria-valuemax=\"100\"></div>\n",
       "</div>\n"
      ]
     },
     "metadata": {},
     "output_type": "display_data"
    },
    {
     "data": {
      "text/html": [
       "<div>\n",
       "  <span style=\"float: left;\">isEmpty at RowMatrix.scala:426</span>\n",
       "</div>\n"
      ]
     },
     "metadata": {},
     "output_type": "display_data"
    },
    {
     "data": {
      "text/html": [
       "<div class=\"progress\">\n",
       "  <div class=\"progress-bar\" role=\"progressbar\" style=\"background-color: blue; width: 100%; word-wrap: normal; white-space: nowrap; text-align: center; color: white\" aria-valuenow=\"100\" aria-valuemin=\"0\" aria-valuemax=\"100\">\n",
       "    1 / 1\n",
       "  </div>\n",
       "  <div class=\"progress-bar\" role=\"progressbar\" style=\"background-color: red; width: 0%\" aria-valuenow=\"0\" aria-valuemin=\"0\" aria-valuemax=\"100\"></div>\n",
       "</div>\n"
      ]
     },
     "metadata": {},
     "output_type": "display_data"
    },
    {
     "data": {
      "text/html": [
       "<div>\n",
       "  <span style=\"float: left;\">isEmpty at RowMatrix.scala:426</span>\n",
       "</div>\n"
      ]
     },
     "metadata": {},
     "output_type": "display_data"
    },
    {
     "data": {
      "text/html": [
       "<div class=\"progress\">\n",
       "  <div class=\"progress-bar\" role=\"progressbar\" style=\"background-color: blue; width: 100%; word-wrap: normal; white-space: nowrap; text-align: center; color: white\" aria-valuenow=\"100\" aria-valuemin=\"0\" aria-valuemax=\"100\">\n",
       "    1 / 1\n",
       "  </div>\n",
       "  <div class=\"progress-bar\" role=\"progressbar\" style=\"background-color: red; width: 0%\" aria-valuenow=\"0\" aria-valuemin=\"0\" aria-valuemax=\"100\"></div>\n",
       "</div>\n"
      ]
     },
     "metadata": {},
     "output_type": "display_data"
    },
    {
     "data": {
      "text/html": [
       "<div>\n",
       "  <span style=\"float: left;\">isEmpty at RowMatrix.scala:426</span>\n",
       "</div>\n"
      ]
     },
     "metadata": {},
     "output_type": "display_data"
    },
    {
     "data": {
      "text/html": [
       "<div class=\"progress\">\n",
       "  <div class=\"progress-bar\" role=\"progressbar\" style=\"background-color: blue; width: 100%; word-wrap: normal; white-space: nowrap; text-align: center; color: white\" aria-valuenow=\"100\" aria-valuemin=\"0\" aria-valuemax=\"100\">\n",
       "    1 / 1\n",
       "  </div>\n",
       "  <div class=\"progress-bar\" role=\"progressbar\" style=\"background-color: red; width: 0%\" aria-valuenow=\"0\" aria-valuemin=\"0\" aria-valuemax=\"100\"></div>\n",
       "</div>\n"
      ]
     },
     "metadata": {},
     "output_type": "display_data"
    },
    {
     "data": {
      "text/html": [
       "<div>\n",
       "  <span style=\"float: left;\">isEmpty at RowMatrix.scala:426</span>\n",
       "</div>\n"
      ]
     },
     "metadata": {},
     "output_type": "display_data"
    },
    {
     "data": {
      "text/html": [
       "<div class=\"progress\">\n",
       "  <div class=\"progress-bar\" role=\"progressbar\" style=\"background-color: blue; width: 100%; word-wrap: normal; white-space: nowrap; text-align: center; color: white\" aria-valuenow=\"100\" aria-valuemin=\"0\" aria-valuemax=\"100\">\n",
       "    1 / 1\n",
       "  </div>\n",
       "  <div class=\"progress-bar\" role=\"progressbar\" style=\"background-color: red; width: 0%\" aria-valuenow=\"0\" aria-valuemin=\"0\" aria-valuemax=\"100\"></div>\n",
       "</div>\n"
      ]
     },
     "metadata": {},
     "output_type": "display_data"
    },
    {
     "data": {
      "text/html": [
       "<div>\n",
       "  <span style=\"float: left;\">treeAggregate at RowMatrix.scala:156</span>\n",
       "</div>\n"
      ]
     },
     "metadata": {},
     "output_type": "display_data"
    },
    {
     "data": {
      "text/html": [
       "<div class=\"progress\">\n",
       "  <div class=\"progress-bar\" role=\"progressbar\" style=\"background-color: blue; width: 100%; word-wrap: normal; white-space: nowrap; text-align: center; color: white\" aria-valuenow=\"100\" aria-valuemin=\"0\" aria-valuemax=\"100\">\n",
       "    12 / 12\n",
       "  </div>\n",
       "  <div class=\"progress-bar\" role=\"progressbar\" style=\"background-color: red; width: 0%\" aria-valuenow=\"0\" aria-valuemin=\"0\" aria-valuemax=\"100\"></div>\n",
       "</div>\n"
      ]
     },
     "metadata": {},
     "output_type": "display_data"
    },
    {
     "data": {
      "text/html": [
       "<div>\n",
       "  <span style=\"float: left;\">treeAggregate at RowMatrix.scala:156</span>\n",
       "</div>\n"
      ]
     },
     "metadata": {},
     "output_type": "display_data"
    },
    {
     "data": {
      "text/html": [
       "<div class=\"progress\">\n",
       "  <div class=\"progress-bar\" role=\"progressbar\" style=\"background-color: blue; width: 100%; word-wrap: normal; white-space: nowrap; text-align: center; color: white\" aria-valuenow=\"100\" aria-valuemin=\"0\" aria-valuemax=\"100\">\n",
       "    12 / 12\n",
       "  </div>\n",
       "  <div class=\"progress-bar\" role=\"progressbar\" style=\"background-color: red; width: 0%\" aria-valuenow=\"0\" aria-valuemin=\"0\" aria-valuemax=\"100\"></div>\n",
       "</div>\n"
      ]
     },
     "metadata": {},
     "output_type": "display_data"
    },
    {
     "data": {
      "text/html": [
       "<div>\n",
       "  <span style=\"float: left;\">treeAggregate at RowMatrix.scala:156</span>\n",
       "</div>\n"
      ]
     },
     "metadata": {},
     "output_type": "display_data"
    },
    {
     "data": {
      "text/html": [
       "<div class=\"progress\">\n",
       "  <div class=\"progress-bar\" role=\"progressbar\" style=\"background-color: blue; width: 100%; word-wrap: normal; white-space: nowrap; text-align: center; color: white\" aria-valuenow=\"100\" aria-valuemin=\"0\" aria-valuemax=\"100\">\n",
       "    12 / 12\n",
       "  </div>\n",
       "  <div class=\"progress-bar\" role=\"progressbar\" style=\"background-color: red; width: 0%\" aria-valuenow=\"0\" aria-valuemin=\"0\" aria-valuemax=\"100\"></div>\n",
       "</div>\n"
      ]
     },
     "metadata": {},
     "output_type": "display_data"
    },
    {
     "data": {
      "text/html": [
       "<div>\n",
       "  <span style=\"float: left;\">treeAggregate at RowMatrix.scala:156</span>\n",
       "</div>\n"
      ]
     },
     "metadata": {},
     "output_type": "display_data"
    },
    {
     "data": {
      "text/html": [
       "<div class=\"progress\">\n",
       "  <div class=\"progress-bar\" role=\"progressbar\" style=\"background-color: blue; width: 100%; word-wrap: normal; white-space: nowrap; text-align: center; color: white\" aria-valuenow=\"100\" aria-valuemin=\"0\" aria-valuemax=\"100\">\n",
       "    12 / 12\n",
       "  </div>\n",
       "  <div class=\"progress-bar\" role=\"progressbar\" style=\"background-color: red; width: 0%\" aria-valuenow=\"0\" aria-valuemin=\"0\" aria-valuemax=\"100\"></div>\n",
       "</div>\n"
      ]
     },
     "metadata": {},
     "output_type": "display_data"
    },
    {
     "data": {
      "text/html": [
       "<div>\n",
       "  <span style=\"float: left;\">treeAggregate at RowMatrix.scala:156</span>\n",
       "</div>\n"
      ]
     },
     "metadata": {},
     "output_type": "display_data"
    },
    {
     "data": {
      "text/html": [
       "<div class=\"progress\">\n",
       "  <div class=\"progress-bar\" role=\"progressbar\" style=\"background-color: blue; width: 100%; word-wrap: normal; white-space: nowrap; text-align: center; color: white\" aria-valuenow=\"100\" aria-valuemin=\"0\" aria-valuemax=\"100\">\n",
       "    12 / 12\n",
       "  </div>\n",
       "  <div class=\"progress-bar\" role=\"progressbar\" style=\"background-color: red; width: 0%\" aria-valuenow=\"0\" aria-valuemin=\"0\" aria-valuemax=\"100\"></div>\n",
       "</div>\n"
      ]
     },
     "metadata": {},
     "output_type": "display_data"
    },
    {
     "data": {
      "text/html": [
       "<div>\n",
       "  <span style=\"float: left;\">treeAggregate at RowMatrix.scala:156</span>\n",
       "</div>\n"
      ]
     },
     "metadata": {},
     "output_type": "display_data"
    },
    {
     "data": {
      "text/html": [
       "<div class=\"progress\">\n",
       "  <div class=\"progress-bar\" role=\"progressbar\" style=\"background-color: blue; width: 100%; word-wrap: normal; white-space: nowrap; text-align: center; color: white\" aria-valuenow=\"100\" aria-valuemin=\"0\" aria-valuemax=\"100\">\n",
       "    12 / 12\n",
       "  </div>\n",
       "  <div class=\"progress-bar\" role=\"progressbar\" style=\"background-color: red; width: 0%\" aria-valuenow=\"0\" aria-valuemin=\"0\" aria-valuemax=\"100\"></div>\n",
       "</div>\n"
      ]
     },
     "metadata": {},
     "output_type": "display_data"
    },
    {
     "data": {
      "text/html": [
       "<div>\n",
       "  <span style=\"float: left;\">treeAggregate at RowMatrix.scala:156</span>\n",
       "</div>\n"
      ]
     },
     "metadata": {},
     "output_type": "display_data"
    },
    {
     "data": {
      "text/html": [
       "<div class=\"progress\">\n",
       "  <div class=\"progress-bar\" role=\"progressbar\" style=\"background-color: blue; width: 100%; word-wrap: normal; white-space: nowrap; text-align: center; color: white\" aria-valuenow=\"100\" aria-valuemin=\"0\" aria-valuemax=\"100\">\n",
       "    12 / 12\n",
       "  </div>\n",
       "  <div class=\"progress-bar\" role=\"progressbar\" style=\"background-color: red; width: 0%\" aria-valuenow=\"0\" aria-valuemin=\"0\" aria-valuemax=\"100\"></div>\n",
       "</div>\n"
      ]
     },
     "metadata": {},
     "output_type": "display_data"
    },
    {
     "data": {
      "text/html": [
       "<div>\n",
       "  <span style=\"float: left;\">treeAggregate at RowMatrix.scala:156</span>\n",
       "</div>\n"
      ]
     },
     "metadata": {},
     "output_type": "display_data"
    },
    {
     "data": {
      "text/html": [
       "<div class=\"progress\">\n",
       "  <div class=\"progress-bar\" role=\"progressbar\" style=\"background-color: blue; width: 100%; word-wrap: normal; white-space: nowrap; text-align: center; color: white\" aria-valuenow=\"100\" aria-valuemin=\"0\" aria-valuemax=\"100\">\n",
       "    12 / 12\n",
       "  </div>\n",
       "  <div class=\"progress-bar\" role=\"progressbar\" style=\"background-color: red; width: 0%\" aria-valuenow=\"0\" aria-valuemin=\"0\" aria-valuemax=\"100\"></div>\n",
       "</div>\n"
      ]
     },
     "metadata": {},
     "output_type": "display_data"
    },
    {
     "data": {
      "text/html": [
       "<div>\n",
       "  <span style=\"float: left;\">treeAggregate at RowMatrix.scala:156</span>\n",
       "</div>\n"
      ]
     },
     "metadata": {},
     "output_type": "display_data"
    },
    {
     "data": {
      "text/html": [
       "<div class=\"progress\">\n",
       "  <div class=\"progress-bar\" role=\"progressbar\" style=\"background-color: blue; width: 100%; word-wrap: normal; white-space: nowrap; text-align: center; color: white\" aria-valuenow=\"100\" aria-valuemin=\"0\" aria-valuemax=\"100\">\n",
       "    3 / 3\n",
       "  </div>\n",
       "  <div class=\"progress-bar\" role=\"progressbar\" style=\"background-color: red; width: 0%\" aria-valuenow=\"0\" aria-valuemin=\"0\" aria-valuemax=\"100\"></div>\n",
       "</div>\n"
      ]
     },
     "metadata": {},
     "output_type": "display_data"
    },
    {
     "data": {
      "text/html": [
       "<div>\n",
       "  <span style=\"float: left;\">treeAggregate at RowMatrix.scala:156</span>\n",
       "</div>\n"
      ]
     },
     "metadata": {},
     "output_type": "display_data"
    },
    {
     "data": {
      "text/html": [
       "<div class=\"progress\">\n",
       "  <div class=\"progress-bar\" role=\"progressbar\" style=\"background-color: blue; width: 100%; word-wrap: normal; white-space: nowrap; text-align: center; color: white\" aria-valuenow=\"100\" aria-valuemin=\"0\" aria-valuemax=\"100\">\n",
       "    3 / 3\n",
       "  </div>\n",
       "  <div class=\"progress-bar\" role=\"progressbar\" style=\"background-color: red; width: 0%\" aria-valuenow=\"0\" aria-valuemin=\"0\" aria-valuemax=\"100\"></div>\n",
       "</div>\n"
      ]
     },
     "metadata": {},
     "output_type": "display_data"
    },
    {
     "data": {
      "text/html": [
       "<div>\n",
       "  <span style=\"float: left;\">treeAggregate at RowMatrix.scala:156</span>\n",
       "</div>\n"
      ]
     },
     "metadata": {},
     "output_type": "display_data"
    },
    {
     "data": {
      "text/html": [
       "<div class=\"progress\">\n",
       "  <div class=\"progress-bar\" role=\"progressbar\" style=\"background-color: blue; width: 100%; word-wrap: normal; white-space: nowrap; text-align: center; color: white\" aria-valuenow=\"100\" aria-valuemin=\"0\" aria-valuemax=\"100\">\n",
       "    3 / 3\n",
       "  </div>\n",
       "  <div class=\"progress-bar\" role=\"progressbar\" style=\"background-color: red; width: 0%\" aria-valuenow=\"0\" aria-valuemin=\"0\" aria-valuemax=\"100\"></div>\n",
       "</div>\n"
      ]
     },
     "metadata": {},
     "output_type": "display_data"
    },
    {
     "data": {
      "text/html": [
       "<div>\n",
       "  <span style=\"float: left;\">treeAggregate at RowMatrix.scala:156</span>\n",
       "</div>\n"
      ]
     },
     "metadata": {},
     "output_type": "display_data"
    },
    {
     "data": {
      "text/html": [
       "<div class=\"progress\">\n",
       "  <div class=\"progress-bar\" role=\"progressbar\" style=\"background-color: blue; width: 100%; word-wrap: normal; white-space: nowrap; text-align: center; color: white\" aria-valuenow=\"100\" aria-valuemin=\"0\" aria-valuemax=\"100\">\n",
       "    3 / 3\n",
       "  </div>\n",
       "  <div class=\"progress-bar\" role=\"progressbar\" style=\"background-color: red; width: 0%\" aria-valuenow=\"0\" aria-valuemin=\"0\" aria-valuemax=\"100\"></div>\n",
       "</div>\n"
      ]
     },
     "metadata": {},
     "output_type": "display_data"
    },
    {
     "data": {
      "text/html": [
       "<div>\n",
       "  <span style=\"float: left;\">treeAggregate at RowMatrix.scala:156</span>\n",
       "</div>\n"
      ]
     },
     "metadata": {},
     "output_type": "display_data"
    },
    {
     "data": {
      "text/html": [
       "<div class=\"progress\">\n",
       "  <div class=\"progress-bar\" role=\"progressbar\" style=\"background-color: blue; width: 100%; word-wrap: normal; white-space: nowrap; text-align: center; color: white\" aria-valuenow=\"100\" aria-valuemin=\"0\" aria-valuemax=\"100\">\n",
       "    3 / 3\n",
       "  </div>\n",
       "  <div class=\"progress-bar\" role=\"progressbar\" style=\"background-color: red; width: 0%\" aria-valuenow=\"0\" aria-valuemin=\"0\" aria-valuemax=\"100\"></div>\n",
       "</div>\n"
      ]
     },
     "metadata": {},
     "output_type": "display_data"
    },
    {
     "data": {
      "text/html": [
       "<div>\n",
       "  <span style=\"float: left;\">treeAggregate at RowMatrix.scala:156</span>\n",
       "</div>\n"
      ]
     },
     "metadata": {},
     "output_type": "display_data"
    },
    {
     "data": {
      "text/html": [
       "<div class=\"progress\">\n",
       "  <div class=\"progress-bar\" role=\"progressbar\" style=\"background-color: blue; width: 100%; word-wrap: normal; white-space: nowrap; text-align: center; color: white\" aria-valuenow=\"100\" aria-valuemin=\"0\" aria-valuemax=\"100\">\n",
       "    3 / 3\n",
       "  </div>\n",
       "  <div class=\"progress-bar\" role=\"progressbar\" style=\"background-color: red; width: 0%\" aria-valuenow=\"0\" aria-valuemin=\"0\" aria-valuemax=\"100\"></div>\n",
       "</div>\n"
      ]
     },
     "metadata": {},
     "output_type": "display_data"
    },
    {
     "data": {
      "text/html": [
       "<div>\n",
       "  <span style=\"float: left;\">treeAggregate at RowMatrix.scala:156</span>\n",
       "</div>\n"
      ]
     },
     "metadata": {},
     "output_type": "display_data"
    },
    {
     "data": {
      "text/html": [
       "<div class=\"progress\">\n",
       "  <div class=\"progress-bar\" role=\"progressbar\" style=\"background-color: blue; width: 100%; word-wrap: normal; white-space: nowrap; text-align: center; color: white\" aria-valuenow=\"100\" aria-valuemin=\"0\" aria-valuemax=\"100\">\n",
       "    3 / 3\n",
       "  </div>\n",
       "  <div class=\"progress-bar\" role=\"progressbar\" style=\"background-color: red; width: 0%\" aria-valuenow=\"0\" aria-valuemin=\"0\" aria-valuemax=\"100\"></div>\n",
       "</div>\n"
      ]
     },
     "metadata": {},
     "output_type": "display_data"
    },
    {
     "data": {
      "text/html": [
       "<div>\n",
       "  <span style=\"float: left;\">treeAggregate at RowMatrix.scala:156</span>\n",
       "</div>\n"
      ]
     },
     "metadata": {},
     "output_type": "display_data"
    },
    {
     "data": {
      "text/html": [
       "<div class=\"progress\">\n",
       "  <div class=\"progress-bar\" role=\"progressbar\" style=\"background-color: blue; width: 100%; word-wrap: normal; white-space: nowrap; text-align: center; color: white\" aria-valuenow=\"100\" aria-valuemin=\"0\" aria-valuemax=\"100\">\n",
       "    3 / 3\n",
       "  </div>\n",
       "  <div class=\"progress-bar\" role=\"progressbar\" style=\"background-color: red; width: 0%\" aria-valuenow=\"0\" aria-valuemin=\"0\" aria-valuemax=\"100\"></div>\n",
       "</div>\n"
      ]
     },
     "metadata": {},
     "output_type": "display_data"
    },
    {
     "data": {
      "text/plain": [
       "\u001b[36mpca\u001b[39m: \u001b[32mMatrix\u001b[39m = -0.76908153413682    \n",
       "-0.6391506816469457  "
      ]
     },
     "execution_count": 34,
     "metadata": {},
     "output_type": "execute_result"
    }
   ],
   "source": [
    "val pca: Matrix = mat.computePrincipalComponents(1)"
   ]
  },
  {
   "cell_type": "code",
   "execution_count": 36,
   "id": "b3bc0532-0364-4657-990b-9a64da49a53f",
   "metadata": {
    "tags": []
   },
   "outputs": [
    {
     "data": {
      "text/plain": [
       "\u001b[36mprojected\u001b[39m: \u001b[32mRowMatrix\u001b[39m = org.apache.spark.mllib.linalg.distributed.RowMatrix@3334fe61"
      ]
     },
     "execution_count": 36,
     "metadata": {},
     "output_type": "execute_result"
    }
   ],
   "source": [
    "val projected: RowMatrix = mat.multiply(pca)"
   ]
  },
  {
   "cell_type": "code",
   "execution_count": 41,
   "id": "d4f26f3c-fa69-4888-97a0-09ba9532210b",
   "metadata": {
    "tags": []
   },
   "outputs": [
    {
     "data": {
      "text/html": [
       "<div>\n",
       "  <span style=\"float: left;\">take at cmd40.sc:1</span>\n",
       "</div>\n"
      ]
     },
     "metadata": {},
     "output_type": "display_data"
    },
    {
     "data": {
      "text/html": [
       "<div class=\"progress\">\n",
       "  <div class=\"progress-bar\" role=\"progressbar\" style=\"background-color: blue; width: 100%; word-wrap: normal; white-space: nowrap; text-align: center; color: white\" aria-valuenow=\"100\" aria-valuemin=\"0\" aria-valuemax=\"100\">\n",
       "    1 / 1\n",
       "  </div>\n",
       "  <div class=\"progress-bar\" role=\"progressbar\" style=\"background-color: red; width: 0%\" aria-valuenow=\"0\" aria-valuemin=\"0\" aria-valuemax=\"100\"></div>\n",
       "</div>\n"
      ]
     },
     "metadata": {},
     "output_type": "display_data"
    },
    {
     "data": {
      "text/html": [
       "<div>\n",
       "  <span style=\"float: left;\">take at cmd40.sc:1</span>\n",
       "</div>\n"
      ]
     },
     "metadata": {},
     "output_type": "display_data"
    },
    {
     "data": {
      "text/html": [
       "<div class=\"progress\">\n",
       "  <div class=\"progress-bar\" role=\"progressbar\" style=\"background-color: blue; width: 100%; word-wrap: normal; white-space: nowrap; text-align: center; color: white\" aria-valuenow=\"100\" aria-valuemin=\"0\" aria-valuemax=\"100\">\n",
       "    1 / 1\n",
       "  </div>\n",
       "  <div class=\"progress-bar\" role=\"progressbar\" style=\"background-color: red; width: 0%\" aria-valuenow=\"0\" aria-valuemin=\"0\" aria-valuemax=\"100\"></div>\n",
       "</div>\n"
      ]
     },
     "metadata": {},
     "output_type": "display_data"
    },
    {
     "data": {
      "text/html": [
       "<div>\n",
       "  <span style=\"float: left;\">take at cmd40.sc:1</span>\n",
       "</div>\n"
      ]
     },
     "metadata": {},
     "output_type": "display_data"
    },
    {
     "data": {
      "text/html": [
       "<div class=\"progress\">\n",
       "  <div class=\"progress-bar\" role=\"progressbar\" style=\"background-color: blue; width: 100%; word-wrap: normal; white-space: nowrap; text-align: center; color: white\" aria-valuenow=\"100\" aria-valuemin=\"0\" aria-valuemax=\"100\">\n",
       "    1 / 1\n",
       "  </div>\n",
       "  <div class=\"progress-bar\" role=\"progressbar\" style=\"background-color: red; width: 0%\" aria-valuenow=\"0\" aria-valuemin=\"0\" aria-valuemax=\"100\"></div>\n",
       "</div>\n"
      ]
     },
     "metadata": {},
     "output_type": "display_data"
    },
    {
     "data": {
      "text/html": [
       "<div>\n",
       "  <span style=\"float: left;\">take at cmd40.sc:1</span>\n",
       "</div>\n"
      ]
     },
     "metadata": {},
     "output_type": "display_data"
    },
    {
     "data": {
      "text/html": [
       "<div class=\"progress\">\n",
       "  <div class=\"progress-bar\" role=\"progressbar\" style=\"background-color: blue; width: 100%; word-wrap: normal; white-space: nowrap; text-align: center; color: white\" aria-valuenow=\"100\" aria-valuemin=\"0\" aria-valuemax=\"100\">\n",
       "    1 / 1\n",
       "  </div>\n",
       "  <div class=\"progress-bar\" role=\"progressbar\" style=\"background-color: red; width: 0%\" aria-valuenow=\"0\" aria-valuemin=\"0\" aria-valuemax=\"100\"></div>\n",
       "</div>\n"
      ]
     },
     "metadata": {},
     "output_type": "display_data"
    },
    {
     "data": {
      "text/html": [
       "<div>\n",
       "  <span style=\"float: left;\">take at cmd40.sc:1</span>\n",
       "</div>\n"
      ]
     },
     "metadata": {},
     "output_type": "display_data"
    },
    {
     "data": {
      "text/html": [
       "<div class=\"progress\">\n",
       "  <div class=\"progress-bar\" role=\"progressbar\" style=\"background-color: blue; width: 100%; word-wrap: normal; white-space: nowrap; text-align: center; color: white\" aria-valuenow=\"100\" aria-valuemin=\"0\" aria-valuemax=\"100\">\n",
       "    1 / 1\n",
       "  </div>\n",
       "  <div class=\"progress-bar\" role=\"progressbar\" style=\"background-color: red; width: 0%\" aria-valuenow=\"0\" aria-valuemin=\"0\" aria-valuemax=\"100\"></div>\n",
       "</div>\n"
      ]
     },
     "metadata": {},
     "output_type": "display_data"
    },
    {
     "data": {
      "text/html": [
       "<div>\n",
       "  <span style=\"float: left;\">take at cmd40.sc:1</span>\n",
       "</div>\n"
      ]
     },
     "metadata": {},
     "output_type": "display_data"
    },
    {
     "data": {
      "text/html": [
       "<div class=\"progress\">\n",
       "  <div class=\"progress-bar\" role=\"progressbar\" style=\"background-color: blue; width: 100%; word-wrap: normal; white-space: nowrap; text-align: center; color: white\" aria-valuenow=\"100\" aria-valuemin=\"0\" aria-valuemax=\"100\">\n",
       "    1 / 1\n",
       "  </div>\n",
       "  <div class=\"progress-bar\" role=\"progressbar\" style=\"background-color: red; width: 0%\" aria-valuenow=\"0\" aria-valuemin=\"0\" aria-valuemax=\"100\"></div>\n",
       "</div>\n"
      ]
     },
     "metadata": {},
     "output_type": "display_data"
    },
    {
     "data": {
      "text/html": [
       "<div>\n",
       "  <span style=\"float: left;\">take at cmd40.sc:1</span>\n",
       "</div>\n"
      ]
     },
     "metadata": {},
     "output_type": "display_data"
    },
    {
     "data": {
      "text/html": [
       "<div class=\"progress\">\n",
       "  <div class=\"progress-bar\" role=\"progressbar\" style=\"background-color: blue; width: 100%; word-wrap: normal; white-space: nowrap; text-align: center; color: white\" aria-valuenow=\"100\" aria-valuemin=\"0\" aria-valuemax=\"100\">\n",
       "    1 / 1\n",
       "  </div>\n",
       "  <div class=\"progress-bar\" role=\"progressbar\" style=\"background-color: red; width: 0%\" aria-valuenow=\"0\" aria-valuemin=\"0\" aria-valuemax=\"100\"></div>\n",
       "</div>\n"
      ]
     },
     "metadata": {},
     "output_type": "display_data"
    },
    {
     "data": {
      "text/html": [
       "<div>\n",
       "  <span style=\"float: left;\">take at cmd40.sc:1</span>\n",
       "</div>\n"
      ]
     },
     "metadata": {},
     "output_type": "display_data"
    },
    {
     "data": {
      "text/html": [
       "<div class=\"progress\">\n",
       "  <div class=\"progress-bar\" role=\"progressbar\" style=\"background-color: blue; width: 100%; word-wrap: normal; white-space: nowrap; text-align: center; color: white\" aria-valuenow=\"100\" aria-valuemin=\"0\" aria-valuemax=\"100\">\n",
       "    1 / 1\n",
       "  </div>\n",
       "  <div class=\"progress-bar\" role=\"progressbar\" style=\"background-color: red; width: 0%\" aria-valuenow=\"0\" aria-valuemin=\"0\" aria-valuemax=\"100\"></div>\n",
       "</div>\n"
      ]
     },
     "metadata": {},
     "output_type": "display_data"
    },
    {
     "data": {
      "text/html": [
       "<div>\n",
       "  <span style=\"float: left;\">take at cmd40.sc:1</span>\n",
       "</div>\n"
      ]
     },
     "metadata": {},
     "output_type": "display_data"
    },
    {
     "data": {
      "text/html": [
       "<div class=\"progress\">\n",
       "  <div class=\"progress-bar\" role=\"progressbar\" style=\"background-color: blue; width: 100%; word-wrap: normal; white-space: nowrap; text-align: center; color: white\" aria-valuenow=\"100\" aria-valuemin=\"0\" aria-valuemax=\"100\">\n",
       "    4 / 4\n",
       "  </div>\n",
       "  <div class=\"progress-bar\" role=\"progressbar\" style=\"background-color: red; width: 0%\" aria-valuenow=\"0\" aria-valuemin=\"0\" aria-valuemax=\"100\"></div>\n",
       "</div>\n"
      ]
     },
     "metadata": {},
     "output_type": "display_data"
    },
    {
     "data": {
      "text/html": [
       "<div>\n",
       "  <span style=\"float: left;\">take at cmd40.sc:1</span>\n",
       "</div>\n"
      ]
     },
     "metadata": {},
     "output_type": "display_data"
    },
    {
     "data": {
      "text/html": [
       "<div class=\"progress\">\n",
       "  <div class=\"progress-bar\" role=\"progressbar\" style=\"background-color: blue; width: 100%; word-wrap: normal; white-space: nowrap; text-align: center; color: white\" aria-valuenow=\"100\" aria-valuemin=\"0\" aria-valuemax=\"100\">\n",
       "    4 / 4\n",
       "  </div>\n",
       "  <div class=\"progress-bar\" role=\"progressbar\" style=\"background-color: red; width: 0%\" aria-valuenow=\"0\" aria-valuemin=\"0\" aria-valuemax=\"100\"></div>\n",
       "</div>\n"
      ]
     },
     "metadata": {},
     "output_type": "display_data"
    },
    {
     "data": {
      "text/html": [
       "<div>\n",
       "  <span style=\"float: left;\">take at cmd40.sc:1</span>\n",
       "</div>\n"
      ]
     },
     "metadata": {},
     "output_type": "display_data"
    },
    {
     "data": {
      "text/html": [
       "<div class=\"progress\">\n",
       "  <div class=\"progress-bar\" role=\"progressbar\" style=\"background-color: blue; width: 100%; word-wrap: normal; white-space: nowrap; text-align: center; color: white\" aria-valuenow=\"100\" aria-valuemin=\"0\" aria-valuemax=\"100\">\n",
       "    4 / 4\n",
       "  </div>\n",
       "  <div class=\"progress-bar\" role=\"progressbar\" style=\"background-color: red; width: 0%\" aria-valuenow=\"0\" aria-valuemin=\"0\" aria-valuemax=\"100\"></div>\n",
       "</div>\n"
      ]
     },
     "metadata": {},
     "output_type": "display_data"
    },
    {
     "data": {
      "text/html": [
       "<div>\n",
       "  <span style=\"float: left;\">take at cmd40.sc:1</span>\n",
       "</div>\n"
      ]
     },
     "metadata": {},
     "output_type": "display_data"
    },
    {
     "data": {
      "text/html": [
       "<div class=\"progress\">\n",
       "  <div class=\"progress-bar\" role=\"progressbar\" style=\"background-color: blue; width: 100%; word-wrap: normal; white-space: nowrap; text-align: center; color: white\" aria-valuenow=\"100\" aria-valuemin=\"0\" aria-valuemax=\"100\">\n",
       "    4 / 4\n",
       "  </div>\n",
       "  <div class=\"progress-bar\" role=\"progressbar\" style=\"background-color: red; width: 0%\" aria-valuenow=\"0\" aria-valuemin=\"0\" aria-valuemax=\"100\"></div>\n",
       "</div>\n"
      ]
     },
     "metadata": {},
     "output_type": "display_data"
    },
    {
     "data": {
      "text/html": [
       "<div>\n",
       "  <span style=\"float: left;\">take at cmd40.sc:1</span>\n",
       "</div>\n"
      ]
     },
     "metadata": {},
     "output_type": "display_data"
    },
    {
     "data": {
      "text/html": [
       "<div class=\"progress\">\n",
       "  <div class=\"progress-bar\" role=\"progressbar\" style=\"background-color: blue; width: 100%; word-wrap: normal; white-space: nowrap; text-align: center; color: white\" aria-valuenow=\"100\" aria-valuemin=\"0\" aria-valuemax=\"100\">\n",
       "    4 / 4\n",
       "  </div>\n",
       "  <div class=\"progress-bar\" role=\"progressbar\" style=\"background-color: red; width: 0%\" aria-valuenow=\"0\" aria-valuemin=\"0\" aria-valuemax=\"100\"></div>\n",
       "</div>\n"
      ]
     },
     "metadata": {},
     "output_type": "display_data"
    },
    {
     "data": {
      "text/html": [
       "<div>\n",
       "  <span style=\"float: left;\">take at cmd40.sc:1</span>\n",
       "</div>\n"
      ]
     },
     "metadata": {},
     "output_type": "display_data"
    },
    {
     "data": {
      "text/html": [
       "<div class=\"progress\">\n",
       "  <div class=\"progress-bar\" role=\"progressbar\" style=\"background-color: blue; width: 100%; word-wrap: normal; white-space: nowrap; text-align: center; color: white\" aria-valuenow=\"100\" aria-valuemin=\"0\" aria-valuemax=\"100\">\n",
       "    4 / 4\n",
       "  </div>\n",
       "  <div class=\"progress-bar\" role=\"progressbar\" style=\"background-color: red; width: 0%\" aria-valuenow=\"0\" aria-valuemin=\"0\" aria-valuemax=\"100\"></div>\n",
       "</div>\n"
      ]
     },
     "metadata": {},
     "output_type": "display_data"
    },
    {
     "data": {
      "text/html": [
       "<div>\n",
       "  <span style=\"float: left;\">take at cmd40.sc:1</span>\n",
       "</div>\n"
      ]
     },
     "metadata": {},
     "output_type": "display_data"
    },
    {
     "data": {
      "text/html": [
       "<div class=\"progress\">\n",
       "  <div class=\"progress-bar\" role=\"progressbar\" style=\"background-color: blue; width: 100%; word-wrap: normal; white-space: nowrap; text-align: center; color: white\" aria-valuenow=\"100\" aria-valuemin=\"0\" aria-valuemax=\"100\">\n",
       "    4 / 4\n",
       "  </div>\n",
       "  <div class=\"progress-bar\" role=\"progressbar\" style=\"background-color: red; width: 0%\" aria-valuenow=\"0\" aria-valuemin=\"0\" aria-valuemax=\"100\"></div>\n",
       "</div>\n"
      ]
     },
     "metadata": {},
     "output_type": "display_data"
    },
    {
     "data": {
      "text/html": [
       "<div>\n",
       "  <span style=\"float: left;\">take at cmd40.sc:1</span>\n",
       "</div>\n"
      ]
     },
     "metadata": {},
     "output_type": "display_data"
    },
    {
     "data": {
      "text/html": [
       "<div class=\"progress\">\n",
       "  <div class=\"progress-bar\" role=\"progressbar\" style=\"background-color: blue; width: 100%; word-wrap: normal; white-space: nowrap; text-align: center; color: white\" aria-valuenow=\"100\" aria-valuemin=\"0\" aria-valuemax=\"100\">\n",
       "    4 / 4\n",
       "  </div>\n",
       "  <div class=\"progress-bar\" role=\"progressbar\" style=\"background-color: red; width: 0%\" aria-valuenow=\"0\" aria-valuemin=\"0\" aria-valuemax=\"100\"></div>\n",
       "</div>\n"
      ]
     },
     "metadata": {},
     "output_type": "display_data"
    },
    {
     "data": {
      "text/html": [
       "<div>\n",
       "  <span style=\"float: left;\">take at cmd40.sc:1</span>\n",
       "</div>\n"
      ]
     },
     "metadata": {},
     "output_type": "display_data"
    },
    {
     "data": {
      "text/html": [
       "<div class=\"progress\">\n",
       "  <div class=\"progress-bar\" role=\"progressbar\" style=\"background-color: blue; width: 100%; word-wrap: normal; white-space: nowrap; text-align: center; color: white\" aria-valuenow=\"100\" aria-valuemin=\"0\" aria-valuemax=\"100\">\n",
       "    7 / 7\n",
       "  </div>\n",
       "  <div class=\"progress-bar\" role=\"progressbar\" style=\"background-color: red; width: 0%\" aria-valuenow=\"0\" aria-valuemin=\"0\" aria-valuemax=\"100\"></div>\n",
       "</div>\n"
      ]
     },
     "metadata": {},
     "output_type": "display_data"
    },
    {
     "data": {
      "text/html": [
       "<div>\n",
       "  <span style=\"float: left;\">take at cmd40.sc:1</span>\n",
       "</div>\n"
      ]
     },
     "metadata": {},
     "output_type": "display_data"
    },
    {
     "data": {
      "text/html": [
       "<div class=\"progress\">\n",
       "  <div class=\"progress-bar\" role=\"progressbar\" style=\"background-color: blue; width: 100%; word-wrap: normal; white-space: nowrap; text-align: center; color: white\" aria-valuenow=\"100\" aria-valuemin=\"0\" aria-valuemax=\"100\">\n",
       "    7 / 7\n",
       "  </div>\n",
       "  <div class=\"progress-bar\" role=\"progressbar\" style=\"background-color: red; width: 0%\" aria-valuenow=\"0\" aria-valuemin=\"0\" aria-valuemax=\"100\"></div>\n",
       "</div>\n"
      ]
     },
     "metadata": {},
     "output_type": "display_data"
    },
    {
     "data": {
      "text/html": [
       "<div>\n",
       "  <span style=\"float: left;\">take at cmd40.sc:1</span>\n",
       "</div>\n"
      ]
     },
     "metadata": {},
     "output_type": "display_data"
    },
    {
     "data": {
      "text/html": [
       "<div class=\"progress\">\n",
       "  <div class=\"progress-bar\" role=\"progressbar\" style=\"background-color: blue; width: 100%; word-wrap: normal; white-space: nowrap; text-align: center; color: white\" aria-valuenow=\"100\" aria-valuemin=\"0\" aria-valuemax=\"100\">\n",
       "    7 / 7\n",
       "  </div>\n",
       "  <div class=\"progress-bar\" role=\"progressbar\" style=\"background-color: red; width: 0%\" aria-valuenow=\"0\" aria-valuemin=\"0\" aria-valuemax=\"100\"></div>\n",
       "</div>\n"
      ]
     },
     "metadata": {},
     "output_type": "display_data"
    },
    {
     "data": {
      "text/html": [
       "<div>\n",
       "  <span style=\"float: left;\">take at cmd40.sc:1</span>\n",
       "</div>\n"
      ]
     },
     "metadata": {},
     "output_type": "display_data"
    },
    {
     "data": {
      "text/html": [
       "<div class=\"progress\">\n",
       "  <div class=\"progress-bar\" role=\"progressbar\" style=\"background-color: blue; width: 100%; word-wrap: normal; white-space: nowrap; text-align: center; color: white\" aria-valuenow=\"100\" aria-valuemin=\"0\" aria-valuemax=\"100\">\n",
       "    7 / 7\n",
       "  </div>\n",
       "  <div class=\"progress-bar\" role=\"progressbar\" style=\"background-color: red; width: 0%\" aria-valuenow=\"0\" aria-valuemin=\"0\" aria-valuemax=\"100\"></div>\n",
       "</div>\n"
      ]
     },
     "metadata": {},
     "output_type": "display_data"
    },
    {
     "data": {
      "text/html": [
       "<div>\n",
       "  <span style=\"float: left;\">take at cmd40.sc:1</span>\n",
       "</div>\n"
      ]
     },
     "metadata": {},
     "output_type": "display_data"
    },
    {
     "data": {
      "text/html": [
       "<div class=\"progress\">\n",
       "  <div class=\"progress-bar\" role=\"progressbar\" style=\"background-color: blue; width: 100%; word-wrap: normal; white-space: nowrap; text-align: center; color: white\" aria-valuenow=\"100\" aria-valuemin=\"0\" aria-valuemax=\"100\">\n",
       "    7 / 7\n",
       "  </div>\n",
       "  <div class=\"progress-bar\" role=\"progressbar\" style=\"background-color: red; width: 0%\" aria-valuenow=\"0\" aria-valuemin=\"0\" aria-valuemax=\"100\"></div>\n",
       "</div>\n"
      ]
     },
     "metadata": {},
     "output_type": "display_data"
    },
    {
     "data": {
      "text/html": [
       "<div>\n",
       "  <span style=\"float: left;\">take at cmd40.sc:1</span>\n",
       "</div>\n"
      ]
     },
     "metadata": {},
     "output_type": "display_data"
    },
    {
     "data": {
      "text/html": [
       "<div class=\"progress\">\n",
       "  <div class=\"progress-bar\" role=\"progressbar\" style=\"background-color: blue; width: 100%; word-wrap: normal; white-space: nowrap; text-align: center; color: white\" aria-valuenow=\"100\" aria-valuemin=\"0\" aria-valuemax=\"100\">\n",
       "    7 / 7\n",
       "  </div>\n",
       "  <div class=\"progress-bar\" role=\"progressbar\" style=\"background-color: red; width: 0%\" aria-valuenow=\"0\" aria-valuemin=\"0\" aria-valuemax=\"100\"></div>\n",
       "</div>\n"
      ]
     },
     "metadata": {},
     "output_type": "display_data"
    },
    {
     "data": {
      "text/html": [
       "<div>\n",
       "  <span style=\"float: left;\">take at cmd40.sc:1</span>\n",
       "</div>\n"
      ]
     },
     "metadata": {},
     "output_type": "display_data"
    },
    {
     "data": {
      "text/html": [
       "<div class=\"progress\">\n",
       "  <div class=\"progress-bar\" role=\"progressbar\" style=\"background-color: blue; width: 100%; word-wrap: normal; white-space: nowrap; text-align: center; color: white\" aria-valuenow=\"100\" aria-valuemin=\"0\" aria-valuemax=\"100\">\n",
       "    7 / 7\n",
       "  </div>\n",
       "  <div class=\"progress-bar\" role=\"progressbar\" style=\"background-color: red; width: 0%\" aria-valuenow=\"0\" aria-valuemin=\"0\" aria-valuemax=\"100\"></div>\n",
       "</div>\n"
      ]
     },
     "metadata": {},
     "output_type": "display_data"
    },
    {
     "data": {
      "text/html": [
       "<div>\n",
       "  <span style=\"float: left;\">take at cmd40.sc:1</span>\n",
       "</div>\n"
      ]
     },
     "metadata": {},
     "output_type": "display_data"
    },
    {
     "data": {
      "text/html": [
       "<div class=\"progress\">\n",
       "  <div class=\"progress-bar\" role=\"progressbar\" style=\"background-color: blue; width: 100%; word-wrap: normal; white-space: nowrap; text-align: center; color: white\" aria-valuenow=\"100\" aria-valuemin=\"0\" aria-valuemax=\"100\">\n",
       "    7 / 7\n",
       "  </div>\n",
       "  <div class=\"progress-bar\" role=\"progressbar\" style=\"background-color: red; width: 0%\" aria-valuenow=\"0\" aria-valuemin=\"0\" aria-valuemax=\"100\"></div>\n",
       "</div>\n"
      ]
     },
     "metadata": {},
     "output_type": "display_data"
    },
    {
     "name": "stdout",
     "output_type": "stream",
     "text": [
      "1.4987659460161817\n",
      "-0.9583902356067575\n",
      "1.403251715286524\n",
      "1.7642169398439895\n",
      "1.4076024252456056\n",
      "-0.8736799818533338\n",
      "1.270501642148402\n",
      "-2.5506712028324956\n",
      "-0.01469839310581298\n",
      "-0.836941884205521\n",
      "-0.7021291696202776\n",
      "-0.5871101639263723\n",
      "-0.12493311048896202\n",
      "-0.7469050615943139\n",
      "1.676293960076117\n",
      "-2.1027570388671952\n",
      "-0.9594953000247992\n",
      "1.1163371524515604\n",
      "-2.370702725108184\n",
      "-0.6900165123544217\n",
      "-2.3939748501512166\n",
      "0.44284714086021515\n",
      "-1.9834050510712578\n",
      "-0.010589590971766455\n",
      "1.832053772147532\n",
      "0.6271917226503412\n",
      "-1.3317160771397554\n",
      "-1.454672696435523\n",
      "1.019190975397314\n",
      "0.01489202388535582\n",
      "-0.07212621590129081\n",
      "-1.7853951282973\n",
      "1.4131805092372387\n",
      "-0.8264452277798662\n",
      "0.7516737667923108\n",
      "-1.4055108052784504\n",
      "1.82309802226081\n",
      "-1.594588411978099\n",
      "2.807836134039267\n",
      "-0.3255152736303091\n",
      "-0.985787622007345\n",
      "0.9846546899375344\n",
      "1.3895283574490214\n",
      "-1.0374206198024047\n",
      "1.8768659729028192\n",
      "-0.24535116665387552\n",
      "3.518002175282364\n",
      "1.5486044117786215\n",
      "0.34412681544995294\n",
      "-1.5597867544521047\n"
     ]
    }
   ],
   "source": [
    "projected.rows.take(50).foreach(row => println(row.toArray.head))"
   ]
  },
  {
   "cell_type": "code",
   "execution_count": null,
   "id": "89a6c787-7547-456e-9cd1-834532b7fb9d",
   "metadata": {},
   "outputs": [],
   "source": []
  }
 ],
 "metadata": {
  "kernelspec": {
   "display_name": "Scala",
   "language": "scala",
   "name": "scala"
  },
  "language_info": {
   "codemirror_mode": "text/x-scala",
   "file_extension": ".sc",
   "mimetype": "text/x-scala",
   "name": "scala",
   "nbconvert_exporter": "script",
   "version": "2.12.15"
  }
 },
 "nbformat": 4,
 "nbformat_minor": 5
}
